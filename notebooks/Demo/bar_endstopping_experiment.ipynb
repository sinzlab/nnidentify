{
 "cells": [
  {
   "cell_type": "code",
   "execution_count": 1,
   "metadata": {},
   "outputs": [
    {
     "name": "stdout",
     "output_type": "stream",
     "text": [
      "Connecting pawelp@134.2.168.16:3306\n"
     ]
    }
   ],
   "source": [
    "%load_ext autoreload\n",
    "%autoreload 2\n",
    "\n",
    "import datajoint as dj\n",
    "dj.config[\"enable_python_native_blobs\"] = True\n",
    "dj.config['nnfabrik.schema_name'] = \"nnfabrik_monkey_mei\"\n",
    "schema = dj.schema(\"nnfabrik_monkey_mei\")\n",
    "\n",
    "import os\n",
    "from os import listdir\n",
    "from os.path import isfile, join\n",
    "\n",
    "import torch\n",
    "import numpy as np\n",
    "import pickle \n",
    "import time\n",
    "import matplotlib.pyplot as plt\n",
    "import seaborn as sns\n",
    "\n",
    "import nnfabrik\n",
    "from nnfabrik import main, builder\n",
    "from nnfabrik.main import *\n",
    "\n",
    "import nnvision\n",
    "from nnvision.tables.from_nnfabrik import TrainedModel"
   ]
  },
  {
   "cell_type": "code",
   "execution_count": 3,
   "metadata": {},
   "outputs": [],
   "source": [
    "# nnfabrik main\n",
    "from nnvision.tables.legacy.main import MonkeyExperiment\n",
    "from nnvision.tables.legacy.from_mei import TrainedEnsembleModel, MEIMethod, MEITemplate\n",
    "\n",
    "@schema\n",
    "class MEI_update(MEITemplate):\n",
    "    trained_model_table = TrainedEnsembleModel\n",
    "    selector_table = MonkeyExperiment.Units"
   ]
  },
  {
   "cell_type": "code",
   "execution_count": 4,
   "metadata": {},
   "outputs": [],
   "source": [
    "# parameters\n",
    "dataset_hash='a737408da40cfedd036c2eb1b8a31ff1'\n",
    "ensemble_hash='e7a8d0b961ee37ffda0779bfed95f1cf'\n",
    "\n",
    "data_key='3631807112901'"
   ]
  },
  {
   "cell_type": "code",
   "execution_count": 5,
   "metadata": {},
   "outputs": [],
   "source": [
    "# get the model \n",
    "model_key = (TrainedModel * TrainedEnsembleModel.Member() & dict(ensemble_hash=ensemble_hash)).fetch(\"KEY\", limit=1, order_by=\"score DESC\")\n",
    "model = TrainedModel().load_model(model_key, include_dataloader=False)\n",
    "model.eval()\n",
    "\n",
    "# model readout coordinates from -1, 1 \n",
    "model_readout_pos = model.readout[data_key].grid  # needs to be converted to canvas size by min-max-normalization"
   ]
  },
  {
   "cell_type": "code",
   "execution_count": 6,
   "metadata": {},
   "outputs": [],
   "source": [
    "n_units = model.readout[data_key].outdims  # number of model neurons \n",
    "total_trials = 30                          # for optimization\n",
    "\n",
    "unit_idx = 27                              # arbitrary model neuron\n",
    "unit_id = 28\n",
    "\n",
    "# image dimensions:\n",
    "h, w = 41, 41"
   ]
  },
  {
   "cell_type": "markdown",
   "metadata": {},
   "source": [
    "# Toy Experiment Bar Stimulus (\"End-stopping\")"
   ]
  },
  {
   "cell_type": "code",
   "execution_count": 7,
   "metadata": {},
   "outputs": [],
   "source": [
    "import insilico_stimuli\n",
    "from insilico_stimuli.stimuli import *\n",
    "from insilico_stimuli.parameters import *"
   ]
  },
  {
   "cell_type": "code",
   "execution_count": 8,
   "metadata": {},
   "outputs": [],
   "source": [
    "unit_idx = 27\n",
    "\n",
    "# specify parameter set\n",
    "bar_set = BarsSet(canvas_size = [w, h], \n",
    "                  locations = UniformRange([[8.0, 32.0], [8.0, 32.0]]), \n",
    "                  lengths = FiniteParameter([float(val) for val in range(12, 30)]), \n",
    "                  widths = FiniteParameter([float(val) for val in range(4, 12)]), \n",
    "                  contrasts = UniformRange([-1.0, 1.0]), \n",
    "                  orientations = UniformRange([0.0, np.pi]), \n",
    "                  grey_levels = FiniteParameter([0.0]))"
   ]
  },
  {
   "cell_type": "code",
   "execution_count": 9,
   "metadata": {},
   "outputs": [
    {
     "name": "stderr",
     "output_type": "stream",
     "text": [
      "[INFO 11-18 18:51:38] ax.service.utils.instantiation: Inferred value type of ParameterType.FLOAT for parameter location_width. If that is not the expected value type, you can explicity specify 'value_type' ('int', 'float', 'bool' or 'str') in parameter dict.\n",
      "[INFO 11-18 18:51:38] ax.service.utils.instantiation: Inferred value type of ParameterType.FLOAT for parameter location_height. If that is not the expected value type, you can explicity specify 'value_type' ('int', 'float', 'bool' or 'str') in parameter dict.\n",
      "[INFO 11-18 18:51:38] ax.service.utils.instantiation: Inferred value type of ParameterType.FLOAT for parameter length. If that is not the expected value type, you can explicity specify 'value_type' ('int', 'float', 'bool' or 'str') in parameter dict.\n",
      "[INFO 11-18 18:51:38] ax.service.utils.instantiation: Inferred value type of ParameterType.FLOAT for parameter width. If that is not the expected value type, you can explicity specify 'value_type' ('int', 'float', 'bool' or 'str') in parameter dict.\n",
      "[INFO 11-18 18:51:38] ax.service.utils.instantiation: Inferred value type of ParameterType.FLOAT for parameter contrast. If that is not the expected value type, you can explicity specify 'value_type' ('int', 'float', 'bool' or 'str') in parameter dict.\n",
      "[INFO 11-18 18:51:38] ax.service.utils.instantiation: Inferred value type of ParameterType.FLOAT for parameter orientation. If that is not the expected value type, you can explicity specify 'value_type' ('int', 'float', 'bool' or 'str') in parameter dict.\n",
      "[INFO 11-18 18:51:38] ax.modelbridge.dispatch_utils: Using Sobol generation strategy.\n",
      "[INFO 11-18 18:51:38] ax.service.managed_loop: Started full optimization with 30 steps.\n",
      "[INFO 11-18 18:51:38] ax.service.managed_loop: Running optimization trial 1...\n",
      "[INFO 11-18 18:51:38] ax.service.managed_loop: Running optimization trial 2...\n",
      "[INFO 11-18 18:51:38] ax.service.managed_loop: Running optimization trial 3...\n",
      "[INFO 11-18 18:51:39] ax.service.managed_loop: Running optimization trial 4...\n",
      "[INFO 11-18 18:51:39] ax.service.managed_loop: Running optimization trial 5...\n",
      "[INFO 11-18 18:51:39] ax.service.managed_loop: Running optimization trial 6...\n",
      "[INFO 11-18 18:51:39] ax.service.managed_loop: Running optimization trial 7...\n",
      "[INFO 11-18 18:51:39] ax.service.managed_loop: Running optimization trial 8...\n",
      "[INFO 11-18 18:51:39] ax.service.managed_loop: Running optimization trial 9...\n",
      "[INFO 11-18 18:51:39] ax.service.managed_loop: Running optimization trial 10...\n",
      "[INFO 11-18 18:51:39] ax.service.managed_loop: Running optimization trial 11...\n",
      "[INFO 11-18 18:51:40] ax.service.managed_loop: Running optimization trial 12...\n",
      "[INFO 11-18 18:51:40] ax.service.managed_loop: Running optimization trial 13...\n",
      "[INFO 11-18 18:51:40] ax.service.managed_loop: Running optimization trial 14...\n",
      "[INFO 11-18 18:51:40] ax.service.managed_loop: Running optimization trial 15...\n",
      "[INFO 11-18 18:51:40] ax.service.managed_loop: Running optimization trial 16...\n",
      "[INFO 11-18 18:51:40] ax.service.managed_loop: Running optimization trial 17...\n",
      "[INFO 11-18 18:51:40] ax.service.managed_loop: Running optimization trial 18...\n",
      "[INFO 11-18 18:51:40] ax.service.managed_loop: Running optimization trial 19...\n",
      "[INFO 11-18 18:51:40] ax.service.managed_loop: Running optimization trial 20...\n",
      "[INFO 11-18 18:51:41] ax.service.managed_loop: Running optimization trial 21...\n",
      "[INFO 11-18 18:51:41] ax.service.managed_loop: Running optimization trial 22...\n",
      "[INFO 11-18 18:51:41] ax.service.managed_loop: Running optimization trial 23...\n",
      "[INFO 11-18 18:51:41] ax.service.managed_loop: Running optimization trial 24...\n",
      "[INFO 11-18 18:51:41] ax.service.managed_loop: Running optimization trial 25...\n",
      "[INFO 11-18 18:51:41] ax.service.managed_loop: Running optimization trial 26...\n",
      "[INFO 11-18 18:51:41] ax.service.managed_loop: Running optimization trial 27...\n",
      "[INFO 11-18 18:51:42] ax.service.managed_loop: Running optimization trial 28...\n",
      "[INFO 11-18 18:51:42] ax.service.managed_loop: Running optimization trial 29...\n",
      "[INFO 11-18 18:51:42] ax.service.managed_loop: Running optimization trial 30...\n"
     ]
    }
   ],
   "source": [
    "# Find optimal bar for given neuron\n",
    "params, vals = bar_set.find_optimal_stimulus(model, data_key, unit_idx)"
   ]
  },
  {
   "cell_type": "code",
   "execution_count": 10,
   "metadata": {},
   "outputs": [
    {
     "data": {
      "text/plain": [
       "<matplotlib.image.AxesImage at 0x7f6de0351ca0>"
      ]
     },
     "execution_count": 10,
     "metadata": {},
     "output_type": "execute_result"
    },
    {
     "data": {
      "image/png": "[encoded data removed]",
      "text/plain": [
       "<Figure size 432x288 with 1 Axes>"
      ]
     },
     "metadata": {
      "needs_background": "light"
     },
     "output_type": "display_data"
    }
   ],
   "source": [
    "# plot optimal bar stimulus\n",
    "img = bar_set.get_image_from_params(params)\n",
    "plt.imshow(img, cmap=\"gray\", vmin=-1, vmax=1)"
   ]
  },
  {
   "cell_type": "code",
   "execution_count": 12,
   "metadata": {},
   "outputs": [],
   "source": [
    "# Tuning curves for bar length\n",
    "length_values = list(range(8, 36))[::2]\n",
    "\n",
    "bar_set_length = BarsSet(canvas_size = [w, h], \n",
    "                         locations = FiniteParameter([[params['location_width'], params['location_height']]]),\n",
    "                         lengths = FiniteParameter(length_values), \n",
    "                         widths = FiniteParameter([params['width']]), \n",
    "                         contrasts = FiniteParameter([params['contrast']]), \n",
    "                         orientations = FiniteParameter([params['orientation']]),  \n",
    "                         grey_levels = FiniteParameter([params['grey_level']])) "
   ]
  },
  {
   "cell_type": "code",
   "execution_count": 13,
   "metadata": {},
   "outputs": [],
   "source": [
    "# Plaids Experiment - Show images to model neurons\n",
    "\n",
    "activations_unit = np.array([])\n",
    "\n",
    "# show the stimuli with varying orientation to the model and store its response \n",
    "unit_name = \"unit_\" + str(unit_idx)\n",
    "for batch in bar_set_length.image_batches(batch_size=100):\n",
    "    images_batch = np.expand_dims(batch, axis=1)\n",
    "    images_batch = torch.tensor(images_batch).float()\n",
    "    activations_batch = model(images_batch, data_key=data_key).detach().numpy().squeeze()[:, unit_idx]\n",
    "    activations_unit = np.hstack([activations_unit, activations_batch])"
   ]
  },
  {
   "cell_type": "code",
   "execution_count": 14,
   "metadata": {},
   "outputs": [
    {
     "data": {
      "text/plain": [
       "Text(0.5, 1.0, 'Length Tuning - Bar Stimulus')"
      ]
     },
     "execution_count": 14,
     "metadata": {},
     "output_type": "execute_result"
    },
    {
     "data": {
      "image/png": "[encoded data removed]",
      "text/plain": [
       "<Figure size 432x288 with 1 Axes>"
      ]
     },
     "metadata": {
      "needs_background": "light"
     },
     "output_type": "display_data"
    }
   ],
   "source": [
    "# tuning curve\n",
    "plt.plot(length_values, activations_unit, '.-b')\n",
    "plt.ylabel(\"activations\")\n",
    "plt.xlabel('length in pxls')\n",
    "plt.title(\"Length Tuning - Bar Stimulus\")"
   ]
  },
  {
   "cell_type": "code",
   "execution_count": 15,
   "metadata": {},
   "outputs": [
    {
     "data": {
      "image/png": "[encoded data removed]",
      "text/plain": [
       "<Figure size 720x360 with 14 Axes>"
      ]
     },
     "metadata": {
      "needs_background": "light"
     },
     "output_type": "display_data"
    }
   ],
   "source": [
    "plt.figure(figsize=(10, 5))\n",
    "\n",
    "for i, img in enumerate(bar_set_length.images()):\n",
    "    plt.subplot(5, 4, i + 1)\n",
    "    plt.imshow(img, cmap='gray', vmin=-1, vmax=1)\n",
    "    plt.axis('off')"
   ]
  },
  {
   "cell_type": "code",
   "execution_count": null,
   "metadata": {},
   "outputs": [],
   "source": []
  }
 ],
 "metadata": {
  "kernelspec": {
   "display_name": "Python 3",
   "language": "python",
   "name": "python3"
  },
  "language_info": {
   "codemirror_mode": {
    "name": "ipython",
    "version": 3
   },
   "file_extension": ".py",
   "mimetype": "text/x-python",
   "name": "python",
   "nbconvert_exporter": "python",
   "pygments_lexer": "ipython3",
   "version": "3.8.0"
  }
 },
 "nbformat": 4,
 "nbformat_minor": 4
}