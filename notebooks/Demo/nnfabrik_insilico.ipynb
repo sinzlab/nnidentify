{
 "cells": [
  {
   "cell_type": "code",
   "execution_count": 1,
   "metadata": {},
   "outputs": [
    {
     "name": "stdout",
     "output_type": "stream",
     "text": [
      "Connecting kwilleke@134.2.168.16:3306\n"
     ]
    }
   ],
   "source": [
    "%load_ext autoreload\n",
    "%autoreload 2\n",
    "\n",
    "import datajoint as dj\n",
    "dj.config[\"enable_python_native_blobs\"] = True\n",
    "dj.config['nnfabrik.schema_name'] = \"nnfabrik_monkey_mei\"\n",
    "schema = dj.schema(\"nnfabrik_monkey_mei\")\n",
    "\n",
    "import os\n",
    "from os import listdir\n",
    "from os.path import isfile, join\n",
    "\n",
    "\n",
    "import torch\n",
    "import numpy as np\n",
    "import pickle \n",
    "import time\n",
    "import matplotlib.pyplot as plt\n",
    "import seaborn as sns\n",
    "\n",
    "import nnfabrik\n",
    "from nnfabrik import main, builder\n",
    "from nnfabrik.main import *\n",
    "\n",
    "import nnvision\n",
    "from nnvision.tables.from_nnfabrik import TrainedModel"
   ]
  },
  {
   "cell_type": "code",
   "execution_count": 2,
   "metadata": {},
   "outputs": [],
   "source": [
    "# nnfabrik main\n",
    "from nnvision.tables.legacy.main import MonkeyExperiment\n",
    "from nnvision.tables.legacy.from_mei import TrainedEnsembleModel, MEIMethod, MEITemplate\n",
    "\n",
    "@schema\n",
    "class MEI_update(MEITemplate):\n",
    "    trained_model_table = TrainedEnsembleModel\n",
    "    selector_table = MonkeyExperiment.Units"
   ]
  },
  {
   "cell_type": "code",
   "execution_count": 3,
   "metadata": {},
   "outputs": [],
   "source": [
    "# parameters\n",
    "\n",
    "dataset_hash='a737408da40cfedd036c2eb1b8a31ff1'\n",
    "ensemble_hash='e7a8d0b961ee37ffda0779bfed95f1cf'\n",
    "\n",
    "data_key='3631807112901'\n",
    "unit_id = 28\n",
    "unit_index = 27\n",
    "\n",
    "# image dimensions:\n",
    "h, w = 41, 41"
   ]
  },
  {
   "cell_type": "code",
   "execution_count": 4,
   "metadata": {},
   "outputs": [
    {
     "name": "stdout",
     "output_type": "stream",
     "text": [
      "data_key: 3631807112901, unit_id = 28, image shape: (41, 41)\n"
     ]
    },
    {
     "data": {
      "image/png": "[encoded data removed]",
      "text/plain": [
       "<Figure size 432x288 with 1 Axes>"
      ]
     },
     "metadata": {
      "needs_background": "light"
     },
     "output_type": "display_data"
    }
   ],
   "source": [
    "# MEI of our example Neuron\n",
    "mei_path = (MEI_update & dict(dataset_hash=dataset_hash, unit_id=unit_id, data_key=data_key)).fetch1(\"mei\")\n",
    "mei = torch.load(mei_path).cpu().numpy().squeeze()\n",
    "plt.imshow(mei, cmap=\"gray\")\n",
    "plt.axis(\"off\");\n",
    "print(f\"data_key: {data_key}, unit_id = {unit_id}, image shape: {mei.shape}\")\n"
   ]
  },
  {
   "cell_type": "markdown",
   "metadata": {},
   "source": [
    "# Loading the Pretrained Model"
   ]
  },
  {
   "cell_type": "code",
   "execution_count": 5,
   "metadata": {},
   "outputs": [
    {
     "name": "stdout",
     "output_type": "stream",
     "text": [
      "Loading images ...\n"
     ]
    }
   ],
   "source": [
    "model_key = (TrainedModel * TrainedEnsembleModel.Member()&dict(ensemble_hash=ensemble_hash)).fetch(\"KEY\", limit=1, order_by=\"score DESC\")\n",
    "dataloaders, model = TrainedModel().load_model(model_key)"
   ]
  },
  {
   "cell_type": "markdown",
   "metadata": {},
   "source": [
    "# Preparing a Input to the Network"
   ]
  },
  {
   "cell_type": "code",
   "execution_count": 22,
   "metadata": {},
   "outputs": [],
   "source": [
    "image = np.ones((h, w))"
   ]
  },
  {
   "cell_type": "code",
   "execution_count": 23,
   "metadata": {},
   "outputs": [
    {
     "name": "stdout",
     "output_type": "stream",
     "text": [
      "torch.Size([1, 1, 41, 41])\n"
     ]
    }
   ],
   "source": [
    "image = torch.tensor(image).expand(1, 1, h, w).float()\n",
    "print(image.shape)"
   ]
  },
  {
   "cell_type": "markdown",
   "metadata": {},
   "source": [
    "# Showing the image to the network"
   ]
  },
  {
   "cell_type": "code",
   "execution_count": 24,
   "metadata": {},
   "outputs": [
    {
     "name": "stdout",
     "output_type": "stream",
     "text": [
      "tensor([[1.0474, 2.8474, 5.1279, 2.0741, 0.1858, 1.8463, 3.5357, 3.2995, 2.3225,\n",
      "         1.4257, 1.1249, 2.2426, 1.0805, 1.6501, 0.7194, 0.3462, 2.5356, 1.8475,\n",
      "         0.8906, 2.2328, 0.7816, 1.2581, 1.5327, 0.6552, 1.7042, 0.1225, 0.0431,\n",
      "         1.1925, 0.2696]], grad_fn=<AddBackward0>)\n"
     ]
    }
   ],
   "source": [
    "output = model(image, data_key=data_key)\n",
    "print(output)"
   ]
  },
  {
   "cell_type": "code",
   "execution_count": 25,
   "metadata": {},
   "outputs": [
    {
     "name": "stdout",
     "output_type": "stream",
     "text": [
      "[1.0474358  2.8474355  5.1279473  2.0741277  0.18582952 1.8463441\n",
      " 3.5356617  3.299451   2.3224761  1.4257125  1.1248758  2.2425804\n",
      " 1.0805346  1.6501459  0.7194471  0.34617746 2.5356102  1.8475382\n",
      " 0.8905892  2.2328274  0.78164965 1.2580583  1.5327289  0.6551535\n",
      " 1.7041793  0.12254584 0.04309911 1.1925447  0.2695554 ]\n"
     ]
    }
   ],
   "source": [
    "output_numpy = output.detach().numpy().squeeze()\n",
    "print(output_numpy)"
   ]
  },
  {
   "cell_type": "markdown",
   "metadata": {},
   "source": [
    "# Get the output of our example Neuron"
   ]
  },
  {
   "cell_type": "code",
   "execution_count": 26,
   "metadata": {},
   "outputs": [
    {
     "data": {
      "text/plain": [
       "1.1925447"
      ]
     },
     "execution_count": 26,
     "metadata": {},
     "output_type": "execute_result"
    }
   ],
   "source": [
    "output_numpy[unit_index]"
   ]
  },
  {
   "cell_type": "markdown",
   "metadata": {},
   "source": [
    "# Get the Outputs of a large number of images all at once"
   ]
  },
  {
   "cell_type": "code",
   "execution_count": 27,
   "metadata": {},
   "outputs": [],
   "source": [
    "images = np.random.randn(100, 1, h, w)\n",
    "images = torch.tensor(images).float()"
   ]
  },
  {
   "cell_type": "code",
   "execution_count": 28,
   "metadata": {},
   "outputs": [
    {
     "name": "stdout",
     "output_type": "stream",
     "text": [
      "(100, 29)\n"
     ]
    }
   ],
   "source": [
    "output = model(images, data_key=data_key).detach().numpy()\n",
    "print(output.shape)\n",
    "# so that means, we have 100 responses for the 100 images, for all 29 neurons of this session"
   ]
  },
  {
   "cell_type": "code",
   "execution_count": null,
   "metadata": {},
   "outputs": [],
   "source": []
  },
  {
   "cell_type": "markdown",
   "metadata": {},
   "source": [
    "# Plotting the response of the example neuron to all of the 100 random images\n"
   ]
  },
  {
   "cell_type": "code",
   "execution_count": 29,
   "metadata": {},
   "outputs": [
    {
     "data": {
      "image/png": "[encoded data removed]",
      "text/plain": [
       "<Figure size 432x288 with 1 Axes>"
      ]
     },
     "metadata": {
      "needs_background": "light"
     },
     "output_type": "display_data"
    }
   ],
   "source": [
    "plt.plot(output[:, unit_index])\n",
    "plt.ylabel(\"firing rate\")\n",
    "plt.xlabel(\"image\")\n",
    "sns.despine(trim=True, offset=5)"
   ]
  },
  {
   "cell_type": "markdown",
   "metadata": {},
   "source": [
    "##### toy insilico experiment done."
   ]
  },
  {
   "cell_type": "code",
   "execution_count": null,
   "metadata": {},
   "outputs": [],
   "source": []
  },
  {
   "cell_type": "code",
   "execution_count": null,
   "metadata": {},
   "outputs": [],
   "source": []
  },
  {
   "cell_type": "code",
   "execution_count": null,
   "metadata": {},
   "outputs": [],
   "source": []
  },
  {
   "cell_type": "code",
   "execution_count": null,
   "metadata": {},
   "outputs": [],
   "source": []
  }
 ],
 "metadata": {
  "kernelspec": {
   "display_name": "Python 3",
   "language": "python",
   "name": "python3"
  },
  "language_info": {
   "codemirror_mode": {
    "name": "ipython",
    "version": 3
   },
   "file_extension": ".py",
   "mimetype": "text/x-python",
   "name": "python",
   "nbconvert_exporter": "python",
   "pygments_lexer": "ipython3",
   "version": "3.8.0"
  },
  "pycharm": {
   "stem_cell": {
    "cell_type": "raw",
    "metadata": {
     "collapsed": false
    },
    "source": []
   }
  }
 },
 "nbformat": 4,
 "nbformat_minor": 4
}