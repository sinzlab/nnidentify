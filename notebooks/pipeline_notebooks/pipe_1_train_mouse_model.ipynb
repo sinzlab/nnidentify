{
 "cells": [
  {
   "cell_type": "code",
   "execution_count": 1,
   "metadata": {},
   "outputs": [
    {
     "name": "stdout",
     "output_type": "stream",
     "text": [
      "Connecting pawelp@134.2.168.16:3306\n"
     ]
    }
   ],
   "source": [
    "%load_ext autoreload\n",
    "%autoreload 2\n",
    "\n",
    "import datajoint as dj\n",
    "dj.config[\"enable_python_native_blobs\"] = True\n",
    "dj.config['nnfabrik.schema_name'] = \"nnfabrik_v1_tuning\"\n",
    "schema = dj.schema(\"nnfabrik_v1_tuning\")\n",
    "\n",
    "from nnfabrik.main import *\n",
    "\n",
    "from nndichromacy.tables.from_mei import TrainedEnsembleModel"
   ]
  },
  {
   "cell_type": "markdown",
   "metadata": {},
   "source": [
    "## Model Setup"
   ]
  },
  {
   "cell_type": "code",
   "execution_count": 3,
   "metadata": {},
   "outputs": [],
   "source": [
    "model_fn = 'nndichromacy.models.se_core_full_gauss_readout'\n",
    "model_config = {'pad_input': False,\n",
    "   'stack': -1,\n",
    "   'layers': 4,\n",
    "   'input_kern': 9,\n",
    "   'gamma_input': 6.3831,\n",
    "   'gamma_readout': 0.0076,\n",
    "   'hidden_dilation': 1,\n",
    "   'hidden_kern': 7,\n",
    "   'hidden_channels': 64,\n",
    "   'n_se_blocks': 0,\n",
    "   'depth_separable': True,\n",
    "   'grid_mean_predictor': {'type': 'cortex',\n",
    "    'input_dimensions': 2,\n",
    "    'hidden_layers': 0,\n",
    "    'hidden_features': 30,\n",
    "    'final_tanh': True},\n",
    "   'share_features': False,\n",
    "   'share_grid': False,\n",
    "   'init_sigma': 0.1,\n",
    "   'init_mu_range': 0.3,\n",
    "   'gauss_type': 'full'\n",
    "}\n",
    "\n",
    "model_config = {'pad_input': False,\n",
    "   'stack': -1,\n",
    "   'layers': 4,\n",
    "   'input_kern': 9,\n",
    "   'gamma_input': 6.3831,\n",
    "   'gamma_readout': 0.0076,\n",
    "   'hidden_dilation': 1,\n",
    "   'hidden_kern': 7,\n",
    "   'hidden_channels': 64,\n",
    "   'n_se_blocks': 0,\n",
    "   'depth_separable': True,\n",
    "   'grid_mean_predictor': None,\n",
    "   'share_features': False,\n",
    "   'share_grid': False,\n",
    "   'init_sigma': 0.1,\n",
    "   'init_mu_range': 0.3,\n",
    "   'gauss_type': 'full'}\n",
    "\n",
    "dataset_fn = 'nndichromacy.datasets.static_loaders'\n",
    "dataset_config = {'paths':['src/data/ImageNet_29767_9_1_all_V1.zip'],\n",
    "    'normalize': True, \n",
    "    'include_behavior': False, \n",
    "    'batch_size': 128, \n",
    "    'file_tree': True,\n",
    "    'areas': ['V1']\n",
    "}\n",
    "\n",
    "trainer_fn = 'nndichromacy.training.standart_trainer'\n",
    "trainer_config = {'max_iter': 100,\n",
    "    'verbose': False,\n",
    "    'lr_decay_steps': 4,\n",
    "    'avg_loss': False,\n",
    "    'lr_init': 0.009\n",
    "}"
   ]
  },
  {
   "cell_type": "markdown",
   "metadata": {},
   "source": [
    "## Input Missing Entries"
   ]
  },
  {
   "cell_type": "code",
   "execution_count": 4,
   "metadata": {},
   "outputs": [
    {
     "name": "stderr",
     "output_type": "stream",
     "text": [
      "/src/nnfabrik/nnfabrik/main.py:173: UserWarning: Corresponding entry found. Skipping...\n",
      "  warnings.warn(\"Corresponding entry found. Skipping...\")\n",
      "/src/nnfabrik/nnfabrik/main.py:407: UserWarning: Corresponding entry found. Skipping...\n",
      "  warnings.warn(\"Corresponding entry found. Skipping...\")\n"
     ]
    }
   ],
   "source": [
    "added_dataset = Dataset().add_entry(dataset_fn, dataset_config, dataset_comment='static22564-2-12 full path', skip_duplicates=True)\n",
    "added_model = Model().add_entry(model_fn, model_config, model_comment='Best Color Model, no shifter, FullGaussianReadout', skip_duplicates=True)\n",
    "added_trainer = Trainer().add_entry(trainer_fn, trainer_config, trainer_comment=\"max_iter: 100\", skip_duplicates=True)"
   ]
  },
  {
   "cell_type": "markdown",
   "metadata": {},
   "source": [
    "## Extract Necessary Hashes"
   ]
  },
  {
   "cell_type": "code",
   "execution_count": 5,
   "metadata": {},
   "outputs": [
    {
     "name": "stdout",
     "output_type": "stream",
     "text": [
      "dataset  {'dataset_fn': 'nndichromacy.datasets.static_loaders', 'dataset_hash': '72930dd1be6c229df4be82f74803262c'}\n",
      "model    {'model_fn': 'nndichromacy.models.se_core_full_gauss_readout', 'model_hash': 'fa56487e5ead382e5ee64b0096c20043'}\n",
      "trainer  {'trainer_fn': 'nndichromacy.training.standart_trainer', 'trainer_hash': 'b4c0c7c93781ae3aa4b502cc9c925b82'}\n"
     ]
    }
   ],
   "source": [
    "print(f'{\"dataset\":<8}', added_dataset)\n",
    "print(f'{\"model\":<8}', added_model)\n",
    "print(f'{\"trainer\":<8}', added_trainer)"
   ]
  },
  {
   "cell_type": "markdown",
   "metadata": {},
   "source": [
    "## Run this as run.py on the compute server"
   ]
  },
  {
   "cell_type": "code",
   "execution_count": 52,
   "metadata": {},
   "outputs": [
    {
     "name": "stdout",
     "output_type": "stream",
     "text": [
      "Overwriting run_scripts/train_model_run.py\n"
     ]
    }
   ],
   "source": [
    "%%writefile run_scripts/train_model_run.py\n",
    "\n",
    "import datajoint as dj\n",
    "dj.config[\"enable_python_native_blobs\"] = True\n",
    "dj.config['nnfabrik.schema_name'] = \"nnfabrik_v1_tuning\"\n",
    "schema = dj.schema(\"nnfabrik_v1_tuning\")\n",
    "\n",
    "from nndichromacy.tables.from_nnfabrik import TrainedModel\n",
    "\n",
    "model_training_key = []\n",
    "for seed in range(1000, 6000):\n",
    "    model_training_key.append({\n",
    "        'trainer_hash': 'b4c0c7c93781ae3aa4b502cc9c925b82', # Set trainer hash\n",
    "        'model_hash': 'fa56487e5ead382e5ee64b0096c20043', # Set model hash\n",
    "        'dataset_hash': '72930dd1be6c229df4be82f74803262c', # Set dataset hash\n",
    "        'seed': seed\n",
    "    })\n",
    "\n",
    "TrainedModel.populate(model_training_key, reserve_jobs=True, display_progress=True)"
   ]
  },
  {
   "cell_type": "markdown",
   "source": [
    "### Check the number of jobs running for training of models and optimisation of gabors/meis"
   ],
   "metadata": {
    "collapsed": false,
    "pycharm": {
     "name": "#%% md\n"
    }
   }
  },
  {
   "cell_type": "code",
   "execution_count": 9,
   "metadata": {},
   "outputs": [
    {
     "data": {
      "text/html": [
       "\n",
       "        \n",
       "        <style type=\"text/css\">\n",
       "            .Relation{\n",
       "                border-collapse:collapse;\n",
       "            }\n",
       "            .Relation th{\n",
       "                background: #A0A0A0; color: #ffffff; padding:4px; border:#f0e0e0 1px solid;\n",
       "                font-weight: normal; font-family: monospace; font-size: 100%;\n",
       "            }\n",
       "            .Relation td{\n",
       "                padding:4px; border:#f0e0e0 1px solid; font-size:100%;\n",
       "            }\n",
       "            .Relation tr:nth-child(odd){\n",
       "                background: #ffffff;\n",
       "            }\n",
       "            .Relation tr:nth-child(even){\n",
       "                background: #f3f1ff;\n",
       "            }\n",
       "            /* Tooltip container */\n",
       "            .djtooltip {\n",
       "            }\n",
       "            /* Tooltip text */\n",
       "            .djtooltip .djtooltiptext {\n",
       "                visibility: hidden;\n",
       "                width: 120px;\n",
       "                background-color: black;\n",
       "                color: #fff;\n",
       "                text-align: center;\n",
       "                padding: 5px 0;\n",
       "                border-radius: 6px;\n",
       "                /* Position the tooltip text - see examples below! */\n",
       "                position: absolute;\n",
       "                z-index: 1;\n",
       "            }\n",
       "            #primary {\n",
       "                font-weight: bold;\n",
       "                color: black;\n",
       "            }\n",
       "\n",
       "            #nonprimary {\n",
       "                font-weight: normal;\n",
       "                color: white;\n",
       "            }\n",
       "\n",
       "            /* Show the tooltip text when you mouse over the tooltip container */\n",
       "            .djtooltip:hover .djtooltiptext {\n",
       "                visibility: visible;\n",
       "            }\n",
       "        </style>\n",
       "        \n",
       "        <b>job reservation table for `nnfabrik_v1_tuning`</b>\n",
       "            <div style=\"max-height:1000px;max-width:1500px;overflow:auto;\">\n",
       "            <table border=\"1\" class=\"Relation\">\n",
       "                <thead> <tr style=\"text-align: right;\"> <th> <div class=\"djtooltip\">\n",
       "                                <p id=\"primary\">table_name</p>\n",
       "                                <span class=\"djtooltiptext\">className of the table</span>\n",
       "                            </div></th><th><div class=\"djtooltip\">\n",
       "                                <p id=\"primary\">key_hash</p>\n",
       "                                <span class=\"djtooltiptext\">key hash</span>\n",
       "                            </div></th><th><div class=\"djtooltip\">\n",
       "                                <p id=\"nonprimary\">status</p>\n",
       "                                <span class=\"djtooltiptext\">if tuple is missing, the job is available</span>\n",
       "                            </div></th><th><div class=\"djtooltip\">\n",
       "                                <p id=\"nonprimary\">key</p>\n",
       "                                <span class=\"djtooltiptext\">structure containing the key</span>\n",
       "                            </div></th><th><div class=\"djtooltip\">\n",
       "                                <p id=\"nonprimary\">error_message</p>\n",
       "                                <span class=\"djtooltiptext\">error message returned if failed</span>\n",
       "                            </div></th><th><div class=\"djtooltip\">\n",
       "                                <p id=\"nonprimary\">error_stack</p>\n",
       "                                <span class=\"djtooltiptext\">error stack if failed</span>\n",
       "                            </div></th><th><div class=\"djtooltip\">\n",
       "                                <p id=\"nonprimary\">user</p>\n",
       "                                <span class=\"djtooltiptext\">database user</span>\n",
       "                            </div></th><th><div class=\"djtooltip\">\n",
       "                                <p id=\"nonprimary\">host</p>\n",
       "                                <span class=\"djtooltiptext\">system hostname</span>\n",
       "                            </div></th><th><div class=\"djtooltip\">\n",
       "                                <p id=\"nonprimary\">pid</p>\n",
       "                                <span class=\"djtooltiptext\">system process id</span>\n",
       "                            </div></th><th><div class=\"djtooltip\">\n",
       "                                <p id=\"nonprimary\">connection_id</p>\n",
       "                                <span class=\"djtooltiptext\">connection_id()</span>\n",
       "                            </div></th><th><div class=\"djtooltip\">\n",
       "                                <p id=\"nonprimary\">timestamp</p>\n",
       "                                <span class=\"djtooltiptext\">automatic timestamp</span>\n",
       "                            </div> </th> </tr> </thead>\n",
       "                <tbody> <tr>  </tr> </tbody>\n",
       "            </table>\n",
       "            \n",
       "            <p>Total: 0</p></div>\n",
       "            "
      ],
      "text/plain": [
       "*table_name    *key_hash    status     key        error_message  error_stac user     host     pid     connection_id  timestamp    \n",
       "+------------+ +----------+ +--------+ +--------+ +------------+ +--------+ +------+ +------+ +-----+ +------------+ +-----------+\n",
       "\n",
       " (Total: 0)"
      ]
     },
     "execution_count": 9,
     "metadata": {},
     "output_type": "execute_result"
    }
   ],
   "source": [
    "schema.jobs"
   ]
  },
  {
   "cell_type": "markdown",
   "source": [
    "### Create ensembles"
   ],
   "metadata": {
    "collapsed": false,
    "pycharm": {
     "name": "#%% md\n"
    }
   }
  },
  {
   "cell_type": "code",
   "execution_count": 12,
   "metadata": {},
   "outputs": [],
   "source": [
    "model_training_key = []\n",
    "for seed in range(1000, 6000):\n",
    "    model_training_key.append({\n",
    "        'trainer_hash': 'b4c0c7c93781ae3aa4b502cc9c925b82', # Set trainer hash\n",
    "        'model_hash': 'fa56487e5ead382e5ee64b0096c20043', # Set model hash\n",
    "        'dataset_hash': '72930dd1be6c229df4be82f74803262c', # Set dataset hash\n",
    "        'seed': seed\n",
    "    })"
   ]
  },
  {
   "cell_type": "code",
   "execution_count": 13,
   "metadata": {},
   "outputs": [
    {
     "data": {
      "text/html": [
       "\n",
       "        \n",
       "        <style type=\"text/css\">\n",
       "            .Relation{\n",
       "                border-collapse:collapse;\n",
       "            }\n",
       "            .Relation th{\n",
       "                background: #A0A0A0; color: #ffffff; padding:4px; border:#f0e0e0 1px solid;\n",
       "                font-weight: normal; font-family: monospace; font-size: 100%;\n",
       "            }\n",
       "            .Relation td{\n",
       "                padding:4px; border:#f0e0e0 1px solid; font-size:100%;\n",
       "            }\n",
       "            .Relation tr:nth-child(odd){\n",
       "                background: #ffffff;\n",
       "            }\n",
       "            .Relation tr:nth-child(even){\n",
       "                background: #f3f1ff;\n",
       "            }\n",
       "            /* Tooltip container */\n",
       "            .djtooltip {\n",
       "            }\n",
       "            /* Tooltip text */\n",
       "            .djtooltip .djtooltiptext {\n",
       "                visibility: hidden;\n",
       "                width: 120px;\n",
       "                background-color: black;\n",
       "                color: #fff;\n",
       "                text-align: center;\n",
       "                padding: 5px 0;\n",
       "                border-radius: 6px;\n",
       "                /* Position the tooltip text - see examples below! */\n",
       "                position: absolute;\n",
       "                z-index: 1;\n",
       "            }\n",
       "            #primary {\n",
       "                font-weight: bold;\n",
       "                color: black;\n",
       "            }\n",
       "\n",
       "            #nonprimary {\n",
       "                font-weight: normal;\n",
       "                color: white;\n",
       "            }\n",
       "\n",
       "            /* Show the tooltip text when you mouse over the tooltip container */\n",
       "            .djtooltip:hover .djtooltiptext {\n",
       "                visibility: visible;\n",
       "            }\n",
       "        </style>\n",
       "        \n",
       "        <b>Trained models</b>\n",
       "            <div style=\"max-height:1000px;max-width:1500px;overflow:auto;\">\n",
       "            <table border=\"1\" class=\"Relation\">\n",
       "                <thead> <tr style=\"text-align: right;\"> <th> <div class=\"djtooltip\">\n",
       "                                <p id=\"primary\">model_fn</p>\n",
       "                                <span class=\"djtooltiptext\">name of the model function</span>\n",
       "                            </div></th><th><div class=\"djtooltip\">\n",
       "                                <p id=\"primary\">model_hash</p>\n",
       "                                <span class=\"djtooltiptext\">hash of the model configuration</span>\n",
       "                            </div></th><th><div class=\"djtooltip\">\n",
       "                                <p id=\"primary\">dataset_fn</p>\n",
       "                                <span class=\"djtooltiptext\">name of the dataset loader function</span>\n",
       "                            </div></th><th><div class=\"djtooltip\">\n",
       "                                <p id=\"primary\">dataset_hash</p>\n",
       "                                <span class=\"djtooltiptext\">hash of the configuration object</span>\n",
       "                            </div></th><th><div class=\"djtooltip\">\n",
       "                                <p id=\"primary\">trainer_fn</p>\n",
       "                                <span class=\"djtooltiptext\">name of the Trainer loader function</span>\n",
       "                            </div></th><th><div class=\"djtooltip\">\n",
       "                                <p id=\"primary\">trainer_hash</p>\n",
       "                                <span class=\"djtooltiptext\">hash of the configuration object</span>\n",
       "                            </div></th><th><div class=\"djtooltip\">\n",
       "                                <p id=\"primary\">seed</p>\n",
       "                                <span class=\"djtooltiptext\">Random seed that is passed to the model- and dataset-builder</span>\n",
       "                            </div></th><th><div class=\"djtooltip\">\n",
       "                                <p id=\"nonprimary\">comment</p>\n",
       "                                <span class=\"djtooltiptext\">short description</span>\n",
       "                            </div></th><th><div class=\"djtooltip\">\n",
       "                                <p id=\"nonprimary\">score</p>\n",
       "                                <span class=\"djtooltiptext\">loss</span>\n",
       "                            </div></th><th><div class=\"djtooltip\">\n",
       "                                <p id=\"nonprimary\">output</p>\n",
       "                                <span class=\"djtooltiptext\">trainer object's output</span>\n",
       "                            </div></th><th><div class=\"djtooltip\">\n",
       "                                <p id=\"nonprimary\">fabrikant_name</p>\n",
       "                                <span class=\"djtooltiptext\">Name of the contributor that added this entry</span>\n",
       "                            </div></th><th><div class=\"djtooltip\">\n",
       "                                <p id=\"nonprimary\">trainedmodel_ts</p>\n",
       "                                <span class=\"djtooltiptext\">UTZ timestamp at time of insertion</span>\n",
       "                            </div> </th> </tr> </thead>\n",
       "                <tbody> <tr> <td>nndichromacy.models.se_core_full_gauss_readout</td>\n",
       "<td>fa56487e5ead382e5ee64b0096c20043</td>\n",
       "<td>nndichromacy.datasets.static_loaders</td>\n",
       "<td>72930dd1be6c229df4be82f74803262c</td>\n",
       "<td>nndichromacy.training.standart_trainer</td>\n",
       "<td>b4c0c7c93781ae3aa4b502cc9c925b82</td>\n",
       "<td>1000</td>\n",
       "<td>max_iter: 100.Best Color Model, no shifter, FullGaussianReadout.static22564-2-12 full path</td>\n",
       "<td>0.343055</td>\n",
       "<td>=BLOB=</td>\n",
       "<td>pawelp</td>\n",
       "<td>2021-01-27 11:47:53</td></tr><tr><td>nndichromacy.models.se_core_full_gauss_readout</td>\n",
       "<td>fa56487e5ead382e5ee64b0096c20043</td>\n",
       "<td>nndichromacy.datasets.static_loaders</td>\n",
       "<td>72930dd1be6c229df4be82f74803262c</td>\n",
       "<td>nndichromacy.training.standart_trainer</td>\n",
       "<td>b4c0c7c93781ae3aa4b502cc9c925b82</td>\n",
       "<td>2000</td>\n",
       "<td>max_iter: 100.Best Color Model, no shifter, FullGaussianReadout.static22564-2-12 full path</td>\n",
       "<td>0.33962</td>\n",
       "<td>=BLOB=</td>\n",
       "<td>pawelp</td>\n",
       "<td>2021-01-27 11:47:34</td></tr><tr><td>nndichromacy.models.se_core_full_gauss_readout</td>\n",
       "<td>fa56487e5ead382e5ee64b0096c20043</td>\n",
       "<td>nndichromacy.datasets.static_loaders</td>\n",
       "<td>72930dd1be6c229df4be82f74803262c</td>\n",
       "<td>nndichromacy.training.standart_trainer</td>\n",
       "<td>b4c0c7c93781ae3aa4b502cc9c925b82</td>\n",
       "<td>3000</td>\n",
       "<td>max_iter: 100.Best Color Model, no shifter, FullGaussianReadout.static22564-2-12 full path</td>\n",
       "<td>0.34299</td>\n",
       "<td>=BLOB=</td>\n",
       "<td>pawelp</td>\n",
       "<td>2021-01-27 11:48:25</td></tr><tr><td>nndichromacy.models.se_core_full_gauss_readout</td>\n",
       "<td>fa56487e5ead382e5ee64b0096c20043</td>\n",
       "<td>nndichromacy.datasets.static_loaders</td>\n",
       "<td>72930dd1be6c229df4be82f74803262c</td>\n",
       "<td>nndichromacy.training.standart_trainer</td>\n",
       "<td>b4c0c7c93781ae3aa4b502cc9c925b82</td>\n",
       "<td>4000</td>\n",
       "<td>max_iter: 100.Best Color Model, no shifter, FullGaussianReadout.static22564-2-12 full path</td>\n",
       "<td>0.340788</td>\n",
       "<td>=BLOB=</td>\n",
       "<td>pawelp</td>\n",
       "<td>2021-01-27 11:48:16</td></tr><tr><td>nndichromacy.models.se_core_full_gauss_readout</td>\n",
       "<td>fa56487e5ead382e5ee64b0096c20043</td>\n",
       "<td>nndichromacy.datasets.static_loaders</td>\n",
       "<td>72930dd1be6c229df4be82f74803262c</td>\n",
       "<td>nndichromacy.training.standart_trainer</td>\n",
       "<td>b4c0c7c93781ae3aa4b502cc9c925b82</td>\n",
       "<td>5000</td>\n",
       "<td>max_iter: 100.Best Color Model, no shifter, FullGaussianReadout.static22564-2-12 full path</td>\n",
       "<td>0.344268</td>\n",
       "<td>=BLOB=</td>\n",
       "<td>pawelp</td>\n",
       "<td>2021-01-27 11:48:11</td> </tr> </tbody>\n",
       "            </table>\n",
       "            \n",
       "            <p>Total: 5</p></div>\n",
       "            "
      ],
      "text/plain": [
       "*model_fn      *model_hash    *dataset_fn    *dataset_hash  *trainer_fn    *trainer_hash  *seed    comment        score        output     fabrikant_name trainedmodel_t\n",
       "+------------+ +------------+ +------------+ +------------+ +------------+ +------------+ +------+ +------------+ +----------+ +--------+ +------------+ +------------+\n",
       "nndichromacy.m fa56487e5ead38 nndichromacy.d 72930dd1be6c22 nndichromacy.t b4c0c7c93781ae 1000     max_iter: 100. 0.343055     =BLOB=     pawelp         2021-01-27 11:\n",
       "nndichromacy.m fa56487e5ead38 nndichromacy.d 72930dd1be6c22 nndichromacy.t b4c0c7c93781ae 2000     max_iter: 100. 0.33962      =BLOB=     pawelp         2021-01-27 11:\n",
       "nndichromacy.m fa56487e5ead38 nndichromacy.d 72930dd1be6c22 nndichromacy.t b4c0c7c93781ae 3000     max_iter: 100. 0.34299      =BLOB=     pawelp         2021-01-27 11:\n",
       "nndichromacy.m fa56487e5ead38 nndichromacy.d 72930dd1be6c22 nndichromacy.t b4c0c7c93781ae 4000     max_iter: 100. 0.340788     =BLOB=     pawelp         2021-01-27 11:\n",
       "nndichromacy.m fa56487e5ead38 nndichromacy.d 72930dd1be6c22 nndichromacy.t b4c0c7c93781ae 5000     max_iter: 100. 0.344268     =BLOB=     pawelp         2021-01-27 11:\n",
       " (Total: 5)"
      ]
     },
     "execution_count": 13,
     "metadata": {},
     "output_type": "execute_result"
    }
   ],
   "source": [
    "TrainedModel() & model_training_key"
   ]
  },
  {
   "cell_type": "code",
   "execution_count": 14,
   "metadata": {},
   "outputs": [],
   "source": [
    "TrainedEnsembleModel().create_ensemble(model_training_key, comment='closed-loop mouse ensemble 2')"
   ]
  },
  {
   "cell_type": "code",
   "execution_count": 15,
   "metadata": {},
   "outputs": [
    {
     "data": {
      "text/plain": [
       "[{'ensemble_hash': '8a2aaa598935fa40a3f7db6f84209d5f', 'seed': 1000},\n",
       " {'ensemble_hash': '8a2aaa598935fa40a3f7db6f84209d5f', 'seed': 2000},\n",
       " {'ensemble_hash': '8a2aaa598935fa40a3f7db6f84209d5f', 'seed': 3000},\n",
       " {'ensemble_hash': '8a2aaa598935fa40a3f7db6f84209d5f', 'seed': 4000},\n",
       " {'ensemble_hash': '8a2aaa598935fa40a3f7db6f84209d5f', 'seed': 5000}]"
      ]
     },
     "execution_count": 15,
     "metadata": {},
     "output_type": "execute_result"
    }
   ],
   "source": [
    "(TrainedEnsembleModel.Member & model_training_key).fetch('ensemble_hash', 'seed', as_dict=True)"
   ]
  },
  {
   "cell_type": "code",
   "execution_count": null,
   "metadata": {},
   "outputs": [],
   "source": []
  }
 ],
 "metadata": {
  "kernelspec": {
   "display_name": "Python 3",
   "language": "python",
   "name": "python3"
  },
  "language_info": {
   "codemirror_mode": {
    "name": "ipython",
    "version": 3
   },
   "file_extension": ".py",
   "mimetype": "text/x-python",
   "name": "python",
   "nbconvert_exporter": "python",
   "pygments_lexer": "ipython3",
   "version": "3.8.0"
  }
 },
 "nbformat": 4,
 "nbformat_minor": 4
}