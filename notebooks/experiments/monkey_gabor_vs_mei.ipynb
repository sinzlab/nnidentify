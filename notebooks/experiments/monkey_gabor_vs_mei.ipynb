{
 "cells": [
  {
   "cell_type": "code",
   "execution_count": 1,
   "metadata": {},
   "outputs": [
    {
     "name": "stdout",
     "output_type": "stream",
     "text": [
      "Connecting pawelp@134.2.168.16:3306\n"
     ]
    }
   ],
   "source": [
    "%load_ext autoreload\n",
    "%autoreload 2\n",
    "\n",
    "import datajoint as dj\n",
    "\n",
    "dj.config[\"display.limit\"] = 50\n",
    "dj.config[\"enable_python_native_blobs\"] = True\n",
    "\n",
    "dj.config['nnfabrik.schema_name'] = \"nnfabrik_v1_tuning\"\n",
    "\n",
    "import datajoint as dj\n",
    "schema = dj.schema(\"nnfabrik_v1_tuning\")\n",
    "\n",
    "from nnfabrik.main import *\n",
    "import nnfabrik\n",
    "\n",
    "import torch\n",
    "import matplotlib.pyplot as plt\n",
    "import seaborn as sns\n",
    "import pandas as pd\n",
    "import numpy as np\n",
    "\n",
    "from nnvision.tables.from_nnfabrik import TrainedModel, DataInfo\n",
    "\n",
    "fetch_download_path = '/data/fetched_from_attach'"
   ]
  },
  {
   "cell_type": "markdown",
   "metadata": {},
   "source": [
    "## MEI Activations"
   ]
  },
  {
   "cell_type": "code",
   "execution_count": 2,
   "metadata": {},
   "outputs": [],
   "source": [
    "from nnvision.tables.main import Recording\n",
    "from nnvision.tables.scores import TestCorrelationScore as TestCorrelationMonkey\n",
    "\n",
    "from nndichromacy.tables.from_mei import MEISelector\n",
    "from nndichromacy.tables.from_mei import TrainedEnsembleModel\n",
    "from nndichromacy.tables.from_mei import MEIMethod\n",
    "from nndichromacy.tables.from_mei import MEISeed\n",
    "from nndichromacy.tables.from_mei import TrainedEnsembleModel\n",
    "from nndichromacy.tables.scores import TestCorrelation as TestCorrelationMouse\n",
    "\n",
    "from mei import mixins"
   ]
  },
  {
   "cell_type": "code",
   "execution_count": 3,
   "metadata": {},
   "outputs": [],
   "source": [
    "@schema\n",
    "class MEIMonkey(mixins.MEITemplateMixin, dj.Computed):\n",
    "    \"\"\"MEI table template.\n",
    "\n",
    "    To create a functional \"MEI\" table, create a new class that inherits from this template and decorate it with your\n",
    "    preferred Datajoint schema. Next assign your trained model (or trained ensemble model) and your selector table to\n",
    "    the class variables called \"trained_model_table\" and \"selector_table\". By default, the created table will point to\n",
    "    the \"MEIMethod\" table in the Datajoint schema called \"nnfabrik.main\". This behavior can be changed by overwriting\n",
    "    the class attribute called \"method_table\".\n",
    "    \"\"\"\n",
    "\n",
    "    trained_model_table = TrainedEnsembleModel\n",
    "    selector_table = Recording.Units\n",
    "    method_table = MEIMethod\n",
    "    seed_table = MEISeed"
   ]
  },
  {
   "cell_type": "code",
   "execution_count": 14,
   "metadata": {},
   "outputs": [],
   "source": [
    "mei_activations = (MEIMonkey() & dict(data_key='3631807112901')).fetch('score')"
   ]
  },
  {
   "cell_type": "markdown",
   "metadata": {},
   "source": [
    "## Gabor Activations"
   ]
  },
  {
   "cell_type": "code",
   "execution_count": 5,
   "metadata": {},
   "outputs": [],
   "source": [
    "import os\n",
    "from os import listdir\n",
    "from os.path import isfile, join\n",
    "\n",
    "import nnfabrik\n",
    "from nnfabrik import main, builder\n",
    "from nnfabrik.main import *\n",
    "\n",
    "import nnvision\n",
    "from nnvision.tables.from_nnfabrik import TrainedModel\n",
    "from nnvision.tables.legacy.from_mei import TrainedEnsembleModel\n",
    "\n",
    "import insilico_stimuli\n",
    "from insilico_stimuli.stimuli import *\n",
    "from insilico_stimuli.parameters import *"
   ]
  },
  {
   "cell_type": "code",
   "execution_count": 73,
   "metadata": {},
   "outputs": [],
   "source": [
    "def get_monkey_model(data_key):\n",
    "    # loading model\n",
    "    model_hash = 'f8bcd882c48a55dc6cd6d7afb656f1f9'\n",
    "    ensemble_hash = 'e7a8d0b961ee37ffda0779bfed95f1cf'\n",
    "\n",
    "    model_key = (TrainedModel * TrainedEnsembleModel.Member() & dict(ensemble_hash=ensemble_hash)).fetch(\"KEY\", limit=1, order_by=\"score DESC\")\n",
    "    dataloaders, model = TrainedModel().load_model(model_key, include_dataloader=True)\n",
    "    model.eval()\n",
    "\n",
    "    # number of model neurons \n",
    "    n_units = model.readout[data_key].outdims\n",
    "\n",
    "    # image dimensions\n",
    "    w, h = 41, 41\n",
    "    \n",
    "    return model, n_units, w, h, data_key, dataloaders\n",
    "\n",
    "data_key='3631807112901'\n",
    "\n",
    "model, n_units, w, h, data_key, dataloaders = get_monkey_model(data_key=data_key)"
   ]
  },
  {
   "cell_type": "code",
   "execution_count": 109,
   "metadata": {},
   "outputs": [],
   "source": [
    "# Finite Set\n",
    "canvas_size         = [w, h]\n",
    "sizes               = FiniteParameter([float(val) for val in range(5, 31)][::5])\n",
    "spatial_frequencies = FiniteParameter([float(val) for val in np.linspace(1/80, 2/5, 12)])\n",
    "contrasts           = FiniteParameter([.5])\n",
    "orientations        = FiniteParameter([float(val) for val in np.linspace(0.0, np.pi, 12)])\n",
    "phases              = FiniteParameter([float(val) for val in np.linspace(0.0, 2*np.pi, 12)]) \n",
    "grey_levels         = FiniteParameter([0.0])\n",
    "eccentricities      = FiniteParameter([float(val) for val in np.linspace(0.0, 0.99, 5)])\n",
    "locations           = FiniteParameter([[float(x), float(y)] for x in range(12, 28) \n",
    "                                                            for y in range(12, 28)][::16])\n",
    "\n",
    "gabor_set = GaborSet(canvas_size=canvas_size,\n",
    "                     locations=locations,\n",
    "                     sizes=sizes,\n",
    "                     spatial_frequencies=spatial_frequencies,\n",
    "                     contrasts=contrasts,\n",
    "                     orientations=orientations, \n",
    "                     phases=phases, \n",
    "                     grey_levels=grey_levels,\n",
    "                     eccentricities=eccentricities)"
   ]
  },
  {
   "cell_type": "code",
   "execution_count": 110,
   "metadata": {},
   "outputs": [
    {
     "name": "stderr",
     "output_type": "stream",
     "text": [
      "830it [14:07,  1.02s/it]                         \n"
     ]
    }
   ],
   "source": [
    "best_params, values = gabor_set.find_optimal_stimulus_bruteforce(model=model, data_key=data_key, batch_size=1000)"
   ]
  },
  {
   "cell_type": "code",
   "execution_count": 111,
   "metadata": {},
   "outputs": [],
   "source": [
    "gabor_activations = values"
   ]
  },
  {
   "cell_type": "code",
   "execution_count": 112,
   "metadata": {},
   "outputs": [],
   "source": [
    "class GaussianLR(object):\n",
    "    def __init__(self):\n",
    "        self.w = 0\n",
    "        self.sigma = 0\n",
    "  \n",
    "    def fit(self, x_train, y_train):\n",
    "        N = x_train.shape[0]\n",
    "\n",
    "        self.w = y_train @ x_train / (x_train @ x_train)\n",
    "\n",
    "        self.sigma = np.power(x_train * self.w - y_train, 2).sum() / N\n",
    "        self.sigma **= .5\n",
    "        \n",
    "    def predict(self, x):\n",
    "        mean = self.w * x\n",
    "        return mean, self.sigma\n",
    "    \n",
    "    def __repr__(self):\n",
    "        return f\"N({self.w:.2f}x, {self.sigma:.2f})\"\n",
    "    \n",
    "    def __str__(self):\n",
    "        return f\"$N(\\mu = {self.w:.2f}x, \\sigma = {self.sigma:.2f})$\""
   ]
  },
  {
   "cell_type": "code",
   "execution_count": 113,
   "metadata": {},
   "outputs": [
    {
     "data": {
      "text/plain": [
       "N(0.64x, 0.70)"
      ]
     },
     "execution_count": 113,
     "metadata": {},
     "output_type": "execute_result"
    }
   ],
   "source": [
    "lr = GaussianLR()\n",
    "lr.fit(mei_activations, gabor_activations)\n",
    "lr_mean, lr_sigma = lr.predict(np.arange(0, 14))\n",
    "lr"
   ]
  },
  {
   "cell_type": "code",
   "execution_count": 114,
   "metadata": {},
   "outputs": [
    {
     "data": {
      "image/png": "[encoded data removed]",
      "text/plain": [
       "<Figure size 504x504 with 1 Axes>"
      ]
     },
     "metadata": {
      "needs_background": "light"
     },
     "output_type": "display_data"
    }
   ],
   "source": [
    "plt.figure(figsize=(7, 7))\n",
    "plt.scatter(mei_activations, gabor_activations, s=10, c='k', label='unit activations')\n",
    "\n",
    "plt.plot([0, 13], [0, 13], c='tab:gray', ls='--', label='reference line')\n",
    "\n",
    "plt.plot(np.arange(0, 14), lr_mean, c='tab:orange', label=f'fitted: {lr}')\n",
    "plt.fill_between(np.arange(0, 14), lr_mean + lr_sigma, lr_mean - lr_sigma, alpha=0.1, color='tab:orange')\n",
    "\n",
    "plt.xlim(0, 13)\n",
    "plt.ylim(0, 13)\n",
    "\n",
    "plt.xlabel('MEI activations')\n",
    "plt.ylabel('Gabor activations')\n",
    "\n",
    "plt.title(f'Monkey Activations, data_key:{data_key}')\n",
    "\n",
    "plt.legend()\n",
    "\n",
    "plt.show()"
   ]
  },
  {
   "cell_type": "markdown",
   "metadata": {},
   "source": [
    "The fit is \n",
    "\\begin{equation}\n",
    "    A_{gabor} = 0.63 A_{mei}\n",
    "\\end{equation}\n",
    "thus the MEIs activate the neurons stronger than the found gabors.\n",
    "\\begin{equation}\n",
    "    \\frac{A_{mei}}{A_{gabor}} = 1.6\n",
    "\\end{equation}"
   ]
  },
  {
   "cell_type": "code",
   "execution_count": null,
   "metadata": {},
   "outputs": [],
   "source": []
  }
 ],
 "metadata": {
  "kernelspec": {
   "display_name": "Python 3",
   "language": "python",
   "name": "python3"
  },
  "language_info": {
   "codemirror_mode": {
    "name": "ipython",
    "version": 3
   },
   "file_extension": ".py",
   "mimetype": "text/x-python",
   "name": "python",
   "nbconvert_exporter": "python",
   "pygments_lexer": "ipython3",
   "version": "3.8.0"
  }
 },
 "nbformat": 4,
 "nbformat_minor": 4
}
