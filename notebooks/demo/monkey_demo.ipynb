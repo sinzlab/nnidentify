{
 "cells": [
  {
   "cell_type": "markdown",
   "metadata": {},
   "source": [
    "## Example Notebook "
   ]
  },
  {
   "cell_type": "markdown",
   "metadata": {},
   "source": [
    "### Requirements"
   ]
  },
  {
   "cell_type": "markdown",
   "metadata": {},
   "source": [
    "- nnfabrik, neuralpredictors, and nnvision from the sinzlab repository have to be installed/cloned\n",
    "\n",
    "- we are using the pytorch image called `sinzlab/pytorch:v3.8-torch1.4.0-cuda10.1-dj0.12.4`\n",
    "    - docker image can be found here: https://github.com/sinzlab/pytorch-docker or https://hub.docker.com/r/sinzlab/pytorch/dockerfile\n",
    "    - there, the complete list of packages to be installed can be found.\n",
    "    - torch >= 1.4 is required.\n",
    "</br>\n",
    "</br>\n",
    "- All individual pickle files and the image-pickle file have to be present. The can be found on the GPU server under /var/lib/nova/sinz-shared/data\n"
   ]
  },
  {
   "cell_type": "markdown",
   "metadata": {},
   "source": [
    "# Imports"
   ]
  },
  {
   "cell_type": "markdown",
   "metadata": {},
   "source": [
    "make sure to install all required packages. dependencies are listed in the dockerfile above. If necessary, install packages within the environment\n"
   ]
  },
  {
   "cell_type": "code",
   "execution_count": 44,
   "metadata": {},
   "outputs": [],
   "source": [
    "import torch\n",
    "\n",
    "import nnfabrik\n",
    "from nnfabrik import builder\n",
    "\n",
    "\n",
    "import numpy as np\n",
    "import pickle\n",
    "import os\n",
    "\n",
    "from os import listdir\n",
    "from os.path import isfile, join\n",
    "\n",
    "import matplotlib.pyplot as plt\n",
    "\n",
    "import nnvision"
   ]
  },
  {
   "cell_type": "markdown",
   "metadata": {},
   "source": [
    "# NNfabrik intro: Using the builder to build the dataloader objects, models, trainer"
   ]
  },
  {
   "cell_type": "code",
   "execution_count": 3,
   "metadata": {},
   "outputs": [
    {
     "data": {
      "text/plain": [
       "['image_classification', 'monkey', 'mouse', 'fetched_from_attach']"
      ]
     },
     "execution_count": 3,
     "metadata": {},
     "output_type": "execute_result"
    }
   ],
   "source": [
    "# here's where the data is on the server:\n",
    "os.listdir('/data')"
   ]
  },
  {
   "cell_type": "code",
   "execution_count": 4,
   "metadata": {},
   "outputs": [],
   "source": [
    "#### loading monkey data\n",
    "\n",
    "basepath = '/data/monkey/toliaslab/CSRF19_V1'\n",
    "neuronal_data_path = os.path.join(basepath, 'neuronal_data/')\n",
    "neuronal_data_files = [neuronal_data_path+f for f in listdir(neuronal_data_path) if isfile(join(neuronal_data_path, f))]\n",
    "image_file = os.path.join(basepath, 'images/CSRF19_V1_images.pickle')\n",
    "image_cache_path = os.path.join(basepath, 'images/individual')\n"
   ]
  },
  {
   "cell_type": "code",
   "execution_count": 5,
   "metadata": {},
   "outputs": [],
   "source": [
    "# Specifying the dataset function: its defined in nnvision/datasets, and has to present in the __init__.py there.\n",
    "dataset_fn = 'nnvision.datasets.monkey_static_loader'\n",
    "dataset_config = dict(dataset='CSRF19_V1',\n",
    "                               neuronal_data_files=neuronal_data_files,\n",
    "                               image_cache_path=image_cache_path,\n",
    "                               crop=102,\n",
    "                               subsample=1,\n",
    "                               seed=1000,\n",
    "                               time_bins_sum=6,\n",
    "                               batch_size=128,)\n"
   ]
  },
  {
   "cell_type": "code",
   "execution_count": 6,
   "metadata": {},
   "outputs": [],
   "source": [
    "dataloaders = builder.get_data(dataset_fn, dataset_config)"
   ]
  },
  {
   "cell_type": "markdown",
   "metadata": {
    "pycharm": {
     "name": "#%% md\n"
    }
   },
   "source": [
    "## Dataloaders"
   ]
  },
  {
   "cell_type": "markdown",
   "metadata": {},
   "source": [
    "NNfabrik expects dataloaders to be nested dictionarys with actual PyTorch DataLoader Objects at the second Tier. The First Tier will be \"train\", \"validation\", and \"test\". The second Tier will be \"session_key\": DataLoader. So each dataset is either comprised of one or multiple sessions, with a session ID as the dictionary key to its dataloader.\n",
    "Let's have a look:"
   ]
  },
  {
   "cell_type": "code",
   "execution_count": 7,
   "metadata": {
    "pycharm": {
     "name": "#%%\n"
    }
   },
   "outputs": [
    {
     "data": {
      "text/plain": [
       "{'train': {'3636552742293': <torch.utils.data.dataloader.DataLoader at 0x7f09c3fdb7c0>,\n",
       "  '3636034866307': <torch.utils.data.dataloader.DataLoader at 0x7f08cc0ab820>,\n",
       "  '3635178040531': <torch.utils.data.dataloader.DataLoader at 0x7f0990055ac0>,\n",
       "  '3637851724731': <torch.utils.data.dataloader.DataLoader at 0x7f099005a970>,\n",
       "  '3638973674012': <torch.utils.data.dataloader.DataLoader at 0x7f099005b940>,\n",
       "  '3637248451650': <torch.utils.data.dataloader.DataLoader at 0x7f0990060700>,\n",
       "  '3638885582960': <torch.utils.data.dataloader.DataLoader at 0x7f09900625e0>,\n",
       "  '3638373332053': <torch.utils.data.dataloader.DataLoader at 0x7f098ffe84c0>,\n",
       "  '3638541006102': <torch.utils.data.dataloader.DataLoader at 0x7f098ffec460>,\n",
       "  '3633364677437': <torch.utils.data.dataloader.DataLoader at 0x7f098fff1250>,\n",
       "  '3640011636703': <torch.utils.data.dataloader.DataLoader at 0x7f098fff3130>,\n",
       "  '3631807112901': <torch.utils.data.dataloader.DataLoader at 0x7f098fff8100>,\n",
       "  '3639664527524': <torch.utils.data.dataloader.DataLoader at 0x7f098fff8490>,\n",
       "  '3634744023164': <torch.utils.data.dataloader.DataLoader at 0x7f098fffde50>,\n",
       "  '3637161140869': <torch.utils.data.dataloader.DataLoader at 0x7f098ffffe50>,\n",
       "  '3638456653849': <torch.utils.data.dataloader.DataLoader at 0x7f0990004bb0>,\n",
       "  '3635949043110': <torch.utils.data.dataloader.DataLoader at 0x7f0990008a90>,\n",
       "  '3632932714885': <torch.utils.data.dataloader.DataLoader at 0x7f099000a9a0>,\n",
       "  '3634658447291': <torch.utils.data.dataloader.DataLoader at 0x7f0990010820>,\n",
       "  '3637333931598': <torch.utils.data.dataloader.DataLoader at 0x7f0990014700>,\n",
       "  '3638802601378': <torch.utils.data.dataloader.DataLoader at 0x7f09900182b0>,\n",
       "  '3639749909659': <torch.utils.data.dataloader.DataLoader at 0x7f099001c4c0>,\n",
       "  '3639060843972': <torch.utils.data.dataloader.DataLoader at 0x7f099001f370>,\n",
       "  '3631896544452': <torch.utils.data.dataloader.DataLoader at 0x7f0990024340>,\n",
       "  '3639406161189': <torch.utils.data.dataloader.DataLoader at 0x7f0990027130>,\n",
       "  '3639492658943': <torch.utils.data.dataloader.DataLoader at 0x7f098ffac130>,\n",
       "  '3634142311627': <torch.utils.data.dataloader.DataLoader at 0x7f098ffacf70>,\n",
       "  '3632669014376': <torch.utils.data.dataloader.DataLoader at 0x7f098ffaff70>,\n",
       "  '3634055946316': <torch.utils.data.dataloader.DataLoader at 0x7f098ffb6e50>,\n",
       "  '3640095265572': <torch.utils.data.dataloader.DataLoader at 0x7f098ffb9cd0>,\n",
       "  '3637760318484': <torch.utils.data.dataloader.DataLoader at 0x7f098ffbcbb0>,\n",
       "  '3638367026975': <torch.utils.data.dataloader.DataLoader at 0x7f098ffc1ac0>},\n",
       " 'validation': {'3636552742293': <torch.utils.data.dataloader.DataLoader at 0x7f09d86a90a0>,\n",
       "  '3636034866307': <torch.utils.data.dataloader.DataLoader at 0x7f0990055070>,\n",
       "  '3635178040531': <torch.utils.data.dataloader.DataLoader at 0x7f0990055fd0>,\n",
       "  '3637851724731': <torch.utils.data.dataloader.DataLoader at 0x7f099005aeb0>,\n",
       "  '3638973674012': <torch.utils.data.dataloader.DataLoader at 0x7f099005bd30>,\n",
       "  '3637248451650': <torch.utils.data.dataloader.DataLoader at 0x7f0990060c10>,\n",
       "  '3638885582960': <torch.utils.data.dataloader.DataLoader at 0x7f0990062af0>,\n",
       "  '3638373332053': <torch.utils.data.dataloader.DataLoader at 0x7f098ffe89d0>,\n",
       "  '3638541006102': <torch.utils.data.dataloader.DataLoader at 0x7f098ffec880>,\n",
       "  '3633364677437': <torch.utils.data.dataloader.DataLoader at 0x7f098fff1760>,\n",
       "  '3640011636703': <torch.utils.data.dataloader.DataLoader at 0x7f098fff3640>,\n",
       "  '3631807112901': <torch.utils.data.dataloader.DataLoader at 0x7f098fff8520>,\n",
       "  '3639664527524': <torch.utils.data.dataloader.DataLoader at 0x7f098fffd400>,\n",
       "  '3634744023164': <torch.utils.data.dataloader.DataLoader at 0x7f098ffff310>,\n",
       "  '3637161140869': <torch.utils.data.dataloader.DataLoader at 0x7f0990004190>,\n",
       "  '3638456653849': <torch.utils.data.dataloader.DataLoader at 0x7f0990008070>,\n",
       "  '3635949043110': <torch.utils.data.dataloader.DataLoader at 0x7f0990008fd0>,\n",
       "  '3632932714885': <torch.utils.data.dataloader.DataLoader at 0x7f099000aeb0>,\n",
       "  '3634658447291': <torch.utils.data.dataloader.DataLoader at 0x7f0990010d30>,\n",
       "  '3637333931598': <torch.utils.data.dataloader.DataLoader at 0x7f0990014c10>,\n",
       "  '3638802601378': <torch.utils.data.dataloader.DataLoader at 0x7f0990018b20>,\n",
       "  '3639749909659': <torch.utils.data.dataloader.DataLoader at 0x7f099001c9d0>,\n",
       "  '3639060843972': <torch.utils.data.dataloader.DataLoader at 0x7f099001f880>,\n",
       "  '3631896544452': <torch.utils.data.dataloader.DataLoader at 0x7f0990024760>,\n",
       "  '3639406161189': <torch.utils.data.dataloader.DataLoader at 0x7f0990027640>,\n",
       "  '3639492658943': <torch.utils.data.dataloader.DataLoader at 0x7f098ffac520>,\n",
       "  '3634142311627': <torch.utils.data.dataloader.DataLoader at 0x7f098ffaf400>,\n",
       "  '3632669014376': <torch.utils.data.dataloader.DataLoader at 0x7f098ffb62e0>,\n",
       "  '3634055946316': <torch.utils.data.dataloader.DataLoader at 0x7f098ffb9190>,\n",
       "  '3640095265572': <torch.utils.data.dataloader.DataLoader at 0x7f098ffbc070>,\n",
       "  '3637760318484': <torch.utils.data.dataloader.DataLoader at 0x7f098ffbcfd0>,\n",
       "  '3638367026975': <torch.utils.data.dataloader.DataLoader at 0x7f098ffc1eb0>},\n",
       " 'test': {'3636552742293': <torch.utils.data.dataloader.DataLoader at 0x7f08cc0ab6d0>,\n",
       "  '3636034866307': <torch.utils.data.dataloader.DataLoader at 0x7f09900557f0>,\n",
       "  '3635178040531': <torch.utils.data.dataloader.DataLoader at 0x7f099005a6d0>,\n",
       "  '3637851724731': <torch.utils.data.dataloader.DataLoader at 0x7f099005b550>,\n",
       "  '3638973674012': <torch.utils.data.dataloader.DataLoader at 0x7f0990060430>,\n",
       "  '3637248451650': <torch.utils.data.dataloader.DataLoader at 0x7f0990062310>,\n",
       "  '3638885582960': <torch.utils.data.dataloader.DataLoader at 0x7f098ffe81f0>,\n",
       "  '3638373332053': <torch.utils.data.dataloader.DataLoader at 0x7f098ffec0d0>,\n",
       "  '3638541006102': <torch.utils.data.dataloader.DataLoader at 0x7f098ffec7f0>,\n",
       "  '3633364677437': <torch.utils.data.dataloader.DataLoader at 0x7f098fff1ee0>,\n",
       "  '3640011636703': <torch.utils.data.dataloader.DataLoader at 0x7f098fff3dc0>,\n",
       "  '3631807112901': <torch.utils.data.dataloader.DataLoader at 0x7f098fff8ca0>,\n",
       "  '3639664527524': <torch.utils.data.dataloader.DataLoader at 0x7f098fffdb80>,\n",
       "  '3634744023164': <torch.utils.data.dataloader.DataLoader at 0x7f098ffffa60>,\n",
       "  '3637161140869': <torch.utils.data.dataloader.DataLoader at 0x7f0990004910>,\n",
       "  '3638456653849': <torch.utils.data.dataloader.DataLoader at 0x7f09900087f0>,\n",
       "  '3635949043110': <torch.utils.data.dataloader.DataLoader at 0x7f099000a6d0>,\n",
       "  '3632932714885': <torch.utils.data.dataloader.DataLoader at 0x7f0990010550>,\n",
       "  '3634658447291': <torch.utils.data.dataloader.DataLoader at 0x7f0990014430>,\n",
       "  '3637333931598': <torch.utils.data.dataloader.DataLoader at 0x7f0990018340>,\n",
       "  '3638802601378': <torch.utils.data.dataloader.DataLoader at 0x7f099001c1f0>,\n",
       "  '3639749909659': <torch.utils.data.dataloader.DataLoader at 0x7f099001f0d0>,\n",
       "  '3639060843972': <torch.utils.data.dataloader.DataLoader at 0x7f099001f7f0>,\n",
       "  '3631896544452': <torch.utils.data.dataloader.DataLoader at 0x7f0990024ee0>,\n",
       "  '3639406161189': <torch.utils.data.dataloader.DataLoader at 0x7f0990027dc0>,\n",
       "  '3639492658943': <torch.utils.data.dataloader.DataLoader at 0x7f098ffacca0>,\n",
       "  '3634142311627': <torch.utils.data.dataloader.DataLoader at 0x7f098ffafb80>,\n",
       "  '3632669014376': <torch.utils.data.dataloader.DataLoader at 0x7f098ffb6a60>,\n",
       "  '3634055946316': <torch.utils.data.dataloader.DataLoader at 0x7f098ffb9910>,\n",
       "  '3640095265572': <torch.utils.data.dataloader.DataLoader at 0x7f098ffbc7f0>,\n",
       "  '3637760318484': <torch.utils.data.dataloader.DataLoader at 0x7f098ffc16d0>,\n",
       "  '3638367026975': <torch.utils.data.dataloader.DataLoader at 0x7f098ffc3550>}}"
      ]
     },
     "execution_count": 7,
     "metadata": {},
     "output_type": "execute_result"
    }
   ],
   "source": [
    "dataloaders"
   ]
  },
  {
   "cell_type": "code",
   "execution_count": 8,
   "metadata": {},
   "outputs": [
    {
     "data": {
      "text/plain": [
       "<matplotlib.image.AxesImage at 0x7f098fe9ce20>"
      ]
     },
     "execution_count": 8,
     "metadata": {},
     "output_type": "execute_result"
    },
    {
     "data": {
      "image/png": "[encoded data removed]",
      "text/plain": [
       "<Figure size 432x288 with 1 Axes>"
      ]
     },
     "metadata": {
      "needs_background": "light"
     },
     "output_type": "display_data"
    }
   ],
   "source": [
    "# here's a random image. The images are cropped to be 20x20, so it trains fast for demo purposes.\n",
    "some_image = dataloaders[\"train\"][list(dataloaders[\"train\"].keys())[0]].dataset[:].inputs[0,0,::].cpu().numpy()\n",
    "plt.imshow(some_image, cmap='gray')"
   ]
  },
  {
   "cell_type": "code",
   "execution_count": 9,
   "metadata": {},
   "outputs": [],
   "source": [
    "# get first data_key\n",
    "first_session_ID = list((dataloaders[\"train\"].keys()))[0]\n"
   ]
  },
  {
   "cell_type": "code",
   "execution_count": 10,
   "metadata": {},
   "outputs": [
    {
     "data": {
      "text/plain": [
       "<torch.utils.data.dataloader.DataLoader at 0x7f09c3fdb7c0>"
      ]
     },
     "execution_count": 10,
     "metadata": {},
     "output_type": "execute_result"
    }
   ],
   "source": [
    "a_dataloader = dataloaders[\"train\"][first_session_ID]\n",
    "a_dataloader"
   ]
  },
  {
   "cell_type": "code",
   "execution_count": 11,
   "metadata": {},
   "outputs": [
    {
     "name": "stdout",
     "output_type": "stream",
     "text": [
      "image_dimensions: torch.Size([128, 1, 29, 29])\n",
      "number of neurons of that session:  torch.Size([128, 24])\n",
      "total training batches:  77\n"
     ]
    }
   ],
   "source": [
    "inputs, targets = next(iter(a_dataloader))\n",
    "print(\"image_dimensions:\", inputs.shape)\n",
    "print(\"number of neurons of that session: \", targets.shape)\n",
    "print(\"total training batches: \", len(a_dataloader))"
   ]
  },
  {
   "cell_type": "code",
   "execution_count": 12,
   "metadata": {},
   "outputs": [
    {
     "name": "stdout",
     "output_type": "stream",
     "text": [
      "torch.Size([9803, 1, 29, 29])\n"
     ]
    }
   ],
   "source": [
    "# input image dimension\n",
    "input_shape = dataloaders[\"train\"][first_session_ID].dataset[:].inputs.shape\n",
    "print(input_shape)\n",
    "# total images = 16064\n",
    "# dims: N x C x W x H"
   ]
  },
  {
   "cell_type": "code",
   "execution_count": 13,
   "metadata": {},
   "outputs": [
    {
     "name": "stdout",
     "output_type": "stream",
     "text": [
      "torch.Size([9803, 24])\n"
     ]
    }
   ],
   "source": [
    "# outpt dimensions: neuronal firing rates'\n",
    "output_shape = dataloaders[\"train\"][first_session_ID].dataset[:].targets.shape\n",
    "\n",
    "print(output_shape)\n",
    "# Output: 14 Neurons, with N spikes over 60 ms"
   ]
  },
  {
   "cell_type": "markdown",
   "metadata": {
    "pycharm": {
     "name": "#%% md\n"
    }
   },
   "source": [
    "## Model Building"
   ]
  },
  {
   "cell_type": "markdown",
   "metadata": {},
   "source": [
    "Models are built using the neuralpredictors repo from sinzlab. They consist of a convolutional core (with a user-specified number of layers), and a readout (spatial transformer readout, described in Sinz et al, 2018, NeurIPS)."
   ]
  },
  {
   "cell_type": "markdown",
   "metadata": {},
   "source": [
    "### Building a model"
   ]
  },
  {
   "cell_type": "code",
   "execution_count": 45,
   "metadata": {
    "pycharm": {
     "name": "#%%\n"
    }
   },
   "outputs": [
    {
     "name": "stdout",
     "output_type": "stream",
     "text": [
      "Encoder(\n",
      "  (core): SE2dCore(\n",
      "    (_input_weights_regularizer): LaplaceL2norm(\n",
      "      (laplace): Laplace()\n",
      "    )\n",
      "    (features): Sequential(\n",
      "      (layer0): Sequential(\n",
      "        (conv): Conv2d(1, 32, kernel_size=(20, 20), stride=(1, 1), bias=False)\n",
      "        (norm): BatchNorm2d(32, eps=1e-05, momentum=0.9, affine=True, track_running_stats=True)\n",
      "        (nonlin): ELU(alpha=1.0, inplace=True)\n",
      "      )\n",
      "      (layer1): Sequential(\n",
      "        (ds_conv): DepthSeparableConv2d(\n",
      "          (in_depth_conv): Conv2d(32, 32, kernel_size=(1, 1), stride=(1, 1), bias=False)\n",
      "          (spatial_conv): Conv2d(32, 32, kernel_size=(5, 5), stride=(1, 1), padding=(2, 2), groups=32, bias=False)\n",
      "          (out_depth_conv): Conv2d(32, 32, kernel_size=(1, 1), stride=(1, 1), bias=False)\n",
      "        )\n",
      "        (norm): BatchNorm2d(32, eps=1e-05, momentum=0.9, affine=True, track_running_stats=True)\n",
      "        (nonlin): ELU(alpha=1.0, inplace=True)\n",
      "      )\n",
      "      (layer2): Sequential(\n",
      "        (ds_conv): DepthSeparableConv2d(\n",
      "          (in_depth_conv): Conv2d(32, 32, kernel_size=(1, 1), stride=(1, 1), bias=False)\n",
      "          (spatial_conv): Conv2d(32, 32, kernel_size=(5, 5), stride=(1, 1), padding=(2, 2), groups=32, bias=False)\n",
      "          (out_depth_conv): Conv2d(32, 32, kernel_size=(1, 1), stride=(1, 1), bias=False)\n",
      "        )\n",
      "        (norm): BatchNorm2d(32, eps=1e-05, momentum=0.9, affine=True, track_running_stats=True)\n",
      "        (nonlin): ELU(alpha=1.0, inplace=True)\n",
      "      )\n",
      "    )\n",
      "  ) [SE2dCore regularizers: gamma_input = 11.2|skip = 0]\n",
      "  \n",
      "  (readout): MultipleFullGaussian2d(\n",
      "    (3636552742293): full FullGaussian2d (32 x 10 x 10 -> 24) with bias\n",
      "    (3636034866307): full FullGaussian2d (32 x 10 x 10 -> 20) with bias\n",
      "    (3635178040531): full FullGaussian2d (32 x 10 x 10 -> 6) with bias\n",
      "    (3637851724731): full FullGaussian2d (32 x 10 x 10 -> 14) with bias\n",
      "    (3638973674012): full FullGaussian2d (32 x 10 x 10 -> 18) with bias\n",
      "    (3637248451650): full FullGaussian2d (32 x 10 x 10 -> 7) with bias\n",
      "    (3638885582960): full FullGaussian2d (32 x 10 x 10 -> 5) with bias\n",
      "    (3638373332053): full FullGaussian2d (32 x 10 x 10 -> 10) with bias\n",
      "    (3638541006102): full FullGaussian2d (32 x 10 x 10 -> 17) with bias\n",
      "    (3633364677437): full FullGaussian2d (32 x 10 x 10 -> 10) with bias\n",
      "    (3640011636703): full FullGaussian2d (32 x 10 x 10 -> 2) with bias\n",
      "    (3631807112901): full FullGaussian2d (32 x 10 x 10 -> 29) with bias\n",
      "    (3639664527524): full FullGaussian2d (32 x 10 x 10 -> 18) with bias\n",
      "    (3634744023164): full FullGaussian2d (32 x 10 x 10 -> 12) with bias\n",
      "    (3637161140869): full FullGaussian2d (32 x 10 x 10 -> 22) with bias\n",
      "    (3638456653849): full FullGaussian2d (32 x 10 x 10 -> 2) with bias\n",
      "    (3635949043110): full FullGaussian2d (32 x 10 x 10 -> 10) with bias\n",
      "    (3632932714885): full FullGaussian2d (32 x 10 x 10 -> 11) with bias\n",
      "    (3634658447291): full FullGaussian2d (32 x 10 x 10 -> 5) with bias\n",
      "    (3637333931598): full FullGaussian2d (32 x 10 x 10 -> 9) with bias\n",
      "    (3638802601378): full FullGaussian2d (32 x 10 x 10 -> 7) with bias\n",
      "    (3639749909659): full FullGaussian2d (32 x 10 x 10 -> 8) with bias\n",
      "    (3639060843972): full FullGaussian2d (32 x 10 x 10 -> 12) with bias\n",
      "    (3631896544452): full FullGaussian2d (32 x 10 x 10 -> 32) with bias\n",
      "    (3639406161189): full FullGaussian2d (32 x 10 x 10 -> 14) with bias\n",
      "    (3639492658943): full FullGaussian2d (32 x 10 x 10 -> 17) with bias\n",
      "    (3634142311627): full FullGaussian2d (32 x 10 x 10 -> 14) with bias\n",
      "    (3632669014376): full FullGaussian2d (32 x 10 x 10 -> 21) with bias\n",
      "    (3634055946316): full FullGaussian2d (32 x 10 x 10 -> 21) with bias\n",
      "    (3640095265572): full FullGaussian2d (32 x 10 x 10 -> 25) with bias\n",
      "    (3637760318484): full FullGaussian2d (32 x 10 x 10 -> 20) with bias\n",
      "    (3638367026975): full FullGaussian2d (32 x 10 x 10 -> 16) with bias\n",
      "  )\n",
      ")\n"
     ]
    }
   ],
   "source": [
    "\n",
    "model_fn = 'nnvision.models.se_core_full_gauss_readout'\n",
    "model_config = {'pad_input': False,\n",
    "                'stack': -1,\n",
    "               'depth_separable': True,\n",
    "               'input_kern': 20,\n",
    "               'gamma_input': 11.2,\n",
    "               'gamma_readout': 0.33,\n",
    "               'hidden_dilation': 1,\n",
    "               'hidden_kern': 5,\n",
    "               'n_se_blocks': 0,\n",
    "               'hidden_channels': 32}\n",
    "model = builder.get_model(model_fn, model_config, dataloaders=dataloaders,seed=1000)\n",
    "print(model)"
   ]
  },
  {
   "cell_type": "markdown",
   "metadata": {
    "pycharm": {
     "name": "#%% md\n"
    }
   },
   "source": [
    "Above is the model description. Each session has its own readout. The Readout learns an x,y position between -1 and 1, relative to image space, and reads out from that point in feature space. THat means that the effective receptive field size of a unit in the last hidden layer will also be the receptive field size of the neuron. The x/y coordinates can be accessed like this:\n"
   ]
  },
  {
   "cell_type": "markdown",
   "metadata": {},
   "source": [
    "#### Show example readout positions after initialization"
   ]
  },
  {
   "cell_type": "code",
   "execution_count": 15,
   "metadata": {},
   "outputs": [
    {
     "data": {
      "text/plain": [
       "tensor([[[[-0.1017, -0.1422]],\n",
       "\n",
       "         [[ 0.1074, -0.0624]],\n",
       "\n",
       "         [[-0.0140, -0.1852]],\n",
       "\n",
       "         [[-0.0939,  0.1339]],\n",
       "\n",
       "         [[ 0.1270, -0.0854]],\n",
       "\n",
       "         [[ 0.0903, -0.1766]],\n",
       "\n",
       "         [[ 0.1376, -0.0156]],\n",
       "\n",
       "         [[-0.0767,  0.1409]],\n",
       "\n",
       "         [[ 0.1300,  0.0866]],\n",
       "\n",
       "         [[ 0.0717,  0.1135]],\n",
       "\n",
       "         [[-0.0119, -0.1061]],\n",
       "\n",
       "         [[ 0.1604, -0.0997]],\n",
       "\n",
       "         [[ 0.0196, -0.1664]],\n",
       "\n",
       "         [[ 0.0189,  0.1813]],\n",
       "\n",
       "         [[-0.1017,  0.0104]],\n",
       "\n",
       "         [[ 0.1327,  0.0214]],\n",
       "\n",
       "         [[-0.0400, -0.1720]],\n",
       "\n",
       "         [[-0.1821,  0.0498]],\n",
       "\n",
       "         [[ 0.0327, -0.1954]],\n",
       "\n",
       "         [[-0.1747,  0.0716]],\n",
       "\n",
       "         [[ 0.1302,  0.1117]],\n",
       "\n",
       "         [[-0.1723,  0.0734]],\n",
       "\n",
       "         [[ 0.0086, -0.0570]],\n",
       "\n",
       "         [[-0.1747, -0.0322]]]], grad_fn=<ClampBackward>)"
      ]
     },
     "execution_count": 15,
     "metadata": {},
     "output_type": "execute_result"
    }
   ],
   "source": [
    "# x/y position (after random initialization, becuse the model isnt trained yet) for each neuron in that session\n",
    "model.readout[first_session_ID].grid"
   ]
  },
  {
   "cell_type": "markdown",
   "metadata": {},
   "source": [
    "## Building a Trainer"
   ]
  },
  {
   "cell_type": "markdown",
   "metadata": {
    "pycharm": {
     "name": "#%% md\n"
    }
   },
   "source": [
    "the trainer is taking care of the whole training process. when the trainer is built, itÄ's a function with the configuration already initialized"
   ]
  },
  {
   "cell_type": "code",
   "execution_count": 16,
   "metadata": {
    "pycharm": {
     "name": "#%%\n"
    }
   },
   "outputs": [],
   "source": [
    "trainer_fn = 'nnvision.training.nnvision_trainer'\n",
    "trainer_config = dict(max_iter=1, \n",
    "                      lr_decay_steps=4, \n",
    "                      tolerance=0.0005, \n",
    "                      patience=5,\n",
    "                      verbose=False, \n",
    "                      lr_init=0.003,\n",
    "                      avg_loss=False,\n",
    "                      device='cuda')\n",
    "\n",
    "trainer = builder.get_trainer(trainer_fn, trainer_config)"
   ]
  },
  {
   "cell_type": "markdown",
   "metadata": {},
   "source": [
    "## Train a model"
   ]
  },
  {
   "cell_type": "code",
   "execution_count": 23,
   "metadata": {},
   "outputs": [
    {
     "name": "stderr",
     "output_type": "stream",
     "text": [
      "Epoch 1: 100%|██████████| 3616/3616 [00:42<00:00, 85.33it/s] \n"
     ]
    },
    {
     "name": "stdout",
     "output_type": "stream",
     "text": [
      "[001|00/05] ---> 0.21615184843540192\n",
      "Restoring best model! 0.216152 ---> 0.216152\n"
     ]
    }
   ],
   "source": [
    "score, output, model_state = trainer(model=model, dataloaders=dataloaders, seed=1000)"
   ]
  },
  {
   "cell_type": "markdown",
   "metadata": {},
   "source": [
    "# Part Two: NNfabrik and DataJoint"
   ]
  },
  {
   "cell_type": "markdown",
   "metadata": {
    "pycharm": {
     "name": "#%% md\n"
    }
   },
   "source": [
    "Instead of using the builder to get the data/model/and trainer, we can use datajoint to manage that process for us.\n",
    "There are Model, Dataset, and Trainer Tables. And each combination in those tables should in principle lead to a fully trained model.\n",
    "For completeness, there is also a Seed table that stores the random seed, and a Fabrikant table, that stores the name and contact details of the creator (=Fabrikant).\n"
   ]
  },
  {
   "cell_type": "markdown",
   "metadata": {},
   "source": [
    "### Make sure that a dj-database is connected. Recommended dj version is 0.12.4"
   ]
  },
  {
   "cell_type": "code",
   "execution_count": 46,
   "metadata": {
    "collapsed": false,
    "jupyter": {
     "outputs_hidden": false
    },
    "pycharm": {
     "name": "#%%\n"
    }
   },
   "outputs": [
    {
     "data": {
      "text/plain": [
       "Schema `pawelp_playground`"
      ]
     },
     "execution_count": 46,
     "metadata": {},
     "output_type": "execute_result"
    }
   ],
   "source": [
    "import datajoint as dj\n",
    "\n",
    "dj.config['enable_python_native_blobs'] = True\n",
    "dj.config['nnfabrik.schema_name'] = \"pawelp_playground\"\n",
    "schema = dj.schema(\"pawelp_playground\")\n",
    "\n",
    "from nnfabrik.templates import TrainedModelBase\n",
    "from nnfabrik.main import *\n",
    "\n",
    "schema"
   ]
  },
  {
   "cell_type": "code",
   "execution_count": 17,
   "metadata": {
    "pycharm": {
     "name": "#%%\n"
    }
   },
   "outputs": [],
   "source": [
    "# change this entry to reflect your datajoint username\n",
    "Fabrikant().insert1(dict(fabrikant_name='pawelp',\n",
    "                         email=\"ppierzc@gmail.com\",\n",
    "                         affiliation='sinzlab',\n",
    "                         dj_username=\"pawelp\"))"
   ]
  },
  {
   "cell_type": "code",
   "execution_count": 18,
   "metadata": {},
   "outputs": [
    {
     "data": {
      "text/html": [
       "\n",
       "        \n",
       "        <style type=\"text/css\">\n",
       "            .Relation{\n",
       "                border-collapse:collapse;\n",
       "            }\n",
       "            .Relation th{\n",
       "                background: #A0A0A0; color: #ffffff; padding:4px; border:#f0e0e0 1px solid;\n",
       "                font-weight: normal; font-family: monospace; font-size: 100%;\n",
       "            }\n",
       "            .Relation td{\n",
       "                padding:4px; border:#f0e0e0 1px solid; font-size:100%;\n",
       "            }\n",
       "            .Relation tr:nth-child(odd){\n",
       "                background: #ffffff;\n",
       "            }\n",
       "            .Relation tr:nth-child(even){\n",
       "                background: #f3f1ff;\n",
       "            }\n",
       "            /* Tooltip container */\n",
       "            .djtooltip {\n",
       "            }\n",
       "            /* Tooltip text */\n",
       "            .djtooltip .djtooltiptext {\n",
       "                visibility: hidden;\n",
       "                width: 120px;\n",
       "                background-color: black;\n",
       "                color: #fff;\n",
       "                text-align: center;\n",
       "                padding: 5px 0;\n",
       "                border-radius: 6px;\n",
       "                /* Position the tooltip text - see examples below! */\n",
       "                position: absolute;\n",
       "                z-index: 1;\n",
       "            }\n",
       "            #primary {\n",
       "                font-weight: bold;\n",
       "                color: black;\n",
       "            }\n",
       "\n",
       "            #nonprimary {\n",
       "                font-weight: normal;\n",
       "                color: white;\n",
       "            }\n",
       "\n",
       "            /* Show the tooltip text when you mouse over the tooltip container */\n",
       "            .djtooltip:hover .djtooltiptext {\n",
       "                visibility: visible;\n",
       "            }\n",
       "        </style>\n",
       "        \n",
       "        <b></b>\n",
       "            <div style=\"max-height:1000px;max-width:1500px;overflow:auto;\">\n",
       "            <table border=\"1\" class=\"Relation\">\n",
       "                <thead> <tr style=\"text-align: right;\"> <th> <div class=\"djtooltip\">\n",
       "                                <p id=\"primary\">fabrikant_name</p>\n",
       "                                <span class=\"djtooltiptext\">Name of the contributor that added this entry</span>\n",
       "                            </div></th><th><div class=\"djtooltip\">\n",
       "                                <p id=\"nonprimary\">full_name</p>\n",
       "                                <span class=\"djtooltiptext\">full name of the person</span>\n",
       "                            </div></th><th><div class=\"djtooltip\">\n",
       "                                <p id=\"nonprimary\">email</p>\n",
       "                                <span class=\"djtooltiptext\">e-mail address</span>\n",
       "                            </div></th><th><div class=\"djtooltip\">\n",
       "                                <p id=\"nonprimary\">affiliation</p>\n",
       "                                <span class=\"djtooltiptext\">conributor's affiliation (e.g. Sinz Lab)</span>\n",
       "                            </div></th><th><div class=\"djtooltip\">\n",
       "                                <p id=\"nonprimary\">dj_username</p>\n",
       "                                <span class=\"djtooltiptext\">DataJoint username</span>\n",
       "                            </div> </th> </tr> </thead>\n",
       "                <tbody> <tr> <td>pawelp</td>\n",
       "<td></td>\n",
       "<td>ppierzc@gmail.com</td>\n",
       "<td>sinzlab</td>\n",
       "<td>pawelp</td> </tr> </tbody>\n",
       "            </table>\n",
       "            \n",
       "            <p>Total: 1</p></div>\n",
       "            "
      ],
      "text/plain": [
       "*fabrikant_nam full_name     email          affiliation    dj_username   \n",
       "+------------+ +-----------+ +------------+ +------------+ +------------+\n",
       "pawelp                       ppierzc@gmail. sinzlab        pawelp        \n",
       " (Total: 1)"
      ]
     },
     "execution_count": 18,
     "metadata": {},
     "output_type": "execute_result"
    }
   ],
   "source": [
    "Fabrikant()"
   ]
  },
  {
   "cell_type": "code",
   "execution_count": 19,
   "metadata": {},
   "outputs": [
    {
     "data": {
      "text/html": [
       "\n",
       "        \n",
       "        <style type=\"text/css\">\n",
       "            .Relation{\n",
       "                border-collapse:collapse;\n",
       "            }\n",
       "            .Relation th{\n",
       "                background: #A0A0A0; color: #ffffff; padding:4px; border:#f0e0e0 1px solid;\n",
       "                font-weight: normal; font-family: monospace; font-size: 100%;\n",
       "            }\n",
       "            .Relation td{\n",
       "                padding:4px; border:#f0e0e0 1px solid; font-size:100%;\n",
       "            }\n",
       "            .Relation tr:nth-child(odd){\n",
       "                background: #ffffff;\n",
       "            }\n",
       "            .Relation tr:nth-child(even){\n",
       "                background: #f3f1ff;\n",
       "            }\n",
       "            /* Tooltip container */\n",
       "            .djtooltip {\n",
       "            }\n",
       "            /* Tooltip text */\n",
       "            .djtooltip .djtooltiptext {\n",
       "                visibility: hidden;\n",
       "                width: 120px;\n",
       "                background-color: black;\n",
       "                color: #fff;\n",
       "                text-align: center;\n",
       "                padding: 5px 0;\n",
       "                border-radius: 6px;\n",
       "                /* Position the tooltip text - see examples below! */\n",
       "                position: absolute;\n",
       "                z-index: 1;\n",
       "            }\n",
       "            #primary {\n",
       "                font-weight: bold;\n",
       "                color: black;\n",
       "            }\n",
       "\n",
       "            #nonprimary {\n",
       "                font-weight: normal;\n",
       "                color: white;\n",
       "            }\n",
       "\n",
       "            /* Show the tooltip text when you mouse over the tooltip container */\n",
       "            .djtooltip:hover .djtooltiptext {\n",
       "                visibility: visible;\n",
       "            }\n",
       "        </style>\n",
       "        \n",
       "        <b></b>\n",
       "            <div style=\"max-height:1000px;max-width:1500px;overflow:auto;\">\n",
       "            <table border=\"1\" class=\"Relation\">\n",
       "                <thead> <tr style=\"text-align: right;\"> <th> <div class=\"djtooltip\">\n",
       "                                <p id=\"primary\">seed</p>\n",
       "                                <span class=\"djtooltiptext\">Random seed that is passed to the model- and dataset-builder</span>\n",
       "                            </div> </th> </tr> </thead>\n",
       "                <tbody> <tr> <td>1000</td> </tr> </tbody>\n",
       "            </table>\n",
       "            \n",
       "            <p>Total: 1</p></div>\n",
       "            "
      ],
      "text/plain": [
       "*seed   \n",
       "+------+\n",
       "1000    \n",
       " (Total: 1)"
      ]
     },
     "execution_count": 19,
     "metadata": {},
     "output_type": "execute_result"
    }
   ],
   "source": [
    "Seed().insert([{'seed':1000}])\n",
    "Seed()"
   ]
  },
  {
   "cell_type": "markdown",
   "metadata": {
    "pycharm": {
     "name": "#%% md\n"
    }
   },
   "source": [
    "###  add entries for dataset, model, and trainer, with their corresponding configurations"
   ]
  },
  {
   "cell_type": "markdown",
   "metadata": {
    "pycharm": {
     "name": "#%% md\n"
    }
   },
   "source": [
    "#### Dataset"
   ]
  },
  {
   "cell_type": "code",
   "execution_count": 20,
   "metadata": {
    "pycharm": {
     "name": "#%%\n"
    }
   },
   "outputs": [
    {
     "data": {
      "text/html": [
       "\n",
       "        \n",
       "        <style type=\"text/css\">\n",
       "            .Relation{\n",
       "                border-collapse:collapse;\n",
       "            }\n",
       "            .Relation th{\n",
       "                background: #A0A0A0; color: #ffffff; padding:4px; border:#f0e0e0 1px solid;\n",
       "                font-weight: normal; font-family: monospace; font-size: 100%;\n",
       "            }\n",
       "            .Relation td{\n",
       "                padding:4px; border:#f0e0e0 1px solid; font-size:100%;\n",
       "            }\n",
       "            .Relation tr:nth-child(odd){\n",
       "                background: #ffffff;\n",
       "            }\n",
       "            .Relation tr:nth-child(even){\n",
       "                background: #f3f1ff;\n",
       "            }\n",
       "            /* Tooltip container */\n",
       "            .djtooltip {\n",
       "            }\n",
       "            /* Tooltip text */\n",
       "            .djtooltip .djtooltiptext {\n",
       "                visibility: hidden;\n",
       "                width: 120px;\n",
       "                background-color: black;\n",
       "                color: #fff;\n",
       "                text-align: center;\n",
       "                padding: 5px 0;\n",
       "                border-radius: 6px;\n",
       "                /* Position the tooltip text - see examples below! */\n",
       "                position: absolute;\n",
       "                z-index: 1;\n",
       "            }\n",
       "            #primary {\n",
       "                font-weight: bold;\n",
       "                color: black;\n",
       "            }\n",
       "\n",
       "            #nonprimary {\n",
       "                font-weight: normal;\n",
       "                color: white;\n",
       "            }\n",
       "\n",
       "            /* Show the tooltip text when you mouse over the tooltip container */\n",
       "            .djtooltip:hover .djtooltiptext {\n",
       "                visibility: visible;\n",
       "            }\n",
       "        </style>\n",
       "        \n",
       "        <b></b>\n",
       "            <div style=\"max-height:1000px;max-width:1500px;overflow:auto;\">\n",
       "            <table border=\"1\" class=\"Relation\">\n",
       "                <thead> <tr style=\"text-align: right;\"> <th> <div class=\"djtooltip\">\n",
       "                                <p id=\"primary\">dataset_fn</p>\n",
       "                                <span class=\"djtooltiptext\">name of the dataset loader function</span>\n",
       "                            </div></th><th><div class=\"djtooltip\">\n",
       "                                <p id=\"primary\">dataset_hash</p>\n",
       "                                <span class=\"djtooltiptext\">hash of the configuration object</span>\n",
       "                            </div></th><th><div class=\"djtooltip\">\n",
       "                                <p id=\"nonprimary\">dataset_config</p>\n",
       "                                <span class=\"djtooltiptext\">dataset configuration object</span>\n",
       "                            </div></th><th><div class=\"djtooltip\">\n",
       "                                <p id=\"nonprimary\">dataset_fabrikant</p>\n",
       "                                <span class=\"djtooltiptext\">Name of the contributor that added this entry</span>\n",
       "                            </div></th><th><div class=\"djtooltip\">\n",
       "                                <p id=\"nonprimary\">dataset_comment</p>\n",
       "                                <span class=\"djtooltiptext\">short description</span>\n",
       "                            </div></th><th><div class=\"djtooltip\">\n",
       "                                <p id=\"nonprimary\">dataset_ts</p>\n",
       "                                <span class=\"djtooltiptext\">UTZ timestamp at time of insertion</span>\n",
       "                            </div> </th> </tr> </thead>\n",
       "                <tbody> <tr> <td>nnvision.datasets.monkey_static_loader</td>\n",
       "<td>b13210feedc7c9d926c489f5774193b9</td>\n",
       "<td>=BLOB=</td>\n",
       "<td>pawelp</td>\n",
       "<td>CSRF_V1</td>\n",
       "<td>2020-11-19 16:17:39</td> </tr> </tbody>\n",
       "            </table>\n",
       "            \n",
       "            <p>Total: 1</p></div>\n",
       "            "
      ],
      "text/plain": [
       "*dataset_fn    *dataset_hash  dataset_co dataset_fabrik dataset_commen dataset_ts    \n",
       "+------------+ +------------+ +--------+ +------------+ +------------+ +------------+\n",
       "nnvision.datas b13210feedc7c9 =BLOB=     pawelp         CSRF_V1        2020-11-19 16:\n",
       " (Total: 1)"
      ]
     },
     "execution_count": 20,
     "metadata": {},
     "output_type": "execute_result"
    }
   ],
   "source": [
    "# adds the dataset_function and dataset config that we defined above to the datase table\n",
    "Dataset().add_entry(dataset_fn, dataset_config, dataset_comment='CSRF_V1')\n",
    "Dataset()"
   ]
  },
  {
   "cell_type": "markdown",
   "metadata": {},
   "source": [
    "#### Model"
   ]
  },
  {
   "cell_type": "code",
   "execution_count": 21,
   "metadata": {},
   "outputs": [
    {
     "data": {
      "text/html": [
       "\n",
       "        \n",
       "        <style type=\"text/css\">\n",
       "            .Relation{\n",
       "                border-collapse:collapse;\n",
       "            }\n",
       "            .Relation th{\n",
       "                background: #A0A0A0; color: #ffffff; padding:4px; border:#f0e0e0 1px solid;\n",
       "                font-weight: normal; font-family: monospace; font-size: 100%;\n",
       "            }\n",
       "            .Relation td{\n",
       "                padding:4px; border:#f0e0e0 1px solid; font-size:100%;\n",
       "            }\n",
       "            .Relation tr:nth-child(odd){\n",
       "                background: #ffffff;\n",
       "            }\n",
       "            .Relation tr:nth-child(even){\n",
       "                background: #f3f1ff;\n",
       "            }\n",
       "            /* Tooltip container */\n",
       "            .djtooltip {\n",
       "            }\n",
       "            /* Tooltip text */\n",
       "            .djtooltip .djtooltiptext {\n",
       "                visibility: hidden;\n",
       "                width: 120px;\n",
       "                background-color: black;\n",
       "                color: #fff;\n",
       "                text-align: center;\n",
       "                padding: 5px 0;\n",
       "                border-radius: 6px;\n",
       "                /* Position the tooltip text - see examples below! */\n",
       "                position: absolute;\n",
       "                z-index: 1;\n",
       "            }\n",
       "            #primary {\n",
       "                font-weight: bold;\n",
       "                color: black;\n",
       "            }\n",
       "\n",
       "            #nonprimary {\n",
       "                font-weight: normal;\n",
       "                color: white;\n",
       "            }\n",
       "\n",
       "            /* Show the tooltip text when you mouse over the tooltip container */\n",
       "            .djtooltip:hover .djtooltiptext {\n",
       "                visibility: visible;\n",
       "            }\n",
       "        </style>\n",
       "        \n",
       "        <b></b>\n",
       "            <div style=\"max-height:1000px;max-width:1500px;overflow:auto;\">\n",
       "            <table border=\"1\" class=\"Relation\">\n",
       "                <thead> <tr style=\"text-align: right;\"> <th> <div class=\"djtooltip\">\n",
       "                                <p id=\"primary\">model_fn</p>\n",
       "                                <span class=\"djtooltiptext\">name of the model function</span>\n",
       "                            </div></th><th><div class=\"djtooltip\">\n",
       "                                <p id=\"primary\">model_hash</p>\n",
       "                                <span class=\"djtooltiptext\">hash of the model configuration</span>\n",
       "                            </div></th><th><div class=\"djtooltip\">\n",
       "                                <p id=\"nonprimary\">model_config</p>\n",
       "                                <span class=\"djtooltiptext\">model configuration to be passed into the function</span>\n",
       "                            </div></th><th><div class=\"djtooltip\">\n",
       "                                <p id=\"nonprimary\">model_fabrikant</p>\n",
       "                                <span class=\"djtooltiptext\">Name of the contributor that added this entry</span>\n",
       "                            </div></th><th><div class=\"djtooltip\">\n",
       "                                <p id=\"nonprimary\">model_comment</p>\n",
       "                                <span class=\"djtooltiptext\">short description</span>\n",
       "                            </div></th><th><div class=\"djtooltip\">\n",
       "                                <p id=\"nonprimary\">model_ts</p>\n",
       "                                <span class=\"djtooltiptext\">UTZ timestamp at time of insertion</span>\n",
       "                            </div> </th> </tr> </thead>\n",
       "                <tbody> <tr> <td>nnvision.models.se_core_full_gauss_readout</td>\n",
       "<td>a08c72eb2972056853de6f1ce881e0f0</td>\n",
       "<td>=BLOB=</td>\n",
       "<td>pawelp</td>\n",
       "<td>isotropic</td>\n",
       "<td>2020-11-19 16:17:41</td> </tr> </tbody>\n",
       "            </table>\n",
       "            \n",
       "            <p>Total: 1</p></div>\n",
       "            "
      ],
      "text/plain": [
       "*model_fn      *model_hash    model_conf model_fabrikan model_comment  model_ts      \n",
       "+------------+ +------------+ +--------+ +------------+ +------------+ +------------+\n",
       "nnvision.model a08c72eb297205 =BLOB=     pawelp         isotropic      2020-11-19 16:\n",
       " (Total: 1)"
      ]
     },
     "execution_count": 21,
     "metadata": {},
     "output_type": "execute_result"
    }
   ],
   "source": [
    "model_fn = 'nnvision.models.se_core_full_gauss_readout'\n",
    "model_config = {'pad_input': False,\n",
    "                'stack': -1,\n",
    "               'depth_separable': True,\n",
    "               'input_kern': 20,\n",
    "               'gamma_input': 11.2,\n",
    "               'gamma_readout': 0.33,\n",
    "               'hidden_dilation': 1,\n",
    "               'hidden_kern': 5,\n",
    "               'n_se_blocks': 0,\n",
    "               'hidden_channels': 32,\n",
    "               'gauss_type': 'isotropic'}                \n",
    "Model().add_entry(model_fn, model_config, model_comment='isotropic')\n",
    "Model()"
   ]
  },
  {
   "cell_type": "code",
   "execution_count": 22,
   "metadata": {
    "pycharm": {
     "name": "#%%\n"
    }
   },
   "outputs": [
    {
     "name": "stdout",
     "output_type": "stream",
     "text": [
      "About to delete:\n",
      "Nothing to delete\n"
     ]
    }
   ],
   "source": [
    "Trainer.delete()"
   ]
  },
  {
   "cell_type": "code",
   "execution_count": 23,
   "metadata": {},
   "outputs": [
    {
     "data": {
      "text/html": [
       "\n",
       "        \n",
       "        <style type=\"text/css\">\n",
       "            .Relation{\n",
       "                border-collapse:collapse;\n",
       "            }\n",
       "            .Relation th{\n",
       "                background: #A0A0A0; color: #ffffff; padding:4px; border:#f0e0e0 1px solid;\n",
       "                font-weight: normal; font-family: monospace; font-size: 100%;\n",
       "            }\n",
       "            .Relation td{\n",
       "                padding:4px; border:#f0e0e0 1px solid; font-size:100%;\n",
       "            }\n",
       "            .Relation tr:nth-child(odd){\n",
       "                background: #ffffff;\n",
       "            }\n",
       "            .Relation tr:nth-child(even){\n",
       "                background: #f3f1ff;\n",
       "            }\n",
       "            /* Tooltip container */\n",
       "            .djtooltip {\n",
       "            }\n",
       "            /* Tooltip text */\n",
       "            .djtooltip .djtooltiptext {\n",
       "                visibility: hidden;\n",
       "                width: 120px;\n",
       "                background-color: black;\n",
       "                color: #fff;\n",
       "                text-align: center;\n",
       "                padding: 5px 0;\n",
       "                border-radius: 6px;\n",
       "                /* Position the tooltip text - see examples below! */\n",
       "                position: absolute;\n",
       "                z-index: 1;\n",
       "            }\n",
       "            #primary {\n",
       "                font-weight: bold;\n",
       "                color: black;\n",
       "            }\n",
       "\n",
       "            #nonprimary {\n",
       "                font-weight: normal;\n",
       "                color: white;\n",
       "            }\n",
       "\n",
       "            /* Show the tooltip text when you mouse over the tooltip container */\n",
       "            .djtooltip:hover .djtooltiptext {\n",
       "                visibility: visible;\n",
       "            }\n",
       "        </style>\n",
       "        \n",
       "        <b></b>\n",
       "            <div style=\"max-height:1000px;max-width:1500px;overflow:auto;\">\n",
       "            <table border=\"1\" class=\"Relation\">\n",
       "                <thead> <tr style=\"text-align: right;\"> <th> <div class=\"djtooltip\">\n",
       "                                <p id=\"primary\">trainer_fn</p>\n",
       "                                <span class=\"djtooltiptext\">name of the Trainer loader function</span>\n",
       "                            </div></th><th><div class=\"djtooltip\">\n",
       "                                <p id=\"primary\">trainer_hash</p>\n",
       "                                <span class=\"djtooltiptext\">hash of the configuration object</span>\n",
       "                            </div></th><th><div class=\"djtooltip\">\n",
       "                                <p id=\"nonprimary\">trainer_config</p>\n",
       "                                <span class=\"djtooltiptext\">training configuration object</span>\n",
       "                            </div></th><th><div class=\"djtooltip\">\n",
       "                                <p id=\"nonprimary\">trainer_fabrikant</p>\n",
       "                                <span class=\"djtooltiptext\">Name of the contributor that added this entry</span>\n",
       "                            </div></th><th><div class=\"djtooltip\">\n",
       "                                <p id=\"nonprimary\">trainer_comment</p>\n",
       "                                <span class=\"djtooltiptext\">short description</span>\n",
       "                            </div></th><th><div class=\"djtooltip\">\n",
       "                                <p id=\"nonprimary\">trainer_ts</p>\n",
       "                                <span class=\"djtooltiptext\">UTZ timestamp at time of insertion</span>\n",
       "                            </div> </th> </tr> </thead>\n",
       "                <tbody> <tr> <td>nnvision.training.nnvision_trainer</td>\n",
       "<td>e225a557fe8039df3717ddbe4686caa9</td>\n",
       "<td>=BLOB=</td>\n",
       "<td>pawelp</td>\n",
       "<td>max_iter: 2</td>\n",
       "<td>2020-11-19 16:17:48</td> </tr> </tbody>\n",
       "            </table>\n",
       "            \n",
       "            <p>Total: 1</p></div>\n",
       "            "
      ],
      "text/plain": [
       "*trainer_fn    *trainer_hash  trainer_co trainer_fabrik trainer_commen trainer_ts    \n",
       "+------------+ +------------+ +--------+ +------------+ +------------+ +------------+\n",
       "nnvision.train e225a557fe8039 =BLOB=     pawelp         max_iter: 2    2020-11-19 16:\n",
       " (Total: 1)"
      ]
     },
     "execution_count": 23,
     "metadata": {},
     "output_type": "execute_result"
    }
   ],
   "source": [
    "trainer_fn = 'nnvision.training.nnvision_trainer'\n",
    "trainer_config = dict(max_iter=2, \n",
    "                      lr_decay_steps=4, \n",
    "                      tolerance=0.0005, \n",
    "                      patience=5,\n",
    "                      verbose=False, \n",
    "                      lr_init=0.0045,\n",
    "                      avg_loss=False,\n",
    "                      device='cuda')\n",
    "\n",
    "Trainer().add_entry(trainer_fn, trainer_config, trainer_comment=\"max_iter: 2\")\n",
    "Trainer()"
   ]
  },
  {
   "cell_type": "code",
   "execution_count": 24,
   "metadata": {},
   "outputs": [
    {
     "data": {
      "text/html": [
       "\n",
       "        \n",
       "        <style type=\"text/css\">\n",
       "            .Relation{\n",
       "                border-collapse:collapse;\n",
       "            }\n",
       "            .Relation th{\n",
       "                background: #A0A0A0; color: #ffffff; padding:4px; border:#f0e0e0 1px solid;\n",
       "                font-weight: normal; font-family: monospace; font-size: 100%;\n",
       "            }\n",
       "            .Relation td{\n",
       "                padding:4px; border:#f0e0e0 1px solid; font-size:100%;\n",
       "            }\n",
       "            .Relation tr:nth-child(odd){\n",
       "                background: #ffffff;\n",
       "            }\n",
       "            .Relation tr:nth-child(even){\n",
       "                background: #f3f1ff;\n",
       "            }\n",
       "            /* Tooltip container */\n",
       "            .djtooltip {\n",
       "            }\n",
       "            /* Tooltip text */\n",
       "            .djtooltip .djtooltiptext {\n",
       "                visibility: hidden;\n",
       "                width: 120px;\n",
       "                background-color: black;\n",
       "                color: #fff;\n",
       "                text-align: center;\n",
       "                padding: 5px 0;\n",
       "                border-radius: 6px;\n",
       "                /* Position the tooltip text - see examples below! */\n",
       "                position: absolute;\n",
       "                z-index: 1;\n",
       "            }\n",
       "            #primary {\n",
       "                font-weight: bold;\n",
       "                color: black;\n",
       "            }\n",
       "\n",
       "            #nonprimary {\n",
       "                font-weight: normal;\n",
       "                color: white;\n",
       "            }\n",
       "\n",
       "            /* Show the tooltip text when you mouse over the tooltip container */\n",
       "            .djtooltip:hover .djtooltiptext {\n",
       "                visibility: visible;\n",
       "            }\n",
       "        </style>\n",
       "        \n",
       "        <b></b>\n",
       "            <div style=\"max-height:1000px;max-width:1500px;overflow:auto;\">\n",
       "            <table border=\"1\" class=\"Relation\">\n",
       "                <thead> <tr style=\"text-align: right;\"> <th> <div class=\"djtooltip\">\n",
       "                                <p id=\"primary\">trainer_fn</p>\n",
       "                                <span class=\"djtooltiptext\">name of the Trainer loader function</span>\n",
       "                            </div></th><th><div class=\"djtooltip\">\n",
       "                                <p id=\"primary\">trainer_hash</p>\n",
       "                                <span class=\"djtooltiptext\">hash of the configuration object</span>\n",
       "                            </div></th><th><div class=\"djtooltip\">\n",
       "                                <p id=\"nonprimary\">trainer_config</p>\n",
       "                                <span class=\"djtooltiptext\">training configuration object</span>\n",
       "                            </div></th><th><div class=\"djtooltip\">\n",
       "                                <p id=\"nonprimary\">trainer_fabrikant</p>\n",
       "                                <span class=\"djtooltiptext\">Name of the contributor that added this entry</span>\n",
       "                            </div></th><th><div class=\"djtooltip\">\n",
       "                                <p id=\"nonprimary\">trainer_comment</p>\n",
       "                                <span class=\"djtooltiptext\">short description</span>\n",
       "                            </div></th><th><div class=\"djtooltip\">\n",
       "                                <p id=\"nonprimary\">trainer_ts</p>\n",
       "                                <span class=\"djtooltiptext\">UTZ timestamp at time of insertion</span>\n",
       "                            </div> </th> </tr> </thead>\n",
       "                <tbody> <tr> <td>nnvision.training.nnvision_trainer</td>\n",
       "<td>e225a557fe8039df3717ddbe4686caa9</td>\n",
       "<td>=BLOB=</td>\n",
       "<td>pawelp</td>\n",
       "<td>max_iter: 2</td>\n",
       "<td>2020-11-19 16:17:48</td> </tr> </tbody>\n",
       "            </table>\n",
       "            \n",
       "            <p>Total: 1</p></div>\n",
       "            "
      ],
      "text/plain": [
       "*trainer_fn    *trainer_hash  trainer_co trainer_fabrik trainer_commen trainer_ts    \n",
       "+------------+ +------------+ +--------+ +------------+ +------------+ +------------+\n",
       "nnvision.train e225a557fe8039 =BLOB=     pawelp         max_iter: 2    2020-11-19 16:\n",
       " (Total: 1)"
      ]
     },
     "execution_count": 24,
     "metadata": {},
     "output_type": "execute_result"
    }
   ],
   "source": [
    "(Trainer & \"trainer_hash='e225a557fe8039df3717ddbe4686caa9'\")"
   ]
  },
  {
   "cell_type": "markdown",
   "metadata": {
    "pycharm": {
     "name": "#%% md\n"
    }
   },
   "source": [
    "####  The TrainedModel is a template, which can be found in nnfabrik.template.py"
   ]
  },
  {
   "cell_type": "markdown",
   "metadata": {
    "pycharm": {
     "name": "#%% md\n"
    }
   },
   "source": [
    "the trained model table is taking care of model training, and stores the model state in a part table. For further analyses of the trained model, one can either overwrite the TrainedModel definition by inheriting from the Base template class, or by attaching other tables to trained model."
   ]
  },
  {
   "cell_type": "code",
   "execution_count": 25,
   "metadata": {
    "pycharm": {
     "name": "#%%\n"
    }
   },
   "outputs": [],
   "source": [
    "# creating the simples TrainedModel class\n",
    "@schema\n",
    "class TrainedModel(TrainedModelBase):\n",
    "    table_comment = \"Trained models\"\n",
    "\n",
    "    model_table = Model\n",
    "    dataset_table = Dataset\n",
    "    trainer_table = Trainer\n",
    "    seed_table = Seed\n",
    "    user_table = Fabrikant"
   ]
  },
  {
   "cell_type": "code",
   "execution_count": 26,
   "metadata": {
    "pycharm": {
     "name": "#%%\n"
    }
   },
   "outputs": [
    {
     "data": {
      "text/html": [
       "\n",
       "        \n",
       "        <style type=\"text/css\">\n",
       "            .Relation{\n",
       "                border-collapse:collapse;\n",
       "            }\n",
       "            .Relation th{\n",
       "                background: #A0A0A0; color: #ffffff; padding:4px; border:#f0e0e0 1px solid;\n",
       "                font-weight: normal; font-family: monospace; font-size: 100%;\n",
       "            }\n",
       "            .Relation td{\n",
       "                padding:4px; border:#f0e0e0 1px solid; font-size:100%;\n",
       "            }\n",
       "            .Relation tr:nth-child(odd){\n",
       "                background: #ffffff;\n",
       "            }\n",
       "            .Relation tr:nth-child(even){\n",
       "                background: #f3f1ff;\n",
       "            }\n",
       "            /* Tooltip container */\n",
       "            .djtooltip {\n",
       "            }\n",
       "            /* Tooltip text */\n",
       "            .djtooltip .djtooltiptext {\n",
       "                visibility: hidden;\n",
       "                width: 120px;\n",
       "                background-color: black;\n",
       "                color: #fff;\n",
       "                text-align: center;\n",
       "                padding: 5px 0;\n",
       "                border-radius: 6px;\n",
       "                /* Position the tooltip text - see examples below! */\n",
       "                position: absolute;\n",
       "                z-index: 1;\n",
       "            }\n",
       "            #primary {\n",
       "                font-weight: bold;\n",
       "                color: black;\n",
       "            }\n",
       "\n",
       "            #nonprimary {\n",
       "                font-weight: normal;\n",
       "                color: white;\n",
       "            }\n",
       "\n",
       "            /* Show the tooltip text when you mouse over the tooltip container */\n",
       "            .djtooltip:hover .djtooltiptext {\n",
       "                visibility: visible;\n",
       "            }\n",
       "        </style>\n",
       "        \n",
       "        <b>Trained models</b>\n",
       "            <div style=\"max-height:1000px;max-width:1500px;overflow:auto;\">\n",
       "            <table border=\"1\" class=\"Relation\">\n",
       "                <thead> <tr style=\"text-align: right;\"> <th> <div class=\"djtooltip\">\n",
       "                                <p id=\"primary\">model_fn</p>\n",
       "                                <span class=\"djtooltiptext\">name of the model function</span>\n",
       "                            </div></th><th><div class=\"djtooltip\">\n",
       "                                <p id=\"primary\">model_hash</p>\n",
       "                                <span class=\"djtooltiptext\">hash of the model configuration</span>\n",
       "                            </div></th><th><div class=\"djtooltip\">\n",
       "                                <p id=\"primary\">dataset_fn</p>\n",
       "                                <span class=\"djtooltiptext\">name of the dataset loader function</span>\n",
       "                            </div></th><th><div class=\"djtooltip\">\n",
       "                                <p id=\"primary\">dataset_hash</p>\n",
       "                                <span class=\"djtooltiptext\">hash of the configuration object</span>\n",
       "                            </div></th><th><div class=\"djtooltip\">\n",
       "                                <p id=\"primary\">trainer_fn</p>\n",
       "                                <span class=\"djtooltiptext\">name of the Trainer loader function</span>\n",
       "                            </div></th><th><div class=\"djtooltip\">\n",
       "                                <p id=\"primary\">trainer_hash</p>\n",
       "                                <span class=\"djtooltiptext\">hash of the configuration object</span>\n",
       "                            </div></th><th><div class=\"djtooltip\">\n",
       "                                <p id=\"primary\">seed</p>\n",
       "                                <span class=\"djtooltiptext\">Random seed that is passed to the model- and dataset-builder</span>\n",
       "                            </div></th><th><div class=\"djtooltip\">\n",
       "                                <p id=\"nonprimary\">comment</p>\n",
       "                                <span class=\"djtooltiptext\">short description</span>\n",
       "                            </div></th><th><div class=\"djtooltip\">\n",
       "                                <p id=\"nonprimary\">score</p>\n",
       "                                <span class=\"djtooltiptext\">loss</span>\n",
       "                            </div></th><th><div class=\"djtooltip\">\n",
       "                                <p id=\"nonprimary\">output</p>\n",
       "                                <span class=\"djtooltiptext\">trainer object's output</span>\n",
       "                            </div></th><th><div class=\"djtooltip\">\n",
       "                                <p id=\"nonprimary\">fabrikant_name</p>\n",
       "                                <span class=\"djtooltiptext\">Name of the contributor that added this entry</span>\n",
       "                            </div></th><th><div class=\"djtooltip\">\n",
       "                                <p id=\"nonprimary\">trainedmodel_ts</p>\n",
       "                                <span class=\"djtooltiptext\">UTZ timestamp at time of insertion</span>\n",
       "                            </div> </th> </tr> </thead>\n",
       "                <tbody> <tr>  </tr> </tbody>\n",
       "            </table>\n",
       "            \n",
       "            <p>Total: 0</p></div>\n",
       "            "
      ],
      "text/plain": [
       "*model_fn    *model_hash    *dataset_fn    *dataset_hash  *trainer_fn    *trainer_hash  *seed    comment     score     output     fabrikant_name trainedmodel_t\n",
       "+----------+ +------------+ +------------+ +------------+ +------------+ +------------+ +------+ +---------+ +-------+ +--------+ +------------+ +------------+\n",
       "\n",
       " (Total: 0)"
      ]
     },
     "execution_count": 26,
     "metadata": {},
     "output_type": "execute_result"
    }
   ],
   "source": [
    "TrainedModel()"
   ]
  },
  {
   "cell_type": "markdown",
   "metadata": {
    "pycharm": {
     "name": "#%% md\n"
    }
   },
   "source": [
    "as primary keys, it has the hashes of all the configurations, and it stores the score, and the output (which are defined in the respective trainer)"
   ]
  },
  {
   "cell_type": "markdown",
   "metadata": {
    "pycharm": {
     "name": "#%% md\n"
    }
   },
   "source": [
    "## Lets populate"
   ]
  },
  {
   "cell_type": "code",
   "execution_count": 28,
   "metadata": {
    "pycharm": {
     "name": "#%%\n"
    }
   },
   "outputs": [
    {
     "name": "stderr",
     "output_type": "stream",
     "text": [
      "Epoch 1: 100%|██████████| 3616/3616 [00:46<00:00, 78.46it/s] \n"
     ]
    },
    {
     "name": "stdout",
     "output_type": "stream",
     "text": [
      "[001|00/05] ---> 0.22903917729854584\n"
     ]
    },
    {
     "name": "stderr",
     "output_type": "stream",
     "text": [
      "Epoch 2: 100%|██████████| 3616/3616 [00:37<00:00, 95.96it/s] \n"
     ]
    },
    {
     "name": "stdout",
     "output_type": "stream",
     "text": [
      "[002|00/05] ---> 0.26305264234542847\n",
      "Restoring best model! 0.263053 ---> 0.263053\n"
     ]
    }
   ],
   "source": [
    "TrainedModel().populate()"
   ]
  },
  {
   "cell_type": "code",
   "execution_count": 29,
   "metadata": {
    "pycharm": {
     "name": "#%%\n"
    }
   },
   "outputs": [
    {
     "data": {
      "text/html": [
       "\n",
       "        \n",
       "        <style type=\"text/css\">\n",
       "            .Relation{\n",
       "                border-collapse:collapse;\n",
       "            }\n",
       "            .Relation th{\n",
       "                background: #A0A0A0; color: #ffffff; padding:4px; border:#f0e0e0 1px solid;\n",
       "                font-weight: normal; font-family: monospace; font-size: 100%;\n",
       "            }\n",
       "            .Relation td{\n",
       "                padding:4px; border:#f0e0e0 1px solid; font-size:100%;\n",
       "            }\n",
       "            .Relation tr:nth-child(odd){\n",
       "                background: #ffffff;\n",
       "            }\n",
       "            .Relation tr:nth-child(even){\n",
       "                background: #f3f1ff;\n",
       "            }\n",
       "            /* Tooltip container */\n",
       "            .djtooltip {\n",
       "            }\n",
       "            /* Tooltip text */\n",
       "            .djtooltip .djtooltiptext {\n",
       "                visibility: hidden;\n",
       "                width: 120px;\n",
       "                background-color: black;\n",
       "                color: #fff;\n",
       "                text-align: center;\n",
       "                padding: 5px 0;\n",
       "                border-radius: 6px;\n",
       "                /* Position the tooltip text - see examples below! */\n",
       "                position: absolute;\n",
       "                z-index: 1;\n",
       "            }\n",
       "            #primary {\n",
       "                font-weight: bold;\n",
       "                color: black;\n",
       "            }\n",
       "\n",
       "            #nonprimary {\n",
       "                font-weight: normal;\n",
       "                color: white;\n",
       "            }\n",
       "\n",
       "            /* Show the tooltip text when you mouse over the tooltip container */\n",
       "            .djtooltip:hover .djtooltiptext {\n",
       "                visibility: visible;\n",
       "            }\n",
       "        </style>\n",
       "        \n",
       "        <b>Trained models</b>\n",
       "            <div style=\"max-height:1000px;max-width:1500px;overflow:auto;\">\n",
       "            <table border=\"1\" class=\"Relation\">\n",
       "                <thead> <tr style=\"text-align: right;\"> <th> <div class=\"djtooltip\">\n",
       "                                <p id=\"primary\">model_fn</p>\n",
       "                                <span class=\"djtooltiptext\">name of the model function</span>\n",
       "                            </div></th><th><div class=\"djtooltip\">\n",
       "                                <p id=\"primary\">model_hash</p>\n",
       "                                <span class=\"djtooltiptext\">hash of the model configuration</span>\n",
       "                            </div></th><th><div class=\"djtooltip\">\n",
       "                                <p id=\"primary\">dataset_fn</p>\n",
       "                                <span class=\"djtooltiptext\">name of the dataset loader function</span>\n",
       "                            </div></th><th><div class=\"djtooltip\">\n",
       "                                <p id=\"primary\">dataset_hash</p>\n",
       "                                <span class=\"djtooltiptext\">hash of the configuration object</span>\n",
       "                            </div></th><th><div class=\"djtooltip\">\n",
       "                                <p id=\"primary\">trainer_fn</p>\n",
       "                                <span class=\"djtooltiptext\">name of the Trainer loader function</span>\n",
       "                            </div></th><th><div class=\"djtooltip\">\n",
       "                                <p id=\"primary\">trainer_hash</p>\n",
       "                                <span class=\"djtooltiptext\">hash of the configuration object</span>\n",
       "                            </div></th><th><div class=\"djtooltip\">\n",
       "                                <p id=\"primary\">seed</p>\n",
       "                                <span class=\"djtooltiptext\">Random seed that is passed to the model- and dataset-builder</span>\n",
       "                            </div></th><th><div class=\"djtooltip\">\n",
       "                                <p id=\"nonprimary\">comment</p>\n",
       "                                <span class=\"djtooltiptext\">short description</span>\n",
       "                            </div></th><th><div class=\"djtooltip\">\n",
       "                                <p id=\"nonprimary\">score</p>\n",
       "                                <span class=\"djtooltiptext\">loss</span>\n",
       "                            </div></th><th><div class=\"djtooltip\">\n",
       "                                <p id=\"nonprimary\">output</p>\n",
       "                                <span class=\"djtooltiptext\">trainer object's output</span>\n",
       "                            </div></th><th><div class=\"djtooltip\">\n",
       "                                <p id=\"nonprimary\">fabrikant_name</p>\n",
       "                                <span class=\"djtooltiptext\">Name of the contributor that added this entry</span>\n",
       "                            </div></th><th><div class=\"djtooltip\">\n",
       "                                <p id=\"nonprimary\">trainedmodel_ts</p>\n",
       "                                <span class=\"djtooltiptext\">UTZ timestamp at time of insertion</span>\n",
       "                            </div> </th> </tr> </thead>\n",
       "                <tbody> <tr> <td>nnvision.models.se_core_full_gauss_readout</td>\n",
       "<td>a08c72eb2972056853de6f1ce881e0f0</td>\n",
       "<td>nnvision.datasets.monkey_static_loader</td>\n",
       "<td>b13210feedc7c9d926c489f5774193b9</td>\n",
       "<td>nnvision.training.nnvision_trainer</td>\n",
       "<td>e225a557fe8039df3717ddbe4686caa9</td>\n",
       "<td>1000</td>\n",
       "<td>max_iter: 2.isotropic.CSRF_V1</td>\n",
       "<td>0.263053</td>\n",
       "<td>=BLOB=</td>\n",
       "<td>pawelp</td>\n",
       "<td>2020-11-19 16:20:52</td> </tr> </tbody>\n",
       "            </table>\n",
       "            \n",
       "            <p>Total: 1</p></div>\n",
       "            "
      ],
      "text/plain": [
       "*model_fn      *model_hash    *dataset_fn    *dataset_hash  *trainer_fn    *trainer_hash  *seed    comment        score        output     fabrikant_name trainedmodel_t\n",
       "+------------+ +------------+ +------------+ +------------+ +------------+ +------------+ +------+ +------------+ +----------+ +--------+ +------------+ +------------+\n",
       "nnvision.model a08c72eb297205 nnvision.datas b13210feedc7c9 nnvision.train e225a557fe8039 1000     max_iter: 2.is 0.263053     =BLOB=     pawelp         2020-11-19 16:\n",
       " (Total: 1)"
      ]
     },
     "execution_count": 29,
     "metadata": {},
     "output_type": "execute_result"
    }
   ],
   "source": [
    "TrainedModel()"
   ]
  },
  {
   "cell_type": "code",
   "execution_count": 30,
   "metadata": {},
   "outputs": [],
   "source": [
    "model_hash = TrainedModel().fetch1(\"model_hash\")"
   ]
  },
  {
   "cell_type": "code",
   "execution_count": 31,
   "metadata": {},
   "outputs": [
    {
     "data": {
      "text/html": [
       "\n",
       "        \n",
       "        <style type=\"text/css\">\n",
       "            .Relation{\n",
       "                border-collapse:collapse;\n",
       "            }\n",
       "            .Relation th{\n",
       "                background: #A0A0A0; color: #ffffff; padding:4px; border:#f0e0e0 1px solid;\n",
       "                font-weight: normal; font-family: monospace; font-size: 100%;\n",
       "            }\n",
       "            .Relation td{\n",
       "                padding:4px; border:#f0e0e0 1px solid; font-size:100%;\n",
       "            }\n",
       "            .Relation tr:nth-child(odd){\n",
       "                background: #ffffff;\n",
       "            }\n",
       "            .Relation tr:nth-child(even){\n",
       "                background: #f3f1ff;\n",
       "            }\n",
       "            /* Tooltip container */\n",
       "            .djtooltip {\n",
       "            }\n",
       "            /* Tooltip text */\n",
       "            .djtooltip .djtooltiptext {\n",
       "                visibility: hidden;\n",
       "                width: 120px;\n",
       "                background-color: black;\n",
       "                color: #fff;\n",
       "                text-align: center;\n",
       "                padding: 5px 0;\n",
       "                border-radius: 6px;\n",
       "                /* Position the tooltip text - see examples below! */\n",
       "                position: absolute;\n",
       "                z-index: 1;\n",
       "            }\n",
       "            #primary {\n",
       "                font-weight: bold;\n",
       "                color: black;\n",
       "            }\n",
       "\n",
       "            #nonprimary {\n",
       "                font-weight: normal;\n",
       "                color: white;\n",
       "            }\n",
       "\n",
       "            /* Show the tooltip text when you mouse over the tooltip container */\n",
       "            .djtooltip:hover .djtooltiptext {\n",
       "                visibility: visible;\n",
       "            }\n",
       "        </style>\n",
       "        \n",
       "        <b>Trained models</b>\n",
       "            <div style=\"max-height:1000px;max-width:1500px;overflow:auto;\">\n",
       "            <table border=\"1\" class=\"Relation\">\n",
       "                <thead> <tr style=\"text-align: right;\"> <th> <div class=\"djtooltip\">\n",
       "                                <p id=\"primary\">model_fn</p>\n",
       "                                <span class=\"djtooltiptext\">name of the model function</span>\n",
       "                            </div></th><th><div class=\"djtooltip\">\n",
       "                                <p id=\"primary\">model_hash</p>\n",
       "                                <span class=\"djtooltiptext\">hash of the model configuration</span>\n",
       "                            </div></th><th><div class=\"djtooltip\">\n",
       "                                <p id=\"primary\">dataset_fn</p>\n",
       "                                <span class=\"djtooltiptext\">name of the dataset loader function</span>\n",
       "                            </div></th><th><div class=\"djtooltip\">\n",
       "                                <p id=\"primary\">dataset_hash</p>\n",
       "                                <span class=\"djtooltiptext\">hash of the configuration object</span>\n",
       "                            </div></th><th><div class=\"djtooltip\">\n",
       "                                <p id=\"primary\">trainer_fn</p>\n",
       "                                <span class=\"djtooltiptext\">name of the Trainer loader function</span>\n",
       "                            </div></th><th><div class=\"djtooltip\">\n",
       "                                <p id=\"primary\">trainer_hash</p>\n",
       "                                <span class=\"djtooltiptext\">hash of the configuration object</span>\n",
       "                            </div></th><th><div class=\"djtooltip\">\n",
       "                                <p id=\"primary\">seed</p>\n",
       "                                <span class=\"djtooltiptext\">Random seed that is passed to the model- and dataset-builder</span>\n",
       "                            </div></th><th><div class=\"djtooltip\">\n",
       "                                <p id=\"nonprimary\">comment</p>\n",
       "                                <span class=\"djtooltiptext\">short description</span>\n",
       "                            </div></th><th><div class=\"djtooltip\">\n",
       "                                <p id=\"nonprimary\">score</p>\n",
       "                                <span class=\"djtooltiptext\">loss</span>\n",
       "                            </div></th><th><div class=\"djtooltip\">\n",
       "                                <p id=\"nonprimary\">output</p>\n",
       "                                <span class=\"djtooltiptext\">trainer object's output</span>\n",
       "                            </div></th><th><div class=\"djtooltip\">\n",
       "                                <p id=\"nonprimary\">fabrikant_name</p>\n",
       "                                <span class=\"djtooltiptext\">Name of the contributor that added this entry</span>\n",
       "                            </div></th><th><div class=\"djtooltip\">\n",
       "                                <p id=\"nonprimary\">trainedmodel_ts</p>\n",
       "                                <span class=\"djtooltiptext\">UTZ timestamp at time of insertion</span>\n",
       "                            </div> </th> </tr> </thead>\n",
       "                <tbody> <tr> <td>nnvision.models.se_core_full_gauss_readout</td>\n",
       "<td>a08c72eb2972056853de6f1ce881e0f0</td>\n",
       "<td>nnvision.datasets.monkey_static_loader</td>\n",
       "<td>b13210feedc7c9d926c489f5774193b9</td>\n",
       "<td>nnvision.training.nnvision_trainer</td>\n",
       "<td>e225a557fe8039df3717ddbe4686caa9</td>\n",
       "<td>1000</td>\n",
       "<td>max_iter: 2.isotropic.CSRF_V1</td>\n",
       "<td>0.263053</td>\n",
       "<td>=BLOB=</td>\n",
       "<td>pawelp</td>\n",
       "<td>2020-11-19 16:20:52</td> </tr> </tbody>\n",
       "            </table>\n",
       "            \n",
       "            <p>Total: 1</p></div>\n",
       "            "
      ],
      "text/plain": [
       "*model_fn      *model_hash    *dataset_fn    *dataset_hash  *trainer_fn    *trainer_hash  *seed    comment        score        output     fabrikant_name trainedmodel_t\n",
       "+------------+ +------------+ +------------+ +------------+ +------------+ +------------+ +------+ +------------+ +----------+ +--------+ +------------+ +------------+\n",
       "nnvision.model a08c72eb297205 nnvision.datas b13210feedc7c9 nnvision.train e225a557fe8039 1000     max_iter: 2.is 0.263053     =BLOB=     pawelp         2020-11-19 16:\n",
       " (Total: 1)"
      ]
     },
     "execution_count": 31,
     "metadata": {},
     "output_type": "execute_result"
    }
   ],
   "source": [
    "# now if you want to build the model again, we can use the .load_model() function of the trained model table.\n",
    "# To use the load model function, the table needs to be restricted to one Entry. \n",
    "# for example: restricting with a key:\n",
    "some_key = dict(model_hash=model_hash)\n",
    "TrainedModel&some_key"
   ]
  },
  {
   "cell_type": "markdown",
   "metadata": {
    "pycharm": {
     "name": "#%% md\n"
    }
   },
   "source": [
    "# How to Load a Model"
   ]
  },
  {
   "cell_type": "code",
   "execution_count": 32,
   "metadata": {},
   "outputs": [],
   "source": [
    "dataloader, model = (TrainedModel & some_key).load_model()"
   ]
  },
  {
   "cell_type": "code",
   "execution_count": 33,
   "metadata": {
    "pycharm": {
     "name": "#%%\n"
    }
   },
   "outputs": [
    {
     "data": {
      "text/plain": [
       "Encoder(\n",
       "  (core): SE2dCore(\n",
       "    (_input_weights_regularizer): LaplaceL2norm(\n",
       "      (laplace): Laplace()\n",
       "    )\n",
       "    (features): Sequential(\n",
       "      (layer0): Sequential(\n",
       "        (conv): Conv2d(1, 32, kernel_size=(20, 20), stride=(1, 1), bias=False)\n",
       "        (norm): BatchNorm2d(32, eps=1e-05, momentum=0.9, affine=True, track_running_stats=True)\n",
       "        (nonlin): ELU(alpha=1.0, inplace=True)\n",
       "      )\n",
       "      (layer1): Sequential(\n",
       "        (ds_conv): DepthSeparableConv2d(\n",
       "          (in_depth_conv): Conv2d(32, 32, kernel_size=(1, 1), stride=(1, 1), bias=False)\n",
       "          (spatial_conv): Conv2d(32, 32, kernel_size=(5, 5), stride=(1, 1), padding=(2, 2), groups=32, bias=False)\n",
       "          (out_depth_conv): Conv2d(32, 32, kernel_size=(1, 1), stride=(1, 1), bias=False)\n",
       "        )\n",
       "        (norm): BatchNorm2d(32, eps=1e-05, momentum=0.9, affine=True, track_running_stats=True)\n",
       "        (nonlin): ELU(alpha=1.0, inplace=True)\n",
       "      )\n",
       "      (layer2): Sequential(\n",
       "        (ds_conv): DepthSeparableConv2d(\n",
       "          (in_depth_conv): Conv2d(32, 32, kernel_size=(1, 1), stride=(1, 1), bias=False)\n",
       "          (spatial_conv): Conv2d(32, 32, kernel_size=(5, 5), stride=(1, 1), padding=(2, 2), groups=32, bias=False)\n",
       "          (out_depth_conv): Conv2d(32, 32, kernel_size=(1, 1), stride=(1, 1), bias=False)\n",
       "        )\n",
       "        (norm): BatchNorm2d(32, eps=1e-05, momentum=0.9, affine=True, track_running_stats=True)\n",
       "        (nonlin): ELU(alpha=1.0, inplace=True)\n",
       "      )\n",
       "    )\n",
       "  ) [SE2dCore regularizers: gamma_input = 11.2|skip = 0]\n",
       "  \n",
       "  (readout): MultipleFullGaussian2d(\n",
       "    (3636552742293): isotropic FullGaussian2d (32 x 10 x 10 -> 24) with bias\n",
       "    (3636034866307): isotropic FullGaussian2d (32 x 10 x 10 -> 20) with bias\n",
       "    (3635178040531): isotropic FullGaussian2d (32 x 10 x 10 -> 6) with bias\n",
       "    (3637851724731): isotropic FullGaussian2d (32 x 10 x 10 -> 14) with bias\n",
       "    (3638973674012): isotropic FullGaussian2d (32 x 10 x 10 -> 18) with bias\n",
       "    (3637248451650): isotropic FullGaussian2d (32 x 10 x 10 -> 7) with bias\n",
       "    (3638885582960): isotropic FullGaussian2d (32 x 10 x 10 -> 5) with bias\n",
       "    (3638373332053): isotropic FullGaussian2d (32 x 10 x 10 -> 10) with bias\n",
       "    (3638541006102): isotropic FullGaussian2d (32 x 10 x 10 -> 17) with bias\n",
       "    (3633364677437): isotropic FullGaussian2d (32 x 10 x 10 -> 10) with bias\n",
       "    (3640011636703): isotropic FullGaussian2d (32 x 10 x 10 -> 2) with bias\n",
       "    (3631807112901): isotropic FullGaussian2d (32 x 10 x 10 -> 29) with bias\n",
       "    (3639664527524): isotropic FullGaussian2d (32 x 10 x 10 -> 18) with bias\n",
       "    (3634744023164): isotropic FullGaussian2d (32 x 10 x 10 -> 12) with bias\n",
       "    (3637161140869): isotropic FullGaussian2d (32 x 10 x 10 -> 22) with bias\n",
       "    (3638456653849): isotropic FullGaussian2d (32 x 10 x 10 -> 2) with bias\n",
       "    (3635949043110): isotropic FullGaussian2d (32 x 10 x 10 -> 10) with bias\n",
       "    (3632932714885): isotropic FullGaussian2d (32 x 10 x 10 -> 11) with bias\n",
       "    (3634658447291): isotropic FullGaussian2d (32 x 10 x 10 -> 5) with bias\n",
       "    (3637333931598): isotropic FullGaussian2d (32 x 10 x 10 -> 9) with bias\n",
       "    (3638802601378): isotropic FullGaussian2d (32 x 10 x 10 -> 7) with bias\n",
       "    (3639749909659): isotropic FullGaussian2d (32 x 10 x 10 -> 8) with bias\n",
       "    (3639060843972): isotropic FullGaussian2d (32 x 10 x 10 -> 12) with bias\n",
       "    (3631896544452): isotropic FullGaussian2d (32 x 10 x 10 -> 32) with bias\n",
       "    (3639406161189): isotropic FullGaussian2d (32 x 10 x 10 -> 14) with bias\n",
       "    (3639492658943): isotropic FullGaussian2d (32 x 10 x 10 -> 17) with bias\n",
       "    (3634142311627): isotropic FullGaussian2d (32 x 10 x 10 -> 14) with bias\n",
       "    (3632669014376): isotropic FullGaussian2d (32 x 10 x 10 -> 21) with bias\n",
       "    (3634055946316): isotropic FullGaussian2d (32 x 10 x 10 -> 21) with bias\n",
       "    (3640095265572): isotropic FullGaussian2d (32 x 10 x 10 -> 25) with bias\n",
       "    (3637760318484): isotropic FullGaussian2d (32 x 10 x 10 -> 20) with bias\n",
       "    (3638367026975): isotropic FullGaussian2d (32 x 10 x 10 -> 16) with bias\n",
       "  )\n",
       ")"
      ]
     },
     "execution_count": 33,
     "metadata": {},
     "output_type": "execute_result"
    }
   ],
   "source": [
    "# that is the trained model, with the state dict loaded and all. lets set to eval and start using it\n",
    "model.eval()"
   ]
  },
  {
   "cell_type": "markdown",
   "metadata": {
    "pycharm": {
     "name": "#%% md\n"
    }
   },
   "source": [
    "# Parameter Extension"
   ]
  },
  {
   "cell_type": "code",
   "execution_count": 34,
   "metadata": {},
   "outputs": [],
   "source": [
    "# There's also the parameter extension, so that you can restrict with the confif objects as well."
   ]
  },
  {
   "cell_type": "code",
   "execution_count": 35,
   "metadata": {
    "pycharm": {
     "name": "#%%\n"
    }
   },
   "outputs": [],
   "source": [
    "from nnfabrik.utility.dj_helpers import create_param_expansion, make_definition\n",
    "ModelExpanded = create_param_expansion('nnvision.models.se_core_full_gauss_readout', Model, fn_field='model_fn', config_field='model_config')\n",
    "ModelParams = schema(ModelExpanded)"
   ]
  },
  {
   "cell_type": "code",
   "execution_count": 36,
   "metadata": {},
   "outputs": [
    {
     "data": {
      "text/html": [
       "\n",
       "        \n",
       "        <style type=\"text/css\">\n",
       "            .Relation{\n",
       "                border-collapse:collapse;\n",
       "            }\n",
       "            .Relation th{\n",
       "                background: #A0A0A0; color: #ffffff; padding:4px; border:#f0e0e0 1px solid;\n",
       "                font-weight: normal; font-family: monospace; font-size: 100%;\n",
       "            }\n",
       "            .Relation td{\n",
       "                padding:4px; border:#f0e0e0 1px solid; font-size:100%;\n",
       "            }\n",
       "            .Relation tr:nth-child(odd){\n",
       "                background: #ffffff;\n",
       "            }\n",
       "            .Relation tr:nth-child(even){\n",
       "                background: #f3f1ff;\n",
       "            }\n",
       "            /* Tooltip container */\n",
       "            .djtooltip {\n",
       "            }\n",
       "            /* Tooltip text */\n",
       "            .djtooltip .djtooltiptext {\n",
       "                visibility: hidden;\n",
       "                width: 120px;\n",
       "                background-color: black;\n",
       "                color: #fff;\n",
       "                text-align: center;\n",
       "                padding: 5px 0;\n",
       "                border-radius: 6px;\n",
       "                /* Position the tooltip text - see examples below! */\n",
       "                position: absolute;\n",
       "                z-index: 1;\n",
       "            }\n",
       "            #primary {\n",
       "                font-weight: bold;\n",
       "                color: black;\n",
       "            }\n",
       "\n",
       "            #nonprimary {\n",
       "                font-weight: normal;\n",
       "                color: white;\n",
       "            }\n",
       "\n",
       "            /* Show the tooltip text when you mouse over the tooltip container */\n",
       "            .djtooltip:hover .djtooltiptext {\n",
       "                visibility: visible;\n",
       "            }\n",
       "        </style>\n",
       "        \n",
       "        <b></b>\n",
       "            <div style=\"max-height:1000px;max-width:1500px;overflow:auto;\">\n",
       "            <table border=\"1\" class=\"Relation\">\n",
       "                <thead> <tr style=\"text-align: right;\"> <th> <div class=\"djtooltip\">\n",
       "                                <p id=\"primary\">model_fn</p>\n",
       "                                <span class=\"djtooltiptext\">name of the model function</span>\n",
       "                            </div></th><th><div class=\"djtooltip\">\n",
       "                                <p id=\"primary\">model_hash</p>\n",
       "                                <span class=\"djtooltiptext\">hash of the model configuration</span>\n",
       "                            </div></th><th><div class=\"djtooltip\">\n",
       "                                <p id=\"nonprimary\">hidden_channels</p>\n",
       "                                <span class=\"djtooltiptext\">autogenerated column - int</span>\n",
       "                            </div></th><th><div class=\"djtooltip\">\n",
       "                                <p id=\"nonprimary\">input_kern</p>\n",
       "                                <span class=\"djtooltiptext\">autogenerated column - int</span>\n",
       "                            </div></th><th><div class=\"djtooltip\">\n",
       "                                <p id=\"nonprimary\">hidden_kern</p>\n",
       "                                <span class=\"djtooltiptext\">autogenerated column - int</span>\n",
       "                            </div></th><th><div class=\"djtooltip\">\n",
       "                                <p id=\"nonprimary\">layers</p>\n",
       "                                <span class=\"djtooltiptext\">autogenerated column - int</span>\n",
       "                            </div></th><th><div class=\"djtooltip\">\n",
       "                                <p id=\"nonprimary\">gamma_input</p>\n",
       "                                <span class=\"djtooltiptext\">autogenerated column - float</span>\n",
       "                            </div></th><th><div class=\"djtooltip\">\n",
       "                                <p id=\"nonprimary\">skip</p>\n",
       "                                <span class=\"djtooltiptext\">autogenerated column - int</span>\n",
       "                            </div></th><th><div class=\"djtooltip\">\n",
       "                                <p id=\"nonprimary\">final_nonlinearity</p>\n",
       "                                <span class=\"djtooltiptext\">autogenerated column - bool</span>\n",
       "                            </div></th><th><div class=\"djtooltip\">\n",
       "                                <p id=\"nonprimary\">momentum</p>\n",
       "                                <span class=\"djtooltiptext\">autogenerated column - float</span>\n",
       "                            </div></th><th><div class=\"djtooltip\">\n",
       "                                <p id=\"nonprimary\">pad_input</p>\n",
       "                                <span class=\"djtooltiptext\">autogenerated column - bool</span>\n",
       "                            </div></th><th><div class=\"djtooltip\">\n",
       "                                <p id=\"nonprimary\">batch_norm</p>\n",
       "                                <span class=\"djtooltiptext\">autogenerated column - bool</span>\n",
       "                            </div></th><th><div class=\"djtooltip\">\n",
       "                                <p id=\"nonprimary\">hidden_dilation</p>\n",
       "                                <span class=\"djtooltiptext\">autogenerated column - int</span>\n",
       "                            </div></th><th><div class=\"djtooltip\">\n",
       "                                <p id=\"nonprimary\">laplace_padding</p>\n",
       "                                <span class=\"djtooltiptext\">autogenerated column - longblob</span>\n",
       "                            </div></th><th><div class=\"djtooltip\">\n",
       "                                <p id=\"nonprimary\">input_regularizer</p>\n",
       "                                <span class=\"djtooltiptext\">autogenerated column - varchar(255)</span>\n",
       "                            </div></th><th><div class=\"djtooltip\">\n",
       "                                <p id=\"nonprimary\">init_mu_range</p>\n",
       "                                <span class=\"djtooltiptext\">autogenerated column - float</span>\n",
       "                            </div></th><th><div class=\"djtooltip\">\n",
       "                                <p id=\"nonprimary\">init_sigma</p>\n",
       "                                <span class=\"djtooltiptext\">autogenerated column - float</span>\n",
       "                            </div></th><th><div class=\"djtooltip\">\n",
       "                                <p id=\"nonprimary\">readout_bias</p>\n",
       "                                <span class=\"djtooltiptext\">autogenerated column - bool</span>\n",
       "                            </div></th><th><div class=\"djtooltip\">\n",
       "                                <p id=\"nonprimary\">gamma_readout</p>\n",
       "                                <span class=\"djtooltiptext\">autogenerated column - int</span>\n",
       "                            </div></th><th><div class=\"djtooltip\">\n",
       "                                <p id=\"nonprimary\">elu_offset</p>\n",
       "                                <span class=\"djtooltiptext\">autogenerated column - int</span>\n",
       "                            </div></th><th><div class=\"djtooltip\">\n",
       "                                <p id=\"nonprimary\">stack</p>\n",
       "                                <span class=\"djtooltiptext\">autogenerated column - longblob</span>\n",
       "                            </div></th><th><div class=\"djtooltip\">\n",
       "                                <p id=\"nonprimary\">se_reduction</p>\n",
       "                                <span class=\"djtooltiptext\">autogenerated column - int</span>\n",
       "                            </div></th><th><div class=\"djtooltip\">\n",
       "                                <p id=\"nonprimary\">n_se_blocks</p>\n",
       "                                <span class=\"djtooltiptext\">autogenerated column - int</span>\n",
       "                            </div></th><th><div class=\"djtooltip\">\n",
       "                                <p id=\"nonprimary\">depth_separable</p>\n",
       "                                <span class=\"djtooltiptext\">autogenerated column - bool</span>\n",
       "                            </div></th><th><div class=\"djtooltip\">\n",
       "                                <p id=\"nonprimary\">linear</p>\n",
       "                                <span class=\"djtooltiptext\">autogenerated column - bool</span>\n",
       "                            </div></th><th><div class=\"djtooltip\">\n",
       "                                <p id=\"nonprimary\">gauss_type</p>\n",
       "                                <span class=\"djtooltiptext\">autogenerated column - varchar(255)</span>\n",
       "                            </div></th><th><div class=\"djtooltip\">\n",
       "                                <p id=\"nonprimary\">grid_mean_predictor</p>\n",
       "                                <span class=\"djtooltiptext\">autogenerated column - longblob</span>\n",
       "                            </div></th><th><div class=\"djtooltip\">\n",
       "                                <p id=\"nonprimary\">share_features</p>\n",
       "                                <span class=\"djtooltiptext\">autogenerated column - bool</span>\n",
       "                            </div></th><th><div class=\"djtooltip\">\n",
       "                                <p id=\"nonprimary\">share_grid</p>\n",
       "                                <span class=\"djtooltiptext\">autogenerated column - bool</span>\n",
       "                            </div></th><th><div class=\"djtooltip\">\n",
       "                                <p id=\"nonprimary\">data_info</p>\n",
       "                                <span class=\"djtooltiptext\">autogenerated column - longblob</span>\n",
       "                            </div></th><th><div class=\"djtooltip\">\n",
       "                                <p id=\"nonprimary\">gamma_grid_dispersion</p>\n",
       "                                <span class=\"djtooltiptext\">autogenerated column - int</span>\n",
       "                            </div></th><th><div class=\"djtooltip\">\n",
       "                                <p id=\"nonprimary\">attention_conv</p>\n",
       "                                <span class=\"djtooltiptext\">autogenerated column - bool</span>\n",
       "                            </div> </th> </tr> </thead>\n",
       "                <tbody> <tr>  </tr> </tbody>\n",
       "            </table>\n",
       "            \n",
       "            <p>Total: 0</p></div>\n",
       "            "
      ],
      "text/plain": [
       "*model_fn    *model_hash    hidden_channel input_kern     hidden_kern    layers     gamma_input    skip     final_nonlinea momentum     pad_input     batch_norm     hidden_dilatio laplace_pa input_regulari init_mu_range  init_sigma     readout_bias   gamma_readout  elu_offset     stack      se_reduction   n_se_blocks    depth_separabl linear     gauss_type     grid_mean_ share_features share_grid     data_info  gamma_grid_dis attention_conv\n",
       "+----------+ +------------+ +------------+ +------------+ +------------+ +--------+ +------------+ +------+ +------------+ +----------+ +-----------+ +------------+ +------------+ +--------+ +------------+ +------------+ +------------+ +------------+ +------------+ +------------+ +--------+ +------------+ +------------+ +------------+ +--------+ +------------+ +--------+ +------------+ +------------+ +--------+ +------------+ +------------+\n",
       "\n",
       " (Total: 0)"
      ]
     },
     "execution_count": 36,
     "metadata": {},
     "output_type": "execute_result"
    }
   ],
   "source": [
    "ModelParams()"
   ]
  },
  {
   "cell_type": "code",
   "execution_count": 37,
   "metadata": {},
   "outputs": [],
   "source": [
    "ModelParams.populate()"
   ]
  },
  {
   "cell_type": "code",
   "execution_count": 38,
   "metadata": {},
   "outputs": [
    {
     "data": {
      "text/html": [
       "\n",
       "        \n",
       "        <style type=\"text/css\">\n",
       "            .Relation{\n",
       "                border-collapse:collapse;\n",
       "            }\n",
       "            .Relation th{\n",
       "                background: #A0A0A0; color: #ffffff; padding:4px; border:#f0e0e0 1px solid;\n",
       "                font-weight: normal; font-family: monospace; font-size: 100%;\n",
       "            }\n",
       "            .Relation td{\n",
       "                padding:4px; border:#f0e0e0 1px solid; font-size:100%;\n",
       "            }\n",
       "            .Relation tr:nth-child(odd){\n",
       "                background: #ffffff;\n",
       "            }\n",
       "            .Relation tr:nth-child(even){\n",
       "                background: #f3f1ff;\n",
       "            }\n",
       "            /* Tooltip container */\n",
       "            .djtooltip {\n",
       "            }\n",
       "            /* Tooltip text */\n",
       "            .djtooltip .djtooltiptext {\n",
       "                visibility: hidden;\n",
       "                width: 120px;\n",
       "                background-color: black;\n",
       "                color: #fff;\n",
       "                text-align: center;\n",
       "                padding: 5px 0;\n",
       "                border-radius: 6px;\n",
       "                /* Position the tooltip text - see examples below! */\n",
       "                position: absolute;\n",
       "                z-index: 1;\n",
       "            }\n",
       "            #primary {\n",
       "                font-weight: bold;\n",
       "                color: black;\n",
       "            }\n",
       "\n",
       "            #nonprimary {\n",
       "                font-weight: normal;\n",
       "                color: white;\n",
       "            }\n",
       "\n",
       "            /* Show the tooltip text when you mouse over the tooltip container */\n",
       "            .djtooltip:hover .djtooltiptext {\n",
       "                visibility: visible;\n",
       "            }\n",
       "        </style>\n",
       "        \n",
       "        <b></b>\n",
       "            <div style=\"max-height:1000px;max-width:1500px;overflow:auto;\">\n",
       "            <table border=\"1\" class=\"Relation\">\n",
       "                <thead> <tr style=\"text-align: right;\"> <th> <div class=\"djtooltip\">\n",
       "                                <p id=\"primary\">model_fn</p>\n",
       "                                <span class=\"djtooltiptext\">name of the model function</span>\n",
       "                            </div></th><th><div class=\"djtooltip\">\n",
       "                                <p id=\"primary\">model_hash</p>\n",
       "                                <span class=\"djtooltiptext\">hash of the model configuration</span>\n",
       "                            </div></th><th><div class=\"djtooltip\">\n",
       "                                <p id=\"nonprimary\">hidden_channels</p>\n",
       "                                <span class=\"djtooltiptext\">autogenerated column - int</span>\n",
       "                            </div></th><th><div class=\"djtooltip\">\n",
       "                                <p id=\"nonprimary\">input_kern</p>\n",
       "                                <span class=\"djtooltiptext\">autogenerated column - int</span>\n",
       "                            </div></th><th><div class=\"djtooltip\">\n",
       "                                <p id=\"nonprimary\">hidden_kern</p>\n",
       "                                <span class=\"djtooltiptext\">autogenerated column - int</span>\n",
       "                            </div></th><th><div class=\"djtooltip\">\n",
       "                                <p id=\"nonprimary\">layers</p>\n",
       "                                <span class=\"djtooltiptext\">autogenerated column - int</span>\n",
       "                            </div></th><th><div class=\"djtooltip\">\n",
       "                                <p id=\"nonprimary\">gamma_input</p>\n",
       "                                <span class=\"djtooltiptext\">autogenerated column - float</span>\n",
       "                            </div></th><th><div class=\"djtooltip\">\n",
       "                                <p id=\"nonprimary\">skip</p>\n",
       "                                <span class=\"djtooltiptext\">autogenerated column - int</span>\n",
       "                            </div></th><th><div class=\"djtooltip\">\n",
       "                                <p id=\"nonprimary\">final_nonlinearity</p>\n",
       "                                <span class=\"djtooltiptext\">autogenerated column - bool</span>\n",
       "                            </div></th><th><div class=\"djtooltip\">\n",
       "                                <p id=\"nonprimary\">momentum</p>\n",
       "                                <span class=\"djtooltiptext\">autogenerated column - float</span>\n",
       "                            </div></th><th><div class=\"djtooltip\">\n",
       "                                <p id=\"nonprimary\">pad_input</p>\n",
       "                                <span class=\"djtooltiptext\">autogenerated column - bool</span>\n",
       "                            </div></th><th><div class=\"djtooltip\">\n",
       "                                <p id=\"nonprimary\">batch_norm</p>\n",
       "                                <span class=\"djtooltiptext\">autogenerated column - bool</span>\n",
       "                            </div></th><th><div class=\"djtooltip\">\n",
       "                                <p id=\"nonprimary\">hidden_dilation</p>\n",
       "                                <span class=\"djtooltiptext\">autogenerated column - int</span>\n",
       "                            </div></th><th><div class=\"djtooltip\">\n",
       "                                <p id=\"nonprimary\">laplace_padding</p>\n",
       "                                <span class=\"djtooltiptext\">autogenerated column - longblob</span>\n",
       "                            </div></th><th><div class=\"djtooltip\">\n",
       "                                <p id=\"nonprimary\">input_regularizer</p>\n",
       "                                <span class=\"djtooltiptext\">autogenerated column - varchar(255)</span>\n",
       "                            </div></th><th><div class=\"djtooltip\">\n",
       "                                <p id=\"nonprimary\">init_mu_range</p>\n",
       "                                <span class=\"djtooltiptext\">autogenerated column - float</span>\n",
       "                            </div></th><th><div class=\"djtooltip\">\n",
       "                                <p id=\"nonprimary\">init_sigma</p>\n",
       "                                <span class=\"djtooltiptext\">autogenerated column - float</span>\n",
       "                            </div></th><th><div class=\"djtooltip\">\n",
       "                                <p id=\"nonprimary\">readout_bias</p>\n",
       "                                <span class=\"djtooltiptext\">autogenerated column - bool</span>\n",
       "                            </div></th><th><div class=\"djtooltip\">\n",
       "                                <p id=\"nonprimary\">gamma_readout</p>\n",
       "                                <span class=\"djtooltiptext\">autogenerated column - int</span>\n",
       "                            </div></th><th><div class=\"djtooltip\">\n",
       "                                <p id=\"nonprimary\">elu_offset</p>\n",
       "                                <span class=\"djtooltiptext\">autogenerated column - int</span>\n",
       "                            </div></th><th><div class=\"djtooltip\">\n",
       "                                <p id=\"nonprimary\">stack</p>\n",
       "                                <span class=\"djtooltiptext\">autogenerated column - longblob</span>\n",
       "                            </div></th><th><div class=\"djtooltip\">\n",
       "                                <p id=\"nonprimary\">se_reduction</p>\n",
       "                                <span class=\"djtooltiptext\">autogenerated column - int</span>\n",
       "                            </div></th><th><div class=\"djtooltip\">\n",
       "                                <p id=\"nonprimary\">n_se_blocks</p>\n",
       "                                <span class=\"djtooltiptext\">autogenerated column - int</span>\n",
       "                            </div></th><th><div class=\"djtooltip\">\n",
       "                                <p id=\"nonprimary\">depth_separable</p>\n",
       "                                <span class=\"djtooltiptext\">autogenerated column - bool</span>\n",
       "                            </div></th><th><div class=\"djtooltip\">\n",
       "                                <p id=\"nonprimary\">linear</p>\n",
       "                                <span class=\"djtooltiptext\">autogenerated column - bool</span>\n",
       "                            </div></th><th><div class=\"djtooltip\">\n",
       "                                <p id=\"nonprimary\">gauss_type</p>\n",
       "                                <span class=\"djtooltiptext\">autogenerated column - varchar(255)</span>\n",
       "                            </div></th><th><div class=\"djtooltip\">\n",
       "                                <p id=\"nonprimary\">grid_mean_predictor</p>\n",
       "                                <span class=\"djtooltiptext\">autogenerated column - longblob</span>\n",
       "                            </div></th><th><div class=\"djtooltip\">\n",
       "                                <p id=\"nonprimary\">share_features</p>\n",
       "                                <span class=\"djtooltiptext\">autogenerated column - bool</span>\n",
       "                            </div></th><th><div class=\"djtooltip\">\n",
       "                                <p id=\"nonprimary\">share_grid</p>\n",
       "                                <span class=\"djtooltiptext\">autogenerated column - bool</span>\n",
       "                            </div></th><th><div class=\"djtooltip\">\n",
       "                                <p id=\"nonprimary\">data_info</p>\n",
       "                                <span class=\"djtooltiptext\">autogenerated column - longblob</span>\n",
       "                            </div></th><th><div class=\"djtooltip\">\n",
       "                                <p id=\"nonprimary\">gamma_grid_dispersion</p>\n",
       "                                <span class=\"djtooltiptext\">autogenerated column - int</span>\n",
       "                            </div></th><th><div class=\"djtooltip\">\n",
       "                                <p id=\"nonprimary\">attention_conv</p>\n",
       "                                <span class=\"djtooltiptext\">autogenerated column - bool</span>\n",
       "                            </div> </th> </tr> </thead>\n",
       "                <tbody> <tr> <td>nnvision.models.se_core_full_gauss_readout</td>\n",
       "<td>a08c72eb2972056853de6f1ce881e0f0</td>\n",
       "<td>32</td>\n",
       "<td>20</td>\n",
       "<td>5</td>\n",
       "<td>3</td>\n",
       "<td>11.2</td>\n",
       "<td>0</td>\n",
       "<td>1</td>\n",
       "<td>0.9</td>\n",
       "<td>0</td>\n",
       "<td>1</td>\n",
       "<td>1</td>\n",
       "<td>=BLOB=</td>\n",
       "<td>LaplaceL2norm</td>\n",
       "<td>0.2</td>\n",
       "<td>1.0</td>\n",
       "<td>1</td>\n",
       "<td>0</td>\n",
       "<td>0</td>\n",
       "<td>=BLOB=</td>\n",
       "<td>32</td>\n",
       "<td>0</td>\n",
       "<td>1</td>\n",
       "<td>0</td>\n",
       "<td>isotropic</td>\n",
       "<td>=BLOB=</td>\n",
       "<td>0</td>\n",
       "<td>0</td>\n",
       "<td>=BLOB=</td>\n",
       "<td>0</td>\n",
       "<td>0</td> </tr> </tbody>\n",
       "            </table>\n",
       "            \n",
       "            <p>Total: 1</p></div>\n",
       "            "
      ],
      "text/plain": [
       "*model_fn      *model_hash    hidden_channel input_kern     hidden_kern    layers     gamma_input    skip     final_nonlinea momentum     pad_input     batch_norm     hidden_dilatio laplace_pa input_regulari init_mu_range  init_sigma     readout_bias   gamma_readout  elu_offset     stack      se_reduction   n_se_blocks    depth_separabl linear     gauss_type     grid_mean_ share_features share_grid     data_info  gamma_grid_dis attention_conv\n",
       "+------------+ +------------+ +------------+ +------------+ +------------+ +--------+ +------------+ +------+ +------------+ +----------+ +-----------+ +------------+ +------------+ +--------+ +------------+ +------------+ +------------+ +------------+ +------------+ +------------+ +--------+ +------------+ +------------+ +------------+ +--------+ +------------+ +--------+ +------------+ +------------+ +--------+ +------------+ +------------+\n",
       "nnvision.model a08c72eb297205 32             20             5              3          11.2           0        1              0.9          0             1              1              =BLOB=     LaplaceL2norm  0.2            1.0            1              0              0              =BLOB=     32             0              1              0          isotropic      =BLOB=     0              0              =BLOB=     0              0             \n",
       " (Total: 1)"
      ]
     },
     "execution_count": 38,
     "metadata": {},
     "output_type": "execute_result"
    }
   ],
   "source": [
    "ModelParams()"
   ]
  },
  {
   "cell_type": "code",
   "execution_count": 47,
   "metadata": {},
   "outputs": [
    {
     "data": {
      "text/html": [
       "\n",
       "        \n",
       "        <style type=\"text/css\">\n",
       "            .Relation{\n",
       "                border-collapse:collapse;\n",
       "            }\n",
       "            .Relation th{\n",
       "                background: #A0A0A0; color: #ffffff; padding:4px; border:#f0e0e0 1px solid;\n",
       "                font-weight: normal; font-family: monospace; font-size: 100%;\n",
       "            }\n",
       "            .Relation td{\n",
       "                padding:4px; border:#f0e0e0 1px solid; font-size:100%;\n",
       "            }\n",
       "            .Relation tr:nth-child(odd){\n",
       "                background: #ffffff;\n",
       "            }\n",
       "            .Relation tr:nth-child(even){\n",
       "                background: #f3f1ff;\n",
       "            }\n",
       "            /* Tooltip container */\n",
       "            .djtooltip {\n",
       "            }\n",
       "            /* Tooltip text */\n",
       "            .djtooltip .djtooltiptext {\n",
       "                visibility: hidden;\n",
       "                width: 120px;\n",
       "                background-color: black;\n",
       "                color: #fff;\n",
       "                text-align: center;\n",
       "                padding: 5px 0;\n",
       "                border-radius: 6px;\n",
       "                /* Position the tooltip text - see examples below! */\n",
       "                position: absolute;\n",
       "                z-index: 1;\n",
       "            }\n",
       "            #primary {\n",
       "                font-weight: bold;\n",
       "                color: black;\n",
       "            }\n",
       "\n",
       "            #nonprimary {\n",
       "                font-weight: normal;\n",
       "                color: white;\n",
       "            }\n",
       "\n",
       "            /* Show the tooltip text when you mouse over the tooltip container */\n",
       "            .djtooltip:hover .djtooltiptext {\n",
       "                visibility: visible;\n",
       "            }\n",
       "        </style>\n",
       "        \n",
       "        \n",
       "            <div style=\"max-height:1000px;max-width:1500px;overflow:auto;\">\n",
       "            <table border=\"1\" class=\"Relation\">\n",
       "                <thead> <tr style=\"text-align: right;\"> <th> <div class=\"djtooltip\">\n",
       "                                <p id=\"primary\">model_fn</p>\n",
       "                                <span class=\"djtooltiptext\">name of the model function</span>\n",
       "                            </div></th><th><div class=\"djtooltip\">\n",
       "                                <p id=\"primary\">model_hash</p>\n",
       "                                <span class=\"djtooltiptext\">hash of the model configuration</span>\n",
       "                            </div></th><th><div class=\"djtooltip\">\n",
       "                                <p id=\"primary\">dataset_fn</p>\n",
       "                                <span class=\"djtooltiptext\">name of the dataset loader function</span>\n",
       "                            </div></th><th><div class=\"djtooltip\">\n",
       "                                <p id=\"primary\">dataset_hash</p>\n",
       "                                <span class=\"djtooltiptext\">hash of the configuration object</span>\n",
       "                            </div></th><th><div class=\"djtooltip\">\n",
       "                                <p id=\"primary\">trainer_fn</p>\n",
       "                                <span class=\"djtooltiptext\">name of the Trainer loader function</span>\n",
       "                            </div></th><th><div class=\"djtooltip\">\n",
       "                                <p id=\"primary\">trainer_hash</p>\n",
       "                                <span class=\"djtooltiptext\">hash of the configuration object</span>\n",
       "                            </div></th><th><div class=\"djtooltip\">\n",
       "                                <p id=\"primary\">seed</p>\n",
       "                                <span class=\"djtooltiptext\">Random seed that is passed to the model- and dataset-builder</span>\n",
       "                            </div></th><th><div class=\"djtooltip\">\n",
       "                                <p id=\"nonprimary\">comment</p>\n",
       "                                <span class=\"djtooltiptext\">short description</span>\n",
       "                            </div></th><th><div class=\"djtooltip\">\n",
       "                                <p id=\"nonprimary\">score</p>\n",
       "                                <span class=\"djtooltiptext\">loss</span>\n",
       "                            </div></th><th><div class=\"djtooltip\">\n",
       "                                <p id=\"nonprimary\">output</p>\n",
       "                                <span class=\"djtooltiptext\">trainer object's output</span>\n",
       "                            </div></th><th><div class=\"djtooltip\">\n",
       "                                <p id=\"nonprimary\">fabrikant_name</p>\n",
       "                                <span class=\"djtooltiptext\">Name of the contributor that added this entry</span>\n",
       "                            </div></th><th><div class=\"djtooltip\">\n",
       "                                <p id=\"nonprimary\">trainedmodel_ts</p>\n",
       "                                <span class=\"djtooltiptext\">UTZ timestamp at time of insertion</span>\n",
       "                            </div></th><th><div class=\"djtooltip\">\n",
       "                                <p id=\"nonprimary\">hidden_channels</p>\n",
       "                                <span class=\"djtooltiptext\">autogenerated column - int</span>\n",
       "                            </div></th><th><div class=\"djtooltip\">\n",
       "                                <p id=\"nonprimary\">input_kern</p>\n",
       "                                <span class=\"djtooltiptext\">autogenerated column - int</span>\n",
       "                            </div></th><th><div class=\"djtooltip\">\n",
       "                                <p id=\"nonprimary\">hidden_kern</p>\n",
       "                                <span class=\"djtooltiptext\">autogenerated column - int</span>\n",
       "                            </div></th><th><div class=\"djtooltip\">\n",
       "                                <p id=\"nonprimary\">layers</p>\n",
       "                                <span class=\"djtooltiptext\">autogenerated column - int</span>\n",
       "                            </div></th><th><div class=\"djtooltip\">\n",
       "                                <p id=\"nonprimary\">gamma_input</p>\n",
       "                                <span class=\"djtooltiptext\">autogenerated column - float</span>\n",
       "                            </div></th><th><div class=\"djtooltip\">\n",
       "                                <p id=\"nonprimary\">skip</p>\n",
       "                                <span class=\"djtooltiptext\">autogenerated column - int</span>\n",
       "                            </div></th><th><div class=\"djtooltip\">\n",
       "                                <p id=\"nonprimary\">final_nonlinearity</p>\n",
       "                                <span class=\"djtooltiptext\">autogenerated column - bool</span>\n",
       "                            </div></th><th><div class=\"djtooltip\">\n",
       "                                <p id=\"nonprimary\">momentum</p>\n",
       "                                <span class=\"djtooltiptext\">autogenerated column - float</span>\n",
       "                            </div></th><th><div class=\"djtooltip\">\n",
       "                                <p id=\"nonprimary\">pad_input</p>\n",
       "                                <span class=\"djtooltiptext\">autogenerated column - bool</span>\n",
       "                            </div></th><th><div class=\"djtooltip\">\n",
       "                                <p id=\"nonprimary\">batch_norm</p>\n",
       "                                <span class=\"djtooltiptext\">autogenerated column - bool</span>\n",
       "                            </div></th><th><div class=\"djtooltip\">\n",
       "                                <p id=\"nonprimary\">hidden_dilation</p>\n",
       "                                <span class=\"djtooltiptext\">autogenerated column - int</span>\n",
       "                            </div></th><th><div class=\"djtooltip\">\n",
       "                                <p id=\"nonprimary\">laplace_padding</p>\n",
       "                                <span class=\"djtooltiptext\">autogenerated column - longblob</span>\n",
       "                            </div></th><th><div class=\"djtooltip\">\n",
       "                                <p id=\"nonprimary\">input_regularizer</p>\n",
       "                                <span class=\"djtooltiptext\">autogenerated column - varchar(255)</span>\n",
       "                            </div></th><th><div class=\"djtooltip\">\n",
       "                                <p id=\"nonprimary\">init_mu_range</p>\n",
       "                                <span class=\"djtooltiptext\">autogenerated column - float</span>\n",
       "                            </div></th><th><div class=\"djtooltip\">\n",
       "                                <p id=\"nonprimary\">init_sigma</p>\n",
       "                                <span class=\"djtooltiptext\">autogenerated column - float</span>\n",
       "                            </div></th><th><div class=\"djtooltip\">\n",
       "                                <p id=\"nonprimary\">readout_bias</p>\n",
       "                                <span class=\"djtooltiptext\">autogenerated column - bool</span>\n",
       "                            </div></th><th><div class=\"djtooltip\">\n",
       "                                <p id=\"nonprimary\">gamma_readout</p>\n",
       "                                <span class=\"djtooltiptext\">autogenerated column - int</span>\n",
       "                            </div></th><th><div class=\"djtooltip\">\n",
       "                                <p id=\"nonprimary\">elu_offset</p>\n",
       "                                <span class=\"djtooltiptext\">autogenerated column - int</span>\n",
       "                            </div></th><th><div class=\"djtooltip\">\n",
       "                                <p id=\"nonprimary\">stack</p>\n",
       "                                <span class=\"djtooltiptext\">autogenerated column - longblob</span>\n",
       "                            </div></th><th><div class=\"djtooltip\">\n",
       "                                <p id=\"nonprimary\">se_reduction</p>\n",
       "                                <span class=\"djtooltiptext\">autogenerated column - int</span>\n",
       "                            </div></th><th><div class=\"djtooltip\">\n",
       "                                <p id=\"nonprimary\">n_se_blocks</p>\n",
       "                                <span class=\"djtooltiptext\">autogenerated column - int</span>\n",
       "                            </div></th><th><div class=\"djtooltip\">\n",
       "                                <p id=\"nonprimary\">depth_separable</p>\n",
       "                                <span class=\"djtooltiptext\">autogenerated column - bool</span>\n",
       "                            </div></th><th><div class=\"djtooltip\">\n",
       "                                <p id=\"nonprimary\">linear</p>\n",
       "                                <span class=\"djtooltiptext\">autogenerated column - bool</span>\n",
       "                            </div></th><th><div class=\"djtooltip\">\n",
       "                                <p id=\"nonprimary\">gauss_type</p>\n",
       "                                <span class=\"djtooltiptext\">autogenerated column - varchar(255)</span>\n",
       "                            </div></th><th><div class=\"djtooltip\">\n",
       "                                <p id=\"nonprimary\">grid_mean_predictor</p>\n",
       "                                <span class=\"djtooltiptext\">autogenerated column - longblob</span>\n",
       "                            </div></th><th><div class=\"djtooltip\">\n",
       "                                <p id=\"nonprimary\">share_features</p>\n",
       "                                <span class=\"djtooltiptext\">autogenerated column - bool</span>\n",
       "                            </div></th><th><div class=\"djtooltip\">\n",
       "                                <p id=\"nonprimary\">share_grid</p>\n",
       "                                <span class=\"djtooltiptext\">autogenerated column - bool</span>\n",
       "                            </div></th><th><div class=\"djtooltip\">\n",
       "                                <p id=\"nonprimary\">data_info</p>\n",
       "                                <span class=\"djtooltiptext\">autogenerated column - longblob</span>\n",
       "                            </div></th><th><div class=\"djtooltip\">\n",
       "                                <p id=\"nonprimary\">gamma_grid_dispersion</p>\n",
       "                                <span class=\"djtooltiptext\">autogenerated column - int</span>\n",
       "                            </div></th><th><div class=\"djtooltip\">\n",
       "                                <p id=\"nonprimary\">attention_conv</p>\n",
       "                                <span class=\"djtooltiptext\">autogenerated column - bool</span>\n",
       "                            </div> </th> </tr> </thead>\n",
       "                <tbody> <tr> <td>nnvision.models.se_core_full_gauss_readout</td>\n",
       "<td>a08c72eb2972056853de6f1ce881e0f0</td>\n",
       "<td>nnvision.datasets.monkey_static_loader</td>\n",
       "<td>b13210feedc7c9d926c489f5774193b9</td>\n",
       "<td>nnvision.training.nnvision_trainer</td>\n",
       "<td>e225a557fe8039df3717ddbe4686caa9</td>\n",
       "<td>1000</td>\n",
       "<td>max_iter: 2.isotropic.CSRF_V1</td>\n",
       "<td>0.263053</td>\n",
       "<td>=BLOB=</td>\n",
       "<td>pawelp</td>\n",
       "<td>2020-11-19 16:20:52</td>\n",
       "<td>32</td>\n",
       "<td>20</td>\n",
       "<td>5</td>\n",
       "<td>3</td>\n",
       "<td>11.2</td>\n",
       "<td>0</td>\n",
       "<td>1</td>\n",
       "<td>0.9</td>\n",
       "<td>0</td>\n",
       "<td>1</td>\n",
       "<td>1</td>\n",
       "<td>=BLOB=</td>\n",
       "<td>LaplaceL2norm</td>\n",
       "<td>0.2</td>\n",
       "<td>1.0</td>\n",
       "<td>1</td>\n",
       "<td>0</td>\n",
       "<td>0</td>\n",
       "<td>=BLOB=</td>\n",
       "<td>32</td>\n",
       "<td>0</td>\n",
       "<td>1</td>\n",
       "<td>0</td>\n",
       "<td>isotropic</td>\n",
       "<td>=BLOB=</td>\n",
       "<td>0</td>\n",
       "<td>0</td>\n",
       "<td>=BLOB=</td>\n",
       "<td>0</td>\n",
       "<td>0</td> </tr> </tbody>\n",
       "            </table>\n",
       "            \n",
       "            <p>Total: 1</p></div>\n",
       "            "
      ],
      "text/plain": [
       "*model_fn      *model_hash    *dataset_fn    *dataset_hash  *trainer_fn    *trainer_hash  *seed    comment        score        output     fabrikant_name trainedmodel_t hidden_channel input_kern     hidden_kern    layers     gamma_input    skip     final_nonlinea momentum     pad_input     batch_norm     hidden_dilatio laplace_pa input_regulari init_mu_range  init_sigma     readout_bias   gamma_readout  elu_offset     stack      se_reduction   n_se_blocks    depth_separabl linear     gauss_type     grid_mean_ share_features share_grid     data_info  gamma_grid_dis attention_conv\n",
       "+------------+ +------------+ +------------+ +------------+ +------------+ +------------+ +------+ +------------+ +----------+ +--------+ +------------+ +------------+ +------------+ +------------+ +------------+ +--------+ +------------+ +------+ +------------+ +----------+ +-----------+ +------------+ +------------+ +--------+ +------------+ +------------+ +------------+ +------------+ +------------+ +------------+ +--------+ +------------+ +------------+ +------------+ +--------+ +------------+ +--------+ +------------+ +------------+ +--------+ +------------+ +------------+\n",
       "nnvision.model a08c72eb297205 nnvision.datas b13210feedc7c9 nnvision.train e225a557fe8039 1000     max_iter: 2.is 0.263053     =BLOB=     pawelp         2020-11-19 16: 32             20             5              3          11.2           0        1              0.9          0             1              1              =BLOB=     LaplaceL2norm  0.2            1.0            1              0              0              =BLOB=     32             0              1              0          isotropic      =BLOB=     0              0              =BLOB=     0              0             \n",
       " (Total: 1)"
      ]
     },
     "execution_count": 47,
     "metadata": {},
     "output_type": "execute_result"
    }
   ],
   "source": [
    "# for example:\n",
    "TrainedModel*ModelParams&\"hidden_kern=5\""
   ]
  },
  {
   "cell_type": "code",
   "execution_count": 48,
   "metadata": {},
   "outputs": [
    {
     "ename": "AttributeError",
     "evalue": "'Join' object has no attribute 'load_model'",
     "output_type": "error",
     "traceback": [
      "\u001B[0;31m---------------------------------------------------------------------------\u001B[0m",
      "\u001B[0;31mAttributeError\u001B[0m                            Traceback (most recent call last)",
      "\u001B[0;32m<ipython-input-48-83017701424d>\u001B[0m in \u001B[0;36m<module>\u001B[0;34m\u001B[0m\n\u001B[1;32m      1\u001B[0m \u001B[0;31m# Now you can just use that for building the model:\u001B[0m\u001B[0;34m\u001B[0m\u001B[0;34m\u001B[0m\u001B[0;34m\u001B[0m\u001B[0m\n\u001B[0;32m----> 2\u001B[0;31m \u001B[0mdataloaders\u001B[0m\u001B[0;34m,\u001B[0m \u001B[0mmodel\u001B[0m \u001B[0;34m=\u001B[0m \u001B[0;34m(\u001B[0m\u001B[0mTrainedModel\u001B[0m\u001B[0;34m*\u001B[0m\u001B[0mModelParams\u001B[0m\u001B[0;34m&\u001B[0m\u001B[0;34m\"hidden_kern=5\"\u001B[0m\u001B[0;34m)\u001B[0m\u001B[0;34m.\u001B[0m\u001B[0mload_model\u001B[0m\u001B[0;34m(\u001B[0m\u001B[0;34m)\u001B[0m\u001B[0;34m\u001B[0m\u001B[0;34m\u001B[0m\u001B[0m\n\u001B[0m",
      "\u001B[0;31mAttributeError\u001B[0m: 'Join' object has no attribute 'load_model'"
     ]
    }
   ],
   "source": [
    "# Now you can just use that for building the model:\n",
    "dataloaders, model = (TrainedModel*ModelParams&\"hidden_kern=5\").load_model()"
   ]
  },
  {
   "cell_type": "markdown",
   "metadata": {
    "pycharm": {
     "name": "#%% md\n"
    }
   },
   "source": [
    "### Training New Model"
   ]
  },
  {
   "cell_type": "code",
   "execution_count": 52,
   "metadata": {},
   "outputs": [
    {
     "ename": "DataJointError",
     "evalue": "fetch1 should only return one tuple. 0 tuples were found",
     "output_type": "error",
     "traceback": [
      "\u001B[0;31m---------------------------------------------------------------------------\u001B[0m",
      "\u001B[0;31mDataJointError\u001B[0m                            Traceback (most recent call last)",
      "\u001B[0;32m<ipython-input-52-4d95602020d1>\u001B[0m in \u001B[0;36m<module>\u001B[0;34m\u001B[0m\n\u001B[1;32m      8\u001B[0m   'ensemble_hash': 'e7a8d0b961ee37ffda0779bfed95f1cf'}]\n\u001B[1;32m      9\u001B[0m \u001B[0;34m\u001B[0m\u001B[0m\n\u001B[0;32m---> 10\u001B[0;31m \u001B[0mmodel_config\u001B[0m \u001B[0;34m=\u001B[0m \u001B[0mTrainedModel\u001B[0m\u001B[0;34m(\u001B[0m\u001B[0;34m)\u001B[0m\u001B[0;34m.\u001B[0m\u001B[0mget_full_config\u001B[0m\u001B[0;34m(\u001B[0m\u001B[0mmodel_key\u001B[0m\u001B[0;34m,\u001B[0m \u001B[0minclude_trainer\u001B[0m\u001B[0;34m=\u001B[0m\u001B[0;32mFalse\u001B[0m\u001B[0;34m,\u001B[0m \u001B[0minclude_state_dict\u001B[0m\u001B[0;34m=\u001B[0m\u001B[0;32mFalse\u001B[0m\u001B[0;34m)\u001B[0m\u001B[0;34m\u001B[0m\u001B[0;34m\u001B[0m\u001B[0m\n\u001B[0m",
      "\u001B[0;32m/src/nnfabrik/nnfabrik/templates/trained_model.py\u001B[0m in \u001B[0;36mget_full_config\u001B[0;34m(self, key, include_state_dict, include_trainer)\u001B[0m\n\u001B[1;32m    115\u001B[0m             \u001B[0mkey\u001B[0m \u001B[0;34m=\u001B[0m \u001B[0mself\u001B[0m\u001B[0;34m.\u001B[0m\u001B[0mfetch1\u001B[0m\u001B[0;34m(\u001B[0m\u001B[0;34m\"KEY\"\u001B[0m\u001B[0;34m)\u001B[0m\u001B[0;34m\u001B[0m\u001B[0;34m\u001B[0m\u001B[0m\n\u001B[1;32m    116\u001B[0m \u001B[0;34m\u001B[0m\u001B[0m\n\u001B[0;32m--> 117\u001B[0;31m         \u001B[0mmodel_fn\u001B[0m\u001B[0;34m,\u001B[0m \u001B[0mmodel_config\u001B[0m \u001B[0;34m=\u001B[0m \u001B[0;34m(\u001B[0m\u001B[0mself\u001B[0m\u001B[0;34m.\u001B[0m\u001B[0mmodel_table\u001B[0m \u001B[0;34m&\u001B[0m \u001B[0mkey\u001B[0m\u001B[0;34m)\u001B[0m\u001B[0;34m.\u001B[0m\u001B[0mfn_config\u001B[0m\u001B[0;34m\u001B[0m\u001B[0;34m\u001B[0m\u001B[0m\n\u001B[0m\u001B[1;32m    118\u001B[0m         \u001B[0mdataset_fn\u001B[0m\u001B[0;34m,\u001B[0m \u001B[0mdataset_config\u001B[0m \u001B[0;34m=\u001B[0m \u001B[0;34m(\u001B[0m\u001B[0mself\u001B[0m\u001B[0;34m.\u001B[0m\u001B[0mdataset_table\u001B[0m \u001B[0;34m&\u001B[0m \u001B[0mkey\u001B[0m\u001B[0;34m)\u001B[0m\u001B[0;34m.\u001B[0m\u001B[0mfn_config\u001B[0m\u001B[0;34m\u001B[0m\u001B[0;34m\u001B[0m\u001B[0m\n\u001B[1;32m    119\u001B[0m \u001B[0;34m\u001B[0m\u001B[0m\n",
      "\u001B[0;32m/src/nnfabrik/nnfabrik/main.py\u001B[0m in \u001B[0;36mfn_config\u001B[0;34m(self)\u001B[0m\n\u001B[1;32m    113\u001B[0m     \u001B[0;34m@\u001B[0m\u001B[0mproperty\u001B[0m\u001B[0;34m\u001B[0m\u001B[0;34m\u001B[0m\u001B[0m\n\u001B[1;32m    114\u001B[0m     \u001B[0;32mdef\u001B[0m \u001B[0mfn_config\u001B[0m\u001B[0;34m(\u001B[0m\u001B[0mself\u001B[0m\u001B[0;34m)\u001B[0m\u001B[0;34m:\u001B[0m\u001B[0;34m\u001B[0m\u001B[0;34m\u001B[0m\u001B[0m\n\u001B[0;32m--> 115\u001B[0;31m         \u001B[0mmodel_fn\u001B[0m\u001B[0;34m,\u001B[0m \u001B[0mmodel_config\u001B[0m \u001B[0;34m=\u001B[0m \u001B[0mself\u001B[0m\u001B[0;34m.\u001B[0m\u001B[0mfetch1\u001B[0m\u001B[0;34m(\u001B[0m\u001B[0;34m\"model_fn\"\u001B[0m\u001B[0;34m,\u001B[0m \u001B[0;34m\"model_config\"\u001B[0m\u001B[0;34m)\u001B[0m\u001B[0;34m\u001B[0m\u001B[0;34m\u001B[0m\u001B[0m\n\u001B[0m\u001B[1;32m    116\u001B[0m         \u001B[0mmodel_config\u001B[0m \u001B[0;34m=\u001B[0m \u001B[0mcleanup_numpy_scalar\u001B[0m\u001B[0;34m(\u001B[0m\u001B[0mmodel_config\u001B[0m\u001B[0;34m)\u001B[0m\u001B[0;34m\u001B[0m\u001B[0;34m\u001B[0m\u001B[0m\n\u001B[1;32m    117\u001B[0m         \u001B[0;32mreturn\u001B[0m \u001B[0mmodel_fn\u001B[0m\u001B[0;34m,\u001B[0m \u001B[0mmodel_config\u001B[0m\u001B[0;34m\u001B[0m\u001B[0;34m\u001B[0m\u001B[0m\n",
      "\u001B[0;32m/usr/local/lib/python3.8/dist-packages/datajoint/fetch.py\u001B[0m in \u001B[0;36m__call__\u001B[0;34m(self, squeeze, download_path, *attrs)\u001B[0m\n\u001B[1;32m    245\u001B[0m             \u001B[0mresult\u001B[0m \u001B[0;34m=\u001B[0m \u001B[0mself\u001B[0m\u001B[0;34m.\u001B[0m\u001B[0m_expression\u001B[0m\u001B[0;34m.\u001B[0m\u001B[0mproj\u001B[0m\u001B[0;34m(\u001B[0m\u001B[0;34m*\u001B[0m\u001B[0mattributes\u001B[0m\u001B[0;34m)\u001B[0m\u001B[0;34m.\u001B[0m\u001B[0mfetch\u001B[0m\u001B[0;34m(\u001B[0m\u001B[0msqueeze\u001B[0m\u001B[0;34m=\u001B[0m\u001B[0msqueeze\u001B[0m\u001B[0;34m,\u001B[0m \u001B[0mdownload_path\u001B[0m\u001B[0;34m=\u001B[0m\u001B[0mdownload_path\u001B[0m\u001B[0;34m)\u001B[0m\u001B[0;34m\u001B[0m\u001B[0;34m\u001B[0m\u001B[0m\n\u001B[1;32m    246\u001B[0m             \u001B[0;32mif\u001B[0m \u001B[0mlen\u001B[0m\u001B[0;34m(\u001B[0m\u001B[0mresult\u001B[0m\u001B[0;34m)\u001B[0m \u001B[0;34m!=\u001B[0m \u001B[0;36m1\u001B[0m\u001B[0;34m:\u001B[0m\u001B[0;34m\u001B[0m\u001B[0;34m\u001B[0m\u001B[0m\n\u001B[0;32m--> 247\u001B[0;31m                 \u001B[0;32mraise\u001B[0m \u001B[0mDataJointError\u001B[0m\u001B[0;34m(\u001B[0m\u001B[0;34m'fetch1 should only return one tuple. %d tuples were found'\u001B[0m \u001B[0;34m%\u001B[0m \u001B[0mlen\u001B[0m\u001B[0;34m(\u001B[0m\u001B[0mresult\u001B[0m\u001B[0;34m)\u001B[0m\u001B[0;34m)\u001B[0m\u001B[0;34m\u001B[0m\u001B[0;34m\u001B[0m\u001B[0m\n\u001B[0m\u001B[1;32m    248\u001B[0m             return_values = tuple(\n\u001B[1;32m    249\u001B[0m                 \u001B[0mnext\u001B[0m\u001B[0;34m(\u001B[0m\u001B[0mto_dicts\u001B[0m\u001B[0;34m(\u001B[0m\u001B[0mresult\u001B[0m\u001B[0;34m[\u001B[0m\u001B[0mself\u001B[0m\u001B[0;34m.\u001B[0m\u001B[0m_expression\u001B[0m\u001B[0;34m.\u001B[0m\u001B[0mprimary_key\u001B[0m\u001B[0;34m]\u001B[0m\u001B[0;34m)\u001B[0m\u001B[0;34m)\u001B[0m \u001B[0;32mif\u001B[0m \u001B[0mis_key\u001B[0m\u001B[0;34m(\u001B[0m\u001B[0mattribute\u001B[0m\u001B[0;34m)\u001B[0m \u001B[0;32melse\u001B[0m \u001B[0mresult\u001B[0m\u001B[0;34m[\u001B[0m\u001B[0mattribute\u001B[0m\u001B[0;34m]\u001B[0m\u001B[0;34m[\u001B[0m\u001B[0;36m0\u001B[0m\u001B[0;34m]\u001B[0m\u001B[0;34m\u001B[0m\u001B[0;34m\u001B[0m\u001B[0m\n",
      "\u001B[0;31mDataJointError\u001B[0m: fetch1 should only return one tuple. 0 tuples were found"
     ]
    }
   ],
   "source": [
    "model_key = [{'model_fn': 'nnvision.models.se_core_point_readout',\n",
    "  'model_hash': 'f8bcd882c48a55dc6cd6d7afb656f1f9',\n",
    "  'dataset_fn': 'nnvision.datasets.monkey_static_loader',\n",
    "  'dataset_hash': 'a737408da40cfedd036c2eb1b8a31ff1',\n",
    "  'trainer_fn': 'nnvision.training.nnvision_trainer',\n",
    "  'trainer_hash': '2a2816c50c67295376b4e89448430985',\n",
    "  'seed': 2000,\n",
    "  'ensemble_hash': 'e7a8d0b961ee37ffda0779bfed95f1cf'}]\n",
    "\n",
    "model_config = TrainedModel().get_full_config(model_key, include_trainer=False, include_state_dict=False)"
   ]
  },
  {
   "cell_type": "code",
   "execution_count": null,
   "metadata": {
    "pycharm": {
     "name": "#%%\n"
    }
   },
   "outputs": [],
   "source": [
    "model_fn = 'nnvision.models.se_core_full_gauss_readout'\n",
    "model_config = {'pad_input': False,\n",
    "                'stack': -1,\n",
    "               'depth_separable': True,\n",
    "               'input_kern': 20,\n",
    "               'gamma_input': 11.2,\n",
    "               'gamma_readout': 0.33,\n",
    "               'hidden_dilation': 1,\n",
    "               'hidden_kern': 5,\n",
    "               'n_se_blocks': 0,\n",
    "               'hidden_channels': 32}\n",
    "model = builder.get_model(model_fn, model_config, dataloaders=dataloaders,seed=1000)\n",
    "print(model)"
   ]
  }
 ],
 "metadata": {
  "kernelspec": {
   "display_name": "Python 3",
   "language": "python",
   "name": "python3"
  },
  "language_info": {
   "codemirror_mode": {
    "name": "ipython",
    "version": 3
   },
   "file_extension": ".py",
   "mimetype": "text/x-python",
   "name": "python",
   "nbconvert_exporter": "python",
   "pygments_lexer": "ipython3",
   "version": "3.8.0"
  }
 },
 "nbformat": 4,
 "nbformat_minor": 4
}