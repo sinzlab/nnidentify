{
 "cells": [
  {
   "cell_type": "code",
   "execution_count": 30,
   "metadata": {},
   "outputs": [
    {
     "name": "stdout",
     "output_type": "stream",
     "text": [
      "The autoreload extension is already loaded. To reload it, use:\n",
      "  %reload_ext autoreload\n"
     ]
    },
    {
     "name": "stderr",
     "output_type": "stream",
     "text": [
      "/usr/local/lib/python3.8/dist-packages/datajoint/connection.py:218: UserWarning:\n",
      "\n",
      "MySQL server has gone away. Reconnecting to the server.\n",
      "\n"
     ]
    }
   ],
   "source": [
    "%load_ext autoreload\n",
    "%autoreload 2\n",
    "\n",
    "import datajoint as dj\n",
    "dj.config[\"enable_python_native_blobs\"] = True\n",
    "dj.config['nnfabrik.schema_name'] = \"nnfabrik_v1_tuning\"\n",
    "schema = dj.schema(\"nnfabrik_v1_tuning\")\n",
    "\n",
    "import os\n",
    "from os import listdir\n",
    "from os.path import isfile, join\n",
    "\n",
    "\n",
    "import torch\n",
    "import numpy as np\n",
    "import pickle \n",
    "import time\n",
    "import matplotlib.pyplot as plt\n",
    "import seaborn as sns\n",
    "\n",
    "import nnfabrik\n",
    "from nnfabrik import main, builder\n",
    "from nnfabrik.main import *\n",
    "\n",
    "import nnvision\n",
    "from nnvision.tables.from_nnfabrik import TrainedModel\n",
    "from nnvision.tables.legacy.from_mei import TrainedEnsembleModel\n",
    "\n",
    "import insilico_stimuli\n",
    "from insilico_stimuli.stimuli import *\n",
    "from insilico_stimuli.parameters import *"
   ]
  },
  {
   "cell_type": "code",
   "execution_count": 31,
   "metadata": {},
   "outputs": [
    {
     "data": {
      "text/plain": [
       "torch.Size([128, 1, 41, 41])"
      ]
     },
     "execution_count": 31,
     "metadata": {},
     "output_type": "execute_result"
    }
   ],
   "source": [
    "# loading model\n",
    "ensemble_hash = 'e7a8d0b961ee37ffda0779bfed95f1cf'\n",
    "dataset_hash = 'a737408da40cfedd036c2eb1b8a31ff1'\n",
    "model_hash = 'f8bcd882c48a55dc6cd6d7afb656f1f9' # monkey\n",
    "# model_hash = 'a09d55344b5793137349b8ca5d17d46d' # mouse\n",
    "\n",
    "# model_key = (TrainedModel * TrainedEnsembleModel.Member() & dict(ensemble_hash=ensemble_hash)).fetch(\"KEY\", limit=1, order_by=\"score DESC\")\n",
    "model_key = (TrainedModel & dict(model_hash=model_hash)).fetch(\"KEY\", limit=1, order_by=\"score DESC\")\n",
    "dataloaders, model = TrainedModel().load_model(model_key, include_dataloader=True)\n",
    "model.eval()\n",
    "\n",
    "# model specifics for optimization\n",
    "data_key = '3631807112901' # monkey\n",
    "# data_key = '22564-3-12-0' # mouse\n",
    "unit_idx = 27\n",
    "unit_id = 26\n",
    "\n",
    "# number of model neurons \n",
    "n_units = model.readout[data_key].outdims\n",
    "\n",
    "# image dimensions\n",
    "w, h = 41, 41 # monkey\n",
    "# w, h = 64, 36 # mouse\n",
    "\n",
    "next(iter(dataloaders['train'][data_key]))[0].shape"
   ]
  },
  {
   "cell_type": "code",
   "execution_count": 32,
   "metadata": {},
   "outputs": [],
   "source": [
    "# Finite Set\n",
    "canvas_size         = [w, h]\n",
    "sizes               = FiniteParameter([float(val) for val in range(5, 31)][::5])\n",
    "spatial_frequencies = FiniteParameter([float(val) for val in np.linspace(1/80, 2/5, 10)])\n",
    "contrasts           = FiniteParameter([.5])\n",
    "orientations        = FiniteParameter([float(val) for val in np.linspace(0.0, np.pi, 10)])\n",
    "phases              = FiniteParameter([float(val) for val in np.linspace(0.0, 2*np.pi, 10)]) \n",
    "grey_levels         = FiniteParameter([0.0])\n",
    "eccentricities      = FiniteParameter([float(val) for val in np.linspace(0.0, 0.99, 5)])\n",
    "locations           = FiniteParameter([[float(x), float(y)] for x in range(12, 28) \n",
    "                                                            for y in range(12, 28)][::16])\n",
    "\n",
    "gabor_set = GaborSet(canvas_size=canvas_size,\n",
    "                     locations=locations,\n",
    "                     sizes=sizes,\n",
    "                     spatial_frequencies=spatial_frequencies,\n",
    "                     contrasts=contrasts,\n",
    "                     orientations=orientations, \n",
    "                     phases=phases, \n",
    "                     grey_levels=grey_levels,\n",
    "                     eccentricities=eccentricities)"
   ]
  },
  {
   "cell_type": "code",
   "execution_count": 33,
   "metadata": {},
   "outputs": [
    {
     "name": "stderr",
     "output_type": "stream",
     "text": [
      " 76%|███████▌  | 3657/4800 [08:24<02:37,  7.25it/s]\n"
     ]
    },
    {
     "ename": "KeyboardInterrupt",
     "evalue": "",
     "output_type": "error",
     "traceback": [
      "\u001b[0;31m---------------------------------------------------------------------------\u001b[0m",
      "\u001b[0;31mKeyboardInterrupt\u001b[0m                         Traceback (most recent call last)",
      "\u001b[0;32m<ipython-input-33-40503d23c203>\u001b[0m in \u001b[0;36m<module>\u001b[0;34m\u001b[0m\n\u001b[1;32m      5\u001b[0m \u001b[0;34m\u001b[0m\u001b[0m\n\u001b[1;32m      6\u001b[0m \u001b[0;32mfor\u001b[0m \u001b[0munit\u001b[0m \u001b[0;32min\u001b[0m \u001b[0mrange\u001b[0m\u001b[0;34m(\u001b[0m\u001b[0;36m0\u001b[0m\u001b[0;34m,\u001b[0m \u001b[0mn_units\u001b[0m\u001b[0;34m)\u001b[0m\u001b[0;34m:\u001b[0m\u001b[0;34m\u001b[0m\u001b[0;34m\u001b[0m\u001b[0m\n\u001b[0;32m----> 7\u001b[0;31m     \u001b[0mbest_params\u001b[0m\u001b[0;34m,\u001b[0m \u001b[0mvalues\u001b[0m \u001b[0;34m=\u001b[0m \u001b[0mgabor_set\u001b[0m\u001b[0;34m.\u001b[0m\u001b[0mfind_optimal_stimulus_bruteforce\u001b[0m\u001b[0;34m(\u001b[0m\u001b[0mmodel\u001b[0m\u001b[0;34m=\u001b[0m\u001b[0mmodel\u001b[0m\u001b[0;34m,\u001b[0m \u001b[0mdata_key\u001b[0m\u001b[0;34m=\u001b[0m\u001b[0mdata_key\u001b[0m\u001b[0;34m,\u001b[0m \u001b[0munit_idx\u001b[0m\u001b[0;34m=\u001b[0m\u001b[0munit\u001b[0m\u001b[0;34m)\u001b[0m\u001b[0;34m\u001b[0m\u001b[0;34m\u001b[0m\u001b[0m\n\u001b[0m\u001b[1;32m      8\u001b[0m     \u001b[0mbest_params_list\u001b[0m\u001b[0;34m.\u001b[0m\u001b[0mappend\u001b[0m\u001b[0;34m(\u001b[0m\u001b[0mbest_params\u001b[0m\u001b[0;34m)\u001b[0m\u001b[0;34m\u001b[0m\u001b[0;34m\u001b[0m\u001b[0m\n\u001b[1;32m      9\u001b[0m     \u001b[0mvalues_list\u001b[0m\u001b[0;34m.\u001b[0m\u001b[0mappend\u001b[0m\u001b[0;34m(\u001b[0m\u001b[0mvalues\u001b[0m\u001b[0;34m)\u001b[0m\u001b[0;34m\u001b[0m\u001b[0;34m\u001b[0m\u001b[0m\n",
      "\u001b[0;32m/src/nnidentify/lib/insilico-stimuli/insilico_stimuli/stimuli.py\u001b[0m in \u001b[0;36mfind_optimal_stimulus_bruteforce\u001b[0;34m(self, model, data_key, batch_size, return_activations, unit_idx, plotflag, cuda)\u001b[0m\n\u001b[1;32m   1007\u001b[0m \u001b[0;34m\u001b[0m\u001b[0m\n\u001b[1;32m   1008\u001b[0m         \u001b[0;31m# divide set of images in batches before showing it to the model\u001b[0m\u001b[0;34m\u001b[0m\u001b[0;34m\u001b[0m\u001b[0;34m\u001b[0m\u001b[0m\n\u001b[0;32m-> 1009\u001b[0;31m         \u001b[0;32mfor\u001b[0m \u001b[0mbatch_idx\u001b[0m\u001b[0;34m,\u001b[0m \u001b[0mbatch\u001b[0m \u001b[0;32min\u001b[0m \u001b[0mtqdm\u001b[0m\u001b[0;34m(\u001b[0m\u001b[0menumerate\u001b[0m\u001b[0;34m(\u001b[0m\u001b[0mself\u001b[0m\u001b[0;34m.\u001b[0m\u001b[0mimage_batches\u001b[0m\u001b[0;34m(\u001b[0m\u001b[0mbatch_size\u001b[0m\u001b[0;34m)\u001b[0m\u001b[0;34m)\u001b[0m\u001b[0;34m,\u001b[0m \u001b[0mtotal\u001b[0m\u001b[0;34m=\u001b[0m\u001b[0mn_images\u001b[0m\u001b[0;34m//\u001b[0m\u001b[0mbatch_size\u001b[0m\u001b[0;34m)\u001b[0m\u001b[0;34m:\u001b[0m\u001b[0;34m\u001b[0m\u001b[0;34m\u001b[0m\u001b[0m\n\u001b[0m\u001b[1;32m   1010\u001b[0m \u001b[0;34m\u001b[0m\u001b[0m\n\u001b[1;32m   1011\u001b[0m             \u001b[0;32mif\u001b[0m \u001b[0mbatch\u001b[0m\u001b[0;34m.\u001b[0m\u001b[0mshape\u001b[0m\u001b[0;34m[\u001b[0m\u001b[0;36m0\u001b[0m\u001b[0;34m]\u001b[0m \u001b[0;34m!=\u001b[0m \u001b[0mbatch_size\u001b[0m\u001b[0;34m:\u001b[0m\u001b[0;34m\u001b[0m\u001b[0;34m\u001b[0m\u001b[0m\n",
      "\u001b[0;32m/usr/local/lib/python3.8/dist-packages/tqdm/std.py\u001b[0m in \u001b[0;36m__iter__\u001b[0;34m(self)\u001b[0m\n\u001b[1;32m   1169\u001b[0m \u001b[0;34m\u001b[0m\u001b[0m\n\u001b[1;32m   1170\u001b[0m         \u001b[0;32mtry\u001b[0m\u001b[0;34m:\u001b[0m\u001b[0;34m\u001b[0m\u001b[0;34m\u001b[0m\u001b[0m\n\u001b[0;32m-> 1171\u001b[0;31m             \u001b[0;32mfor\u001b[0m \u001b[0mobj\u001b[0m \u001b[0;32min\u001b[0m \u001b[0miterable\u001b[0m\u001b[0;34m:\u001b[0m\u001b[0;34m\u001b[0m\u001b[0;34m\u001b[0m\u001b[0m\n\u001b[0m\u001b[1;32m   1172\u001b[0m                 \u001b[0;32myield\u001b[0m \u001b[0mobj\u001b[0m\u001b[0;34m\u001b[0m\u001b[0;34m\u001b[0m\u001b[0m\n\u001b[1;32m   1173\u001b[0m                 \u001b[0;31m# Update and possibly print the progressbar.\u001b[0m\u001b[0;34m\u001b[0m\u001b[0;34m\u001b[0m\u001b[0;34m\u001b[0m\u001b[0m\n",
      "\u001b[0;32m/src/nnidentify/lib/insilico-stimuli/insilico_stimuli/stimuli.py\u001b[0m in \u001b[0;36mimage_batches\u001b[0;34m(self, batch_size)\u001b[0m\n\u001b[1;32m     84\u001b[0m         \u001b[0;32mfor\u001b[0m \u001b[0mbatch_start\u001b[0m \u001b[0;32min\u001b[0m \u001b[0mnp\u001b[0m\u001b[0;34m.\u001b[0m\u001b[0marange\u001b[0m\u001b[0;34m(\u001b[0m\u001b[0;36m0\u001b[0m\u001b[0;34m,\u001b[0m \u001b[0mnum_stims\u001b[0m\u001b[0;34m,\u001b[0m \u001b[0mbatch_size\u001b[0m\u001b[0;34m)\u001b[0m\u001b[0;34m:\u001b[0m\u001b[0;34m\u001b[0m\u001b[0;34m\u001b[0m\u001b[0m\n\u001b[1;32m     85\u001b[0m             \u001b[0mbatch_end\u001b[0m \u001b[0;34m=\u001b[0m \u001b[0mnp\u001b[0m\u001b[0;34m.\u001b[0m\u001b[0mminimum\u001b[0m\u001b[0;34m(\u001b[0m\u001b[0mbatch_start\u001b[0m \u001b[0;34m+\u001b[0m \u001b[0mbatch_size\u001b[0m\u001b[0;34m,\u001b[0m \u001b[0mnum_stims\u001b[0m\u001b[0;34m)\u001b[0m\u001b[0;34m\u001b[0m\u001b[0;34m\u001b[0m\u001b[0m\n\u001b[0;32m---> 86\u001b[0;31m             \u001b[0mimages\u001b[0m \u001b[0;34m=\u001b[0m \u001b[0;34m[\u001b[0m\u001b[0mself\u001b[0m\u001b[0;34m.\u001b[0m\u001b[0mstimulus_from_idx\u001b[0m\u001b[0;34m(\u001b[0m\u001b[0mi\u001b[0m\u001b[0;34m)\u001b[0m \u001b[0;32mfor\u001b[0m \u001b[0mi\u001b[0m \u001b[0;32min\u001b[0m \u001b[0mrange\u001b[0m\u001b[0;34m(\u001b[0m\u001b[0mbatch_start\u001b[0m\u001b[0;34m,\u001b[0m \u001b[0mbatch_end\u001b[0m\u001b[0;34m)\u001b[0m\u001b[0;34m]\u001b[0m\u001b[0;34m\u001b[0m\u001b[0;34m\u001b[0m\u001b[0m\n\u001b[0m\u001b[1;32m     87\u001b[0m             \u001b[0;32myield\u001b[0m \u001b[0mnp\u001b[0m\u001b[0;34m.\u001b[0m\u001b[0marray\u001b[0m\u001b[0;34m(\u001b[0m\u001b[0mimages\u001b[0m\u001b[0;34m)\u001b[0m\u001b[0;34m\u001b[0m\u001b[0;34m\u001b[0m\u001b[0m\n\u001b[1;32m     88\u001b[0m \u001b[0;34m\u001b[0m\u001b[0m\n",
      "\u001b[0;32m/src/nnidentify/lib/insilico-stimuli/insilico_stimuli/stimuli.py\u001b[0m in \u001b[0;36m<listcomp>\u001b[0;34m(.0)\u001b[0m\n\u001b[1;32m     84\u001b[0m         \u001b[0;32mfor\u001b[0m \u001b[0mbatch_start\u001b[0m \u001b[0;32min\u001b[0m \u001b[0mnp\u001b[0m\u001b[0;34m.\u001b[0m\u001b[0marange\u001b[0m\u001b[0;34m(\u001b[0m\u001b[0;36m0\u001b[0m\u001b[0;34m,\u001b[0m \u001b[0mnum_stims\u001b[0m\u001b[0;34m,\u001b[0m \u001b[0mbatch_size\u001b[0m\u001b[0;34m)\u001b[0m\u001b[0;34m:\u001b[0m\u001b[0;34m\u001b[0m\u001b[0;34m\u001b[0m\u001b[0m\n\u001b[1;32m     85\u001b[0m             \u001b[0mbatch_end\u001b[0m \u001b[0;34m=\u001b[0m \u001b[0mnp\u001b[0m\u001b[0;34m.\u001b[0m\u001b[0mminimum\u001b[0m\u001b[0;34m(\u001b[0m\u001b[0mbatch_start\u001b[0m \u001b[0;34m+\u001b[0m \u001b[0mbatch_size\u001b[0m\u001b[0;34m,\u001b[0m \u001b[0mnum_stims\u001b[0m\u001b[0;34m)\u001b[0m\u001b[0;34m\u001b[0m\u001b[0;34m\u001b[0m\u001b[0m\n\u001b[0;32m---> 86\u001b[0;31m             \u001b[0mimages\u001b[0m \u001b[0;34m=\u001b[0m \u001b[0;34m[\u001b[0m\u001b[0mself\u001b[0m\u001b[0;34m.\u001b[0m\u001b[0mstimulus_from_idx\u001b[0m\u001b[0;34m(\u001b[0m\u001b[0mi\u001b[0m\u001b[0;34m)\u001b[0m \u001b[0;32mfor\u001b[0m \u001b[0mi\u001b[0m \u001b[0;32min\u001b[0m \u001b[0mrange\u001b[0m\u001b[0;34m(\u001b[0m\u001b[0mbatch_start\u001b[0m\u001b[0;34m,\u001b[0m \u001b[0mbatch_end\u001b[0m\u001b[0;34m)\u001b[0m\u001b[0;34m]\u001b[0m\u001b[0;34m\u001b[0m\u001b[0;34m\u001b[0m\u001b[0m\n\u001b[0m\u001b[1;32m     87\u001b[0m             \u001b[0;32myield\u001b[0m \u001b[0mnp\u001b[0m\u001b[0;34m.\u001b[0m\u001b[0marray\u001b[0m\u001b[0;34m(\u001b[0m\u001b[0mimages\u001b[0m\u001b[0;34m)\u001b[0m\u001b[0;34m\u001b[0m\u001b[0;34m\u001b[0m\u001b[0m\n\u001b[1;32m     88\u001b[0m \u001b[0;34m\u001b[0m\u001b[0m\n",
      "\u001b[0;32m/src/nnidentify/lib/insilico-stimuli/insilico_stimuli/stimuli.py\u001b[0m in \u001b[0;36mstimulus_from_idx\u001b[0;34m(self, idx)\u001b[0m\n\u001b[1;32m     69\u001b[0m         \u001b[0mReturns\u001b[0m\u001b[0;34m:\u001b[0m \u001b[0mThe\u001b[0m \u001b[0mimage\u001b[0m \u001b[0;32mas\u001b[0m \u001b[0mnumpy\u001b[0m\u001b[0;34m.\u001b[0m\u001b[0mndarray\u001b[0m \u001b[0;32mwith\u001b[0m \u001b[0mpixel\u001b[0m \u001b[0mvalues\u001b[0m \u001b[0mbelonging\u001b[0m \u001b[0mto\u001b[0m \u001b[0mthe\u001b[0m \u001b[0mparameter\u001b[0m \u001b[0mcombinations\u001b[0m \u001b[0mof\u001b[0m \u001b[0mindex\u001b[0m \u001b[0;34m'idx'\u001b[0m\u001b[0;34m\u001b[0m\u001b[0;34m\u001b[0m\u001b[0m\n\u001b[1;32m     70\u001b[0m         \"\"\"\n\u001b[0;32m---> 71\u001b[0;31m         \u001b[0;32mreturn\u001b[0m \u001b[0mself\u001b[0m\u001b[0;34m.\u001b[0m\u001b[0mstimulus\u001b[0m\u001b[0;34m(\u001b[0m\u001b[0;34m**\u001b[0m\u001b[0mself\u001b[0m\u001b[0;34m.\u001b[0m\u001b[0mparams_dict_from_idx\u001b[0m\u001b[0;34m(\u001b[0m\u001b[0midx\u001b[0m\u001b[0;34m)\u001b[0m\u001b[0;34m)\u001b[0m\u001b[0;34m\u001b[0m\u001b[0;34m\u001b[0m\u001b[0m\n\u001b[0m\u001b[1;32m     72\u001b[0m \u001b[0;34m\u001b[0m\u001b[0m\n\u001b[1;32m     73\u001b[0m     \u001b[0;32mdef\u001b[0m \u001b[0mimage_batches\u001b[0m\u001b[0;34m(\u001b[0m\u001b[0mself\u001b[0m\u001b[0;34m,\u001b[0m \u001b[0mbatch_size\u001b[0m\u001b[0;34m)\u001b[0m\u001b[0;34m:\u001b[0m\u001b[0;34m\u001b[0m\u001b[0;34m\u001b[0m\u001b[0m\n",
      "\u001b[0;32m/src/nnidentify/lib/insilico-stimuli/insilico_stimuli/stimuli.py\u001b[0m in \u001b[0;36mstimulus\u001b[0;34m(self, location, size, spatial_frequency, contrast, orientation, phase, gamma, grey_level, **kwargs)\u001b[0m\n\u001b[1;32m    756\u001b[0m         x, y = np.meshgrid(np.arange(self.canvas_size[0]) - location[0],\n\u001b[1;32m    757\u001b[0m                            np.arange(self.canvas_size[1]) - location[1])\n\u001b[0;32m--> 758\u001b[0;31m         \u001b[0mcoords\u001b[0m \u001b[0;34m=\u001b[0m \u001b[0mnp\u001b[0m\u001b[0;34m.\u001b[0m\u001b[0mstack\u001b[0m\u001b[0;34m(\u001b[0m\u001b[0;34m[\u001b[0m\u001b[0mx\u001b[0m\u001b[0;34m.\u001b[0m\u001b[0mflatten\u001b[0m\u001b[0;34m(\u001b[0m\u001b[0;34m)\u001b[0m\u001b[0;34m,\u001b[0m \u001b[0my\u001b[0m\u001b[0;34m.\u001b[0m\u001b[0mflatten\u001b[0m\u001b[0;34m(\u001b[0m\u001b[0;34m)\u001b[0m\u001b[0;34m]\u001b[0m\u001b[0;34m)\u001b[0m\u001b[0;34m\u001b[0m\u001b[0;34m\u001b[0m\u001b[0m\n\u001b[0m\u001b[1;32m    759\u001b[0m \u001b[0;34m\u001b[0m\u001b[0m\n\u001b[1;32m    760\u001b[0m         \u001b[0;31m# rotation matrix R for envelope\u001b[0m\u001b[0;34m\u001b[0m\u001b[0;34m\u001b[0m\u001b[0;34m\u001b[0m\u001b[0m\n",
      "\u001b[0;32m<__array_function__ internals>\u001b[0m in \u001b[0;36mstack\u001b[0;34m(*args, **kwargs)\u001b[0m\n",
      "\u001b[0;31mKeyboardInterrupt\u001b[0m: "
     ]
    }
   ],
   "source": [
    "start_time = time.time()\n",
    "\n",
    "best_params_list = []\n",
    "values_list = []\n",
    "\n",
    "for unit in range(0, n_units):\n",
    "    best_params, values = gabor_set.find_optimal_stimulus_bruteforce(model=model, data_key=data_key, unit_idx=unit)\n",
    "    best_params_list.append(best_params)\n",
    "    values_list.append(values)\n",
    "\n",
    "print(\"--- %s seconds ---\" % (time.time() - start_time))"
   ]
  },
  {
   "cell_type": "code",
   "execution_count": null,
   "metadata": {},
   "outputs": [],
   "source": [
    "for best_param in best_params_list:\n",
    "    best_param['location_width'] = best_param['location'][0]\n",
    "    best_param['location_height'] = best_param['location'][1]"
   ]
  },
  {
   "cell_type": "code",
   "execution_count": null,
   "metadata": {},
   "outputs": [],
   "source": [
    "def get_responses(model, data_key, best_params_list, gabor_set, n_units):\n",
    "    for unit in range(n_units):\n",
    "        best_gabor_img = gabor_set.get_image_from_params(best_params_list[unit])\n",
    "        image = torch.tensor(best_gabor_img).expand(1, 1, h, w).float()\n",
    "\n",
    "        response = model(image, data_key=data_key).detach().numpy().squeeze()\n",
    "\n",
    "        yield response\n",
    "\n",
    "responses = np.array(list(get_responses(model, data_key, best_params_list, gabor_set, n_units)))"
   ]
  },
  {
   "cell_type": "code",
   "execution_count": 19,
   "metadata": {},
   "outputs": [],
   "source": [
    "def get_random_responses(model, data_key, unit):\n",
    "    images = np.random.randn(1000, 1, h, w)\n",
    "    images = torch.tensor(images).float()\n",
    "\n",
    "    output = model(images, data_key=data_key).detach().numpy().squeeze()\n",
    "\n",
    "    return np.mean(output[:, unit]), np.std(output[:, unit])\n",
    "\n",
    "unit = 5\n",
    "rnd_mean, rnd_std = get_random_responses(model, data_key, unit)"
   ]
  },
  {
   "cell_type": "code",
   "execution_count": 20,
   "metadata": {},
   "outputs": [
    {
     "data": {
      "image/png": "[encoded data removed]",
      "text/plain": [
       "<Figure size 432x288 with 1 Axes>"
      ]
     },
     "metadata": {
      "needs_background": "light"
     },
     "output_type": "display_data"
    }
   ],
   "source": [
    "gabor_idx_desc = np.array(responses).argsort(0)[::-1].T\n",
    "\n",
    "res_opt = np.array(responses)[unit, unit]\n",
    "res_0 = np.array(responses)[gabor_idx_desc[unit, 0], unit]\n",
    "res_1 = np.array(responses)[gabor_idx_desc[unit, 1], unit]\n",
    "res_2 = np.array(responses)[gabor_idx_desc[unit, 2], unit]\n",
    "\n",
    "plt.figure()\n",
    "\n",
    "plt.errorbar([unit], [rnd_mean], yerr=[rnd_std], fmt='o', c='tab:blue', label='random response')\n",
    "plt.scatter([unit], [res_0], c='silver', label='1')\n",
    "plt.scatter([unit], [res_1], c='#aaa', label='2')\n",
    "plt.scatter([unit], [res_2], c='gray', label='3')\n",
    "plt.scatter([unit], [res_opt], c='tab:orange', label='optimal')\n",
    "\n",
    "plt.show()"
   ]
  },
  {
   "cell_type": "code",
   "execution_count": 21,
   "metadata": {},
   "outputs": [
    {
     "data": {
      "image/png": "[encoded data removed]",
      "text/plain": [
       "<Figure size 432x288 with 1 Axes>"
      ]
     },
     "metadata": {
      "needs_background": "light"
     },
     "output_type": "display_data"
    }
   ],
   "source": [
    "plt.scatter(np.arange(29), np.array(responses).argmax(0)[:29])\n",
    "plt.plot(np.arange(29), np.arange(29), c='tab:orange')\n",
    "plt.xlabel('unit_idx')\n",
    "plt.ylabel('gabor_idx')\n",
    "plt.show()"
   ]
  },
  {
   "cell_type": "code",
   "execution_count": 45,
   "metadata": {},
   "outputs": [
    {
     "data": {
      "image/png": "[encoded data removed]",
      "text/plain": [
       "<Figure size 1152x288 with 1 Axes>"
      ]
     },
     "metadata": {
      "needs_background": "light"
     },
     "output_type": "display_data"
    }
   ],
   "source": [
    "gabor_idx_desc = np.array(responses).argsort(0)[::-1].T\n",
    "\n",
    "images = np.random.randn(100, 1, h, w)\n",
    "images = torch.tensor(images).float()\n",
    "\n",
    "output = model(images, data_key=data_key).detach().numpy()\n",
    "\n",
    "mean_random_activations = []\n",
    "std_random_activations = []\n",
    "for unit in range(n_units):\n",
    "    mean_random_activations.append(np.mean(output[:, unit]))\n",
    "    std_random_activations.append(np.std(output[:, unit]))\n",
    "\n",
    "plt.figure(figsize=(16, 4))\n",
    "plt.errorbar(np.arange(29), mean_random_activations[:29], yerr=std_random_activations[:29], fmt='o', c='tab:blue', label='random response')\n",
    "\n",
    "responses_per_unit = []\n",
    "for unit in range(29):\n",
    "    res_opt = np.array(responses)[unit, unit]\n",
    "    res_0 = np.array(responses)[gabor_idx_desc[unit, 0], unit]\n",
    "    res_1 = np.array(responses)[gabor_idx_desc[unit, 1], unit]\n",
    "    res_2 = np.array(responses)[gabor_idx_desc[unit, 2], unit]\n",
    "\n",
    "    responses_per_unit.append((res_opt, res_0, res_1, res_2))\n",
    "responses_per_unit = np.array(responses_per_unit)\n",
    "\n",
    "plt.scatter(np.arange(29), responses_per_unit[:29, 1], c='silver', label='1')\n",
    "plt.scatter(np.arange(29), responses_per_unit[:29, 2], c='#aaa', label='2')\n",
    "plt.scatter(np.arange(29), responses_per_unit[:29, 3], c='gray', label='3')\n",
    "plt.scatter(np.arange(29), responses_per_unit[:29, 0], c='tab:orange', label='optimal')\n",
    "\n",
    "\n",
    "# plt.xlim(-0.5, 0.5)\n",
    "plt.legend()\n",
    "plt.xlabel('unit_idx')\n",
    "plt.ylabel('activation')\n",
    "plt.savefig('imgs/vs_random.png', dpi=300)\n",
    "plt.show()"
   ]
  },
  {
   "cell_type": "markdown",
   "metadata": {},
   "source": [
    "## Quicker Bruteforce"
   ]
  },
  {
   "cell_type": "code",
   "execution_count": 34,
   "metadata": {},
   "outputs": [
    {
     "name": "stderr",
     "output_type": "stream",
     "text": [
      "100%|██████████| 4800/4800 [10:42<00:00,  7.48it/s]\n"
     ]
    }
   ],
   "source": [
    "best_params, values = gabor_set.find_optimal_stimulus_bruteforce(model=model, data_key=data_key)"
   ]
  },
  {
   "cell_type": "code",
   "execution_count": 37,
   "metadata": {},
   "outputs": [],
   "source": [
    "for best_param in best_params:\n",
    "    best_param['location_width'] = best_param['location'][0]\n",
    "    best_param['location_height'] = best_param['location'][1]"
   ]
  },
  {
   "cell_type": "code",
   "execution_count": 38,
   "metadata": {},
   "outputs": [],
   "source": [
    "responses = np.array(list(get_responses(model, data_key, best_params, gabor_set, n_units)))"
   ]
  },
  {
   "cell_type": "code",
   "execution_count": 41,
   "metadata": {},
   "outputs": [
    {
     "data": {
      "image/png": "[encoded data removed]",
      "text/plain": [
       "<Figure size 432x288 with 1 Axes>"
      ]
     },
     "metadata": {
      "needs_background": "light"
     },
     "output_type": "display_data"
    }
   ],
   "source": [
    "plt.scatter(np.arange(29), np.array(responses).argmax(0)[:29])\n",
    "plt.plot(np.arange(29), np.arange(29), c='tab:orange')\n",
    "plt.xlabel('unit_idx')\n",
    "plt.ylabel('gabor_idx')\n",
    "plt.savefig('imgs/gab_vs_unit_monkey_bruteforce.png', dpi=300)\n",
    "plt.show()"
   ]
  },
  {
   "cell_type": "code",
   "execution_count": null,
   "metadata": {},
   "outputs": [],
   "source": []
  }
 ],
 "metadata": {
  "kernelspec": {
   "display_name": "Python 3",
   "language": "python",
   "name": "python3"
  },
  "language_info": {
   "codemirror_mode": {
    "name": "ipython",
    "version": 3
   },
   "file_extension": ".py",
   "mimetype": "text/x-python",
   "name": "python",
   "nbconvert_exporter": "python",
   "pygments_lexer": "ipython3",
   "version": "3.8.0"
  }
 },
 "nbformat": 4,
 "nbformat_minor": 4
}
