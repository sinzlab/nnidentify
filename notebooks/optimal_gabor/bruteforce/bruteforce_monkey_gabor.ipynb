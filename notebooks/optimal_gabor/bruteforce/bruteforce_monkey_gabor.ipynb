{
 "cells": [
  {
   "cell_type": "code",
   "execution_count": 1,
   "metadata": {},
   "outputs": [
    {
     "name": "stdout",
     "output_type": "stream",
     "text": [
      "Connecting pawelp@134.2.168.16:3306\n"
     ]
    }
   ],
   "source": [
    "%load_ext autoreload\n",
    "%autoreload 2\n",
    "\n",
    "import datajoint as dj\n",
    "dj.config[\"enable_python_native_blobs\"] = True\n",
    "dj.config['nnfabrik.schema_name'] = \"nnfabrik_v1_tuning\"\n",
    "schema = dj.schema(\"nnfabrik_v1_tuning\")\n",
    "\n",
    "import os\n",
    "from os import listdir\n",
    "from os.path import isfile, join\n",
    "\n",
    "\n",
    "import torch\n",
    "import numpy as np\n",
    "import pickle \n",
    "import time\n",
    "import matplotlib.pyplot as plt\n",
    "import seaborn as sns\n",
    "\n",
    "import nnfabrik\n",
    "from nnfabrik import main, builder\n",
    "from nnfabrik.main import *\n",
    "\n",
    "import nnvision\n",
    "from nnvision.tables.from_nnfabrik import TrainedModel\n",
    "from nnvision.tables.legacy.from_mei import TrainedEnsembleModel\n",
    "\n",
    "import insilico_stimuli\n",
    "from insilico_stimuli.stimuli import *\n",
    "from insilico_stimuli.parameters import *"
   ]
  },
  {
   "cell_type": "code",
   "execution_count": 2,
   "metadata": {},
   "outputs": [
    {
     "name": "stdout",
     "output_type": "stream",
     "text": [
      "Loading images ...\n"
     ]
    }
   ],
   "source": [
    "def get_monkey_model(data_key):\n",
    "    # loading model\n",
    "    model_hash = 'f8bcd882c48a55dc6cd6d7afb656f1f9'\n",
    "\n",
    "    model_key = (TrainedModel & dict(model_hash=model_hash)).fetch(\"KEY\", limit=1, order_by=\"score DESC\")\n",
    "    dataloaders, model = TrainedModel().load_model(model_key, include_dataloader=True)\n",
    "    model.eval()\n",
    "\n",
    "    # number of model neurons \n",
    "    n_units = model.readout[data_key].outdims\n",
    "\n",
    "    # image dimensions\n",
    "    w, h = 41, 41\n",
    "    \n",
    "    return model, n_units, w, h, data_key, dataloaders\n",
    "\n",
    "model, n_units, w, h, data_key, dataloaders = get_monkey_model(data_key='3631807112901')"
   ]
  },
  {
   "cell_type": "code",
   "execution_count": 3,
   "metadata": {},
   "outputs": [],
   "source": [
    "# Finite Set\n",
    "canvas_size         = [w, h]\n",
    "sizes               = FiniteParameter([float(val) for val in range(5, 31)][::5])\n",
    "spatial_frequencies = FiniteParameter([float(val) for val in np.linspace(1/80, 2/5, 10)])\n",
    "contrasts           = FiniteParameter([.5])\n",
    "orientations        = FiniteParameter([float(val) for val in np.linspace(0.0, np.pi, 10)])\n",
    "phases              = FiniteParameter([float(val) for val in np.linspace(0.0, 2*np.pi, 10)]) \n",
    "grey_levels         = FiniteParameter([0.0])\n",
    "eccentricities      = FiniteParameter([float(val) for val in np.linspace(0.0, 0.99, 5)])\n",
    "locations           = FiniteParameter([[float(x), float(y)] for x in range(12, 28) \n",
    "                                                            for y in range(12, 28)][::16])\n",
    "\n",
    "gabor_set = GaborSet(canvas_size=canvas_size,\n",
    "                     locations=locations,\n",
    "                     sizes=sizes,\n",
    "                     spatial_frequencies=spatial_frequencies,\n",
    "                     contrasts=contrasts,\n",
    "                     orientations=orientations, \n",
    "                     phases=phases, \n",
    "                     grey_levels=grey_levels,\n",
    "                     eccentricities=eccentricities)"
   ]
  },
  {
   "cell_type": "code",
   "execution_count": 4,
   "metadata": {},
   "outputs": [
    {
     "name": "stderr",
     "output_type": "stream",
     "text": [
      "100%|██████████| 480/480 [09:37<00:00,  1.20s/it]\n"
     ]
    }
   ],
   "source": [
    "best_params, values = gabor_set.find_optimal_stimulus_bruteforce(model=model, data_key=data_key, batch_size=1000)"
   ]
  },
  {
   "cell_type": "code",
   "execution_count": 12,
   "metadata": {},
   "outputs": [],
   "source": [
    "for best_param in best_params:\n",
    "    best_param['location_width'] = best_param['location'][0]\n",
    "    best_param['location_height'] = best_param['location'][1]"
   ]
  },
  {
   "cell_type": "code",
   "execution_count": 193,
   "metadata": {},
   "outputs": [
    {
     "name": "stderr",
     "output_type": "stream",
     "text": [
      "100%|██████████| 29/29 [00:01<00:00, 19.93it/s]\n"
     ]
    }
   ],
   "source": [
    "def get_responses(model, data_key, best_params_list, gabor_set, n_units):\n",
    "    for unit in tqdm(range(n_units)):\n",
    "        best_gabor_img = gabor_set.get_image_from_params(best_params_list[unit])\n",
    "        image = torch.tensor(best_gabor_img)\n",
    "        image = image.expand(1, 1, w, h).float()\n",
    "\n",
    "        response = model(image, data_key=data_key).detach().numpy().squeeze()\n",
    "\n",
    "        \n",
    "        yield response\n",
    "\n",
    "responses = np.array(list(get_responses(model, data_key, best_params, gabor_set, n_units)))"
   ]
  },
  {
   "cell_type": "code",
   "execution_count": 198,
   "metadata": {},
   "outputs": [
    {
     "data": {
      "image/png": "[encoded data removed]",
      "text/plain": [
       "<Figure size 432x288 with 1 Axes>"
      ]
     },
     "metadata": {
      "needs_background": "light"
     },
     "output_type": "display_data"
    }
   ],
   "source": [
    "plt.scatter(np.arange(len(responses)), np.array(responses).argmax(0))\n",
    "plt.plot(np.arange(len(responses)), np.arange(len(responses)), c='tab:orange')\n",
    "plt.xlabel('unit_idx')\n",
    "plt.ylabel('gabor_idx')\n",
    "plt.show()"
   ]
  },
  {
   "cell_type": "code",
   "execution_count": 196,
   "metadata": {},
   "outputs": [
    {
     "data": {
      "text/plain": [
       "array([0.2458064 , 0.47503626, 1.3844995 , 2.2319994 , 0.23035324,\n",
       "       0.44811416, 0.4589622 , 0.3893776 , 1.8333445 , 1.2556776 ,\n",
       "       2.033861  , 2.8540814 , 1.1406413 , 2.0748746 , 1.3255811 ,\n",
       "       0.4541157 , 0.32787728, 1.9689636 , 2.649971  , 0.48921287,\n",
       "       1.1107441 , 0.31926614, 0.29263902, 2.8540814 , 2.4699538 ,\n",
       "       2.0165405 , 2.307695  , 2.758275  , 2.568571  ], dtype=float32)"
      ]
     },
     "execution_count": 196,
     "metadata": {},
     "output_type": "execute_result"
    }
   ],
   "source": [
    "responses[]"
   ]
  },
  {
   "cell_type": "code",
   "execution_count": null,
   "metadata": {},
   "outputs": [],
   "source": []
  },
  {
   "cell_type": "markdown",
   "metadata": {},
   "source": []
  },
  {
   "cell_type": "code",
   "execution_count": 66,
   "metadata": {},
   "outputs": [],
   "source": [
    "# Finite Set\n",
    "canvas_size         = [w, h]\n",
    "sizes               = FiniteParameter([float(val) for val in range(5, 31)][::5])\n",
    "spatial_frequencies = FiniteParameter([float(val) for val in np.linspace(1/80, 2/5, 3)])\n",
    "contrasts           = FiniteParameter([.5])\n",
    "orientations        = FiniteParameter([float(val) for val in np.linspace(0.0, np.pi, 3)])\n",
    "phases              = FiniteParameter([float(val) for val in np.linspace(0.0, 2*np.pi, 3)]) \n",
    "grey_levels         = FiniteParameter([0.0])\n",
    "eccentricities      = FiniteParameter([float(val) for val in np.linspace(0.0, 0.99, 3)])\n",
    "locations           = FiniteParameter([[float(x), float(y)] for x in range(12, 28) \n",
    "                                                            for y in range(12, 28)][::16])\n",
    "\n",
    "gabor_set = GaborSet(canvas_size=canvas_size,\n",
    "                     locations=locations,\n",
    "                     sizes=sizes,\n",
    "                     spatial_frequencies=spatial_frequencies,\n",
    "                     contrasts=contrasts,\n",
    "                     orientations=orientations, \n",
    "                     phases=phases, \n",
    "                     grey_levels=grey_levels,\n",
    "                     eccentricities=eccentricities)"
   ]
  },
  {
   "cell_type": "code",
   "execution_count": 100,
   "metadata": {},
   "outputs": [],
   "source": [
    "n_images = np.prod(gabor_set.num_params())  # number of all parameter combinations\n",
    "n_units = model.readout[data_key].outdims  # number of units\n",
    "\n",
    "max_act_evo = np.zeros((n_images + 1, n_units))  # init storage of maximal activation evolution\n",
    "\n",
    "argmax_activations = np.zeros(n_units).astype(int)\n",
    "max_activations = np.zeros(n_units)"
   ]
  },
  {
   "cell_type": "code",
   "execution_count": 126,
   "metadata": {},
   "outputs": [
    {
     "name": "stderr",
     "output_type": "stream",
     "text": [
      "  1%|▏         | 1/77 [00:00<00:22,  3.43it/s]"
     ]
    },
    {
     "name": "stdout",
     "output_type": "stream",
     "text": [
      "36 1.4849128 2362 2.809134006500244\n"
     ]
    },
    {
     "name": "stderr",
     "output_type": "stream",
     "text": [
      "  3%|▎         | 2/77 [00:00<00:21,  3.51it/s]"
     ]
    },
    {
     "name": "stdout",
     "output_type": "stream",
     "text": [
      "65 1.6710386 2362 2.809134006500244\n"
     ]
    },
    {
     "name": "stderr",
     "output_type": "stream",
     "text": [
      "  4%|▍         | 3/77 [00:00<00:20,  3.66it/s]"
     ]
    },
    {
     "name": "stdout",
     "output_type": "stream",
     "text": [
      "46 1.9444044 2362 2.809134006500244\n"
     ]
    },
    {
     "name": "stderr",
     "output_type": "stream",
     "text": [
      "  5%|▌         | 4/77 [00:01<00:19,  3.69it/s]"
     ]
    },
    {
     "name": "stdout",
     "output_type": "stream",
     "text": [
      "36 2.2122636 2362 2.809134006500244\n"
     ]
    },
    {
     "name": "stderr",
     "output_type": "stream",
     "text": [
      "  6%|▋         | 5/77 [00:01<00:20,  3.57it/s]"
     ]
    },
    {
     "name": "stdout",
     "output_type": "stream",
     "text": [
      "17 2.4370284 2362 2.809134006500244\n"
     ]
    },
    {
     "name": "stderr",
     "output_type": "stream",
     "text": [
      "  8%|▊         | 6/77 [00:01<00:18,  3.76it/s]"
     ]
    },
    {
     "name": "stdout",
     "output_type": "stream",
     "text": [
      "70 1.5305611 2362 2.809134006500244\n"
     ]
    },
    {
     "name": "stderr",
     "output_type": "stream",
     "text": [
      "  9%|▉         | 7/77 [00:01<00:18,  3.85it/s]"
     ]
    },
    {
     "name": "stdout",
     "output_type": "stream",
     "text": [
      "51 1.763059 2362 2.809134006500244\n"
     ]
    },
    {
     "name": "stderr",
     "output_type": "stream",
     "text": [
      " 10%|█         | 8/77 [00:02<00:17,  3.98it/s]"
     ]
    },
    {
     "name": "stdout",
     "output_type": "stream",
     "text": [
      "41 2.0654397 2362 2.809134006500244\n"
     ]
    },
    {
     "name": "stderr",
     "output_type": "stream",
     "text": [
      " 12%|█▏        | 9/77 [00:02<00:17,  3.91it/s]"
     ]
    },
    {
     "name": "stdout",
     "output_type": "stream",
     "text": [
      "22 2.3395305 2362 2.809134006500244\n"
     ]
    },
    {
     "name": "stderr",
     "output_type": "stream",
     "text": [
      " 13%|█▎        | 10/77 [00:02<00:17,  3.91it/s]"
     ]
    },
    {
     "name": "stdout",
     "output_type": "stream",
     "text": [
      "3 2.5574412 2362 2.809134006500244\n"
     ]
    },
    {
     "name": "stderr",
     "output_type": "stream",
     "text": [
      " 14%|█▍        | 11/77 [00:02<00:17,  3.87it/s]"
     ]
    },
    {
     "name": "stdout",
     "output_type": "stream",
     "text": [
      "56 1.5941608 2362 2.809134006500244\n"
     ]
    },
    {
     "name": "stderr",
     "output_type": "stream",
     "text": [
      " 16%|█▌        | 12/77 [00:03<00:16,  3.83it/s]"
     ]
    },
    {
     "name": "stdout",
     "output_type": "stream",
     "text": [
      "46 1.8734581 2362 2.809134006500244\n"
     ]
    },
    {
     "name": "stderr",
     "output_type": "stream",
     "text": [
      " 17%|█▋        | 13/77 [00:03<00:16,  3.85it/s]"
     ]
    },
    {
     "name": "stdout",
     "output_type": "stream",
     "text": [
      "99 2.3155842 2362 2.809134006500244\n"
     ]
    },
    {
     "name": "stderr",
     "output_type": "stream",
     "text": [
      " 18%|█▊        | 14/77 [00:03<00:16,  3.73it/s]"
     ]
    },
    {
     "name": "stdout",
     "output_type": "stream",
     "text": [
      "90 2.6582751 2362 2.809134006500244\n"
     ]
    },
    {
     "name": "stderr",
     "output_type": "stream",
     "text": [
      " 19%|█▉        | 15/77 [00:03<00:16,  3.75it/s]"
     ]
    },
    {
     "name": "stdout",
     "output_type": "stream",
     "text": [
      "0 1.5552233 2362 2.809134006500244\n"
     ]
    },
    {
     "name": "stderr",
     "output_type": "stream",
     "text": [
      " 21%|██        | 16/77 [00:04<00:16,  3.73it/s]"
     ]
    },
    {
     "name": "stdout",
     "output_type": "stream",
     "text": [
      "42 1.6851251 2362 2.809134006500244\n"
     ]
    },
    {
     "name": "stderr",
     "output_type": "stream",
     "text": [
      " 22%|██▏       | 17/77 [00:04<00:15,  3.86it/s]"
     ]
    },
    {
     "name": "stdout",
     "output_type": "stream",
     "text": [
      "32 1.9927319 2362 2.809134006500244\n"
     ]
    },
    {
     "name": "stderr",
     "output_type": "stream",
     "text": [
      " 23%|██▎       | 18/77 [00:04<00:14,  3.95it/s]"
     ]
    },
    {
     "name": "stdout",
     "output_type": "stream",
     "text": [
      "95 2.5500567 2362 2.809134006500244\n"
     ]
    },
    {
     "name": "stderr",
     "output_type": "stream",
     "text": [
      " 25%|██▍       | 19/77 [00:04<00:14,  3.97it/s]"
     ]
    },
    {
     "name": "stdout",
     "output_type": "stream",
     "text": [
      "76 2.7638507 2362 2.809134006500244\n"
     ]
    },
    {
     "name": "stderr",
     "output_type": "stream",
     "text": [
      " 26%|██▌       | 20/77 [00:05<00:14,  3.98it/s]"
     ]
    },
    {
     "name": "stdout",
     "output_type": "stream",
     "text": [
      "56 1.5580908 2362 2.809134006500244\n"
     ]
    },
    {
     "name": "stderr",
     "output_type": "stream",
     "text": [
      " 27%|██▋       | 21/77 [00:05<00:14,  3.91it/s]"
     ]
    },
    {
     "name": "stdout",
     "output_type": "stream",
     "text": [
      "37 1.7876179 2362 2.809134006500244\n"
     ]
    },
    {
     "name": "stderr",
     "output_type": "stream",
     "text": [
      " 29%|██▊       | 22/77 [00:05<00:13,  3.97it/s]"
     ]
    },
    {
     "name": "stdout",
     "output_type": "stream",
     "text": [
      "99 2.3795514 2362 2.809134006500244\n"
     ]
    },
    {
     "name": "stderr",
     "output_type": "stream",
     "text": [
      " 30%|██▉       | 23/77 [00:05<00:13,  4.01it/s]"
     ]
    },
    {
     "name": "stdout",
     "output_type": "stream",
     "text": [
      "81 2.6359801 2362 2.809134006500244\n"
     ]
    },
    {
     "name": "stderr",
     "output_type": "stream",
     "text": [
      " 31%|███       | 24/77 [00:06<00:13,  3.99it/s]"
     ]
    },
    {
     "name": "stdout",
     "output_type": "stream",
     "text": [
      "62 2.809134 2362 2.809134006500244\n"
     ]
    },
    {
     "name": "stderr",
     "output_type": "stream",
     "text": [
      " 32%|███▏      | 25/77 [00:06<00:13,  3.90it/s]"
     ]
    },
    {
     "name": "stdout",
     "output_type": "stream",
     "text": [
      "42 1.5990326 2362 2.809134006500244\n"
     ]
    },
    {
     "name": "stderr",
     "output_type": "stream",
     "text": [
      " 34%|███▍      | 26/77 [00:06<00:13,  3.88it/s]"
     ]
    },
    {
     "name": "stdout",
     "output_type": "stream",
     "text": [
      "95 2.1170619 2362 2.809134006500244\n"
     ]
    },
    {
     "name": "stderr",
     "output_type": "stream",
     "text": [
      " 35%|███▌      | 27/77 [00:06<00:12,  3.91it/s]"
     ]
    },
    {
     "name": "stdout",
     "output_type": "stream",
     "text": [
      "86 2.4323814 2362 2.809134006500244\n"
     ]
    },
    {
     "name": "stderr",
     "output_type": "stream",
     "text": [
      " 36%|███▋      | 28/77 [00:07<00:12,  3.93it/s]"
     ]
    },
    {
     "name": "stdout",
     "output_type": "stream",
     "text": [
      "67 2.6493585 2362 2.809134006500244\n"
     ]
    },
    {
     "name": "stderr",
     "output_type": "stream",
     "text": [
      " 38%|███▊      | 29/77 [00:07<00:12,  3.90it/s]"
     ]
    },
    {
     "name": "stdout",
     "output_type": "stream",
     "text": [
      "48 2.77842 2362 2.809134006500244\n"
     ]
    },
    {
     "name": "stderr",
     "output_type": "stream",
     "text": [
      " 39%|███▉      | 30/77 [00:07<00:12,  3.83it/s]"
     ]
    },
    {
     "name": "stdout",
     "output_type": "stream",
     "text": [
      "28 1.6090064 2362 2.809134006500244\n"
     ]
    },
    {
     "name": "stderr",
     "output_type": "stream",
     "text": [
      " 42%|████▏     | 32/77 [00:08<00:10,  4.20it/s]"
     ]
    },
    {
     "name": "stdout",
     "output_type": "stream",
     "text": [
      "91 2.1502187 2362 2.809134006500244\n",
      "72 2.4082277 2362 2.809134006500244\n"
     ]
    },
    {
     "name": "stderr",
     "output_type": "stream",
     "text": [
      " 43%|████▎     | 33/77 [00:08<00:10,  4.20it/s]"
     ]
    },
    {
     "name": "stdout",
     "output_type": "stream",
     "text": [
      "53 2.577605 2362 2.809134006500244\n"
     ]
    },
    {
     "name": "stderr",
     "output_type": "stream",
     "text": [
      " 44%|████▍     | 34/77 [00:08<00:10,  4.26it/s]"
     ]
    },
    {
     "name": "stdout",
     "output_type": "stream",
     "text": [
      "34 2.668302 2362 2.809134006500244\n"
     ]
    },
    {
     "name": "stderr",
     "output_type": "stream",
     "text": [
      " 45%|████▌     | 35/77 [00:08<00:09,  4.26it/s]"
     ]
    },
    {
     "name": "stdout",
     "output_type": "stream",
     "text": [
      "95 1.8270743 2362 2.809134006500244\n"
     ]
    },
    {
     "name": "stderr",
     "output_type": "stream",
     "text": [
      " 47%|████▋     | 36/77 [00:09<00:09,  4.34it/s]"
     ]
    },
    {
     "name": "stdout",
     "output_type": "stream",
     "text": [
      "77 2.085215 2362 2.809134006500244\n"
     ]
    },
    {
     "name": "stderr",
     "output_type": "stream",
     "text": [
      " 48%|████▊     | 37/77 [00:09<00:09,  4.35it/s]"
     ]
    },
    {
     "name": "stdout",
     "output_type": "stream",
     "text": [
      "58 2.298025 2362 2.809134006500244\n"
     ]
    },
    {
     "name": "stderr",
     "output_type": "stream",
     "text": [
      " 49%|████▉     | 38/77 [00:09<00:09,  4.31it/s]"
     ]
    },
    {
     "name": "stdout",
     "output_type": "stream",
     "text": [
      "39 2.4247618 2362 2.809134006500244\n"
     ]
    },
    {
     "name": "stderr",
     "output_type": "stream",
     "text": [
      " 51%|█████     | 39/77 [00:09<00:09,  4.06it/s]"
     ]
    },
    {
     "name": "stdout",
     "output_type": "stream",
     "text": [
      "20 2.4877198 2362 2.809134006500244\n"
     ]
    },
    {
     "name": "stderr",
     "output_type": "stream",
     "text": [
      " 52%|█████▏    | 40/77 [00:10<00:09,  3.94it/s]"
     ]
    },
    {
     "name": "stdout",
     "output_type": "stream",
     "text": [
      "81 1.7506394 2362 2.809134006500244\n"
     ]
    },
    {
     "name": "stderr",
     "output_type": "stream",
     "text": [
      " 53%|█████▎    | 41/77 [00:10<00:09,  4.00it/s]"
     ]
    },
    {
     "name": "stdout",
     "output_type": "stream",
     "text": [
      "63 1.963037 2362 2.809134006500244\n"
     ]
    },
    {
     "name": "stderr",
     "output_type": "stream",
     "text": [
      " 55%|█████▍    | 42/77 [00:10<00:08,  4.02it/s]"
     ]
    },
    {
     "name": "stdout",
     "output_type": "stream",
     "text": [
      "44 2.125091 2362 2.809134006500244\n"
     ]
    },
    {
     "name": "stderr",
     "output_type": "stream",
     "text": [
      " 56%|█████▌    | 43/77 [00:10<00:08,  3.97it/s]"
     ]
    },
    {
     "name": "stdout",
     "output_type": "stream",
     "text": [
      "25 2.2173555 2362 2.809134006500244\n"
     ]
    },
    {
     "name": "stderr",
     "output_type": "stream",
     "text": [
      " 57%|█████▋    | 44/77 [00:11<00:08,  3.94it/s]"
     ]
    },
    {
     "name": "stdout",
     "output_type": "stream",
     "text": [
      "6 2.2620728 2362 2.809134006500244\n"
     ]
    },
    {
     "name": "stderr",
     "output_type": "stream",
     "text": [
      " 58%|█████▊    | 45/77 [00:11<00:08,  3.87it/s]"
     ]
    },
    {
     "name": "stdout",
     "output_type": "stream",
     "text": [
      "67 1.6434348 2362 2.809134006500244\n"
     ]
    },
    {
     "name": "stderr",
     "output_type": "stream",
     "text": [
      " 60%|█████▉    | 46/77 [00:11<00:07,  3.93it/s]"
     ]
    },
    {
     "name": "stdout",
     "output_type": "stream",
     "text": [
      "49 1.8067439 2362 2.809134006500244\n"
     ]
    },
    {
     "name": "stderr",
     "output_type": "stream",
     "text": [
      " 61%|██████    | 47/77 [00:11<00:07,  4.08it/s]"
     ]
    },
    {
     "name": "stdout",
     "output_type": "stream",
     "text": [
      "30 1.9252095 2362 2.809134006500244\n"
     ]
    },
    {
     "name": "stderr",
     "output_type": "stream",
     "text": [
      " 62%|██████▏   | 48/77 [00:12<00:06,  4.16it/s]"
     ]
    },
    {
     "name": "stdout",
     "output_type": "stream",
     "text": [
      "92 2.022107 2362 2.809134006500244\n"
     ]
    },
    {
     "name": "stderr",
     "output_type": "stream",
     "text": [
      " 64%|██████▎   | 49/77 [00:12<00:07,  3.94it/s]"
     ]
    },
    {
     "name": "stdout",
     "output_type": "stream",
     "text": [
      "0 1.6990737 2362 2.809134006500244\n"
     ]
    },
    {
     "name": "stderr",
     "output_type": "stream",
     "text": [
      " 65%|██████▍   | 50/77 [00:12<00:06,  3.91it/s]"
     ]
    },
    {
     "name": "stdout",
     "output_type": "stream",
     "text": [
      "54 1.5205414 2362 2.809134006500244\n"
     ]
    },
    {
     "name": "stderr",
     "output_type": "stream",
     "text": [
      " 66%|██████▌   | 51/77 [00:12<00:06,  4.06it/s]"
     ]
    },
    {
     "name": "stdout",
     "output_type": "stream",
     "text": [
      "35 1.6338406 2362 2.809134006500244\n"
     ]
    },
    {
     "name": "stderr",
     "output_type": "stream",
     "text": [
      " 68%|██████▊   | 52/77 [00:13<00:06,  3.96it/s]"
     ]
    },
    {
     "name": "stdout",
     "output_type": "stream",
     "text": [
      "97 1.7648525 2362 2.809134006500244\n"
     ]
    },
    {
     "name": "stderr",
     "output_type": "stream",
     "text": [
      " 69%|██████▉   | 53/77 [00:13<00:05,  4.01it/s]"
     ]
    },
    {
     "name": "stdout",
     "output_type": "stream",
     "text": [
      "79 1.81639 2362 2.809134006500244\n"
     ]
    },
    {
     "name": "stderr",
     "output_type": "stream",
     "text": [
      " 70%|███████   | 54/77 [00:13<00:05,  3.98it/s]"
     ]
    },
    {
     "name": "stdout",
     "output_type": "stream",
     "text": [
      "6 1.6288905 2362 2.809134006500244\n"
     ]
    },
    {
     "name": "stderr",
     "output_type": "stream",
     "text": [
      " 71%|███████▏  | 55/77 [00:13<00:05,  4.04it/s]"
     ]
    },
    {
     "name": "stdout",
     "output_type": "stream",
     "text": [
      "95 1.4917223 2362 2.809134006500244\n"
     ]
    },
    {
     "name": "stderr",
     "output_type": "stream",
     "text": [
      " 73%|███████▎  | 56/77 [00:14<00:04,  4.24it/s]"
     ]
    },
    {
     "name": "stdout",
     "output_type": "stream",
     "text": [
      "99 1.737895 2362 2.809134006500244\n"
     ]
    },
    {
     "name": "stderr",
     "output_type": "stream",
     "text": [
      " 74%|███████▍  | 57/77 [00:14<00:04,  4.28it/s]"
     ]
    },
    {
     "name": "stdout",
     "output_type": "stream",
     "text": [
      "80 1.8109528 2362 2.809134006500244\n"
     ]
    },
    {
     "name": "stderr",
     "output_type": "stream",
     "text": [
      " 75%|███████▌  | 58/77 [00:14<00:04,  4.35it/s]"
     ]
    },
    {
     "name": "stdout",
     "output_type": "stream",
     "text": [
      "61 1.8495424 2362 2.809134006500244\n"
     ]
    },
    {
     "name": "stderr",
     "output_type": "stream",
     "text": [
      " 77%|███████▋  | 59/77 [00:14<00:04,  4.13it/s]"
     ]
    },
    {
     "name": "stdout",
     "output_type": "stream",
     "text": [
      "0 1.5349412 2362 2.809134006500244\n"
     ]
    },
    {
     "name": "stderr",
     "output_type": "stream",
     "text": [
      " 78%|███████▊  | 60/77 [00:15<00:04,  4.08it/s]"
     ]
    },
    {
     "name": "stdout",
     "output_type": "stream",
     "text": [
      "94 1.7152143 2362 2.809134006500244\n"
     ]
    },
    {
     "name": "stderr",
     "output_type": "stream",
     "text": [
      " 79%|███████▉  | 61/77 [00:15<00:03,  4.19it/s]"
     ]
    },
    {
     "name": "stdout",
     "output_type": "stream",
     "text": [
      "85 1.9483032 2362 2.809134006500244\n"
     ]
    },
    {
     "name": "stderr",
     "output_type": "stream",
     "text": [
      " 81%|████████  | 62/77 [00:15<00:03,  4.21it/s]"
     ]
    },
    {
     "name": "stdout",
     "output_type": "stream",
     "text": [
      "66 2.0073943 2362 2.809134006500244\n"
     ]
    },
    {
     "name": "stderr",
     "output_type": "stream",
     "text": [
      " 82%|████████▏ | 63/77 [00:15<00:03,  4.30it/s]"
     ]
    },
    {
     "name": "stdout",
     "output_type": "stream",
     "text": [
      "47 2.02526 2362 2.809134006500244\n"
     ]
    },
    {
     "name": "stderr",
     "output_type": "stream",
     "text": [
      " 83%|████████▎ | 64/77 [00:15<00:03,  4.26it/s]"
     ]
    },
    {
     "name": "stdout",
     "output_type": "stream",
     "text": [
      "99 1.7312143 2362 2.809134006500244\n"
     ]
    },
    {
     "name": "stderr",
     "output_type": "stream",
     "text": [
      " 84%|████████▍ | 65/77 [00:16<00:02,  4.28it/s]"
     ]
    },
    {
     "name": "stdout",
     "output_type": "stream",
     "text": [
      "90 2.0194514 2362 2.809134006500244\n"
     ]
    },
    {
     "name": "stderr",
     "output_type": "stream",
     "text": [
      " 87%|████████▋ | 67/77 [00:16<00:02,  4.52it/s]"
     ]
    },
    {
     "name": "stdout",
     "output_type": "stream",
     "text": [
      "71 2.1722033 2362 2.809134006500244\n",
      "52 2.2187386 2362 2.809134006500244\n"
     ]
    },
    {
     "name": "stderr",
     "output_type": "stream",
     "text": [
      " 88%|████████▊ | 68/77 [00:16<00:02,  4.42it/s]"
     ]
    },
    {
     "name": "stdout",
     "output_type": "stream",
     "text": [
      "34 2.2391179 2362 2.809134006500244\n"
     ]
    },
    {
     "name": "stderr",
     "output_type": "stream",
     "text": [
      " 90%|████████▉ | 69/77 [00:17<00:01,  4.32it/s]"
     ]
    },
    {
     "name": "stdout",
     "output_type": "stream",
     "text": [
      "94 1.8983072 2362 2.809134006500244\n"
     ]
    },
    {
     "name": "stderr",
     "output_type": "stream",
     "text": [
      " 91%|█████████ | 70/77 [00:17<00:01,  4.41it/s]"
     ]
    },
    {
     "name": "stdout",
     "output_type": "stream",
     "text": [
      "76 2.2132993 2362 2.809134006500244\n"
     ]
    },
    {
     "name": "stderr",
     "output_type": "stream",
     "text": [
      " 92%|█████████▏| 71/77 [00:17<00:01,  4.24it/s]"
     ]
    },
    {
     "name": "stdout",
     "output_type": "stream",
     "text": [
      "57 2.382669 2362 2.809134006500244\n"
     ]
    },
    {
     "name": "stderr",
     "output_type": "stream",
     "text": [
      " 94%|█████████▎| 72/77 [00:17<00:01,  4.31it/s]"
     ]
    },
    {
     "name": "stdout",
     "output_type": "stream",
     "text": [
      "38 2.4248962 2362 2.809134006500244\n"
     ]
    },
    {
     "name": "stderr",
     "output_type": "stream",
     "text": [
      " 95%|█████████▍| 73/77 [00:18<00:00,  4.15it/s]"
     ]
    },
    {
     "name": "stdout",
     "output_type": "stream",
     "text": [
      "19 2.4088182 2362 2.809134006500244\n"
     ]
    },
    {
     "name": "stderr",
     "output_type": "stream",
     "text": [
      " 96%|█████████▌| 74/77 [00:18<00:00,  4.00it/s]"
     ]
    },
    {
     "name": "stdout",
     "output_type": "stream",
     "text": [
      "80 2.0063941 2362 2.809134006500244\n"
     ]
    },
    {
     "name": "stderr",
     "output_type": "stream",
     "text": [
      " 97%|█████████▋| 75/77 [00:18<00:00,  3.91it/s]"
     ]
    },
    {
     "name": "stdout",
     "output_type": "stream",
     "text": [
      "62 2.3406932 2362 2.809134006500244\n"
     ]
    },
    {
     "name": "stderr",
     "output_type": "stream",
     "text": [
      " 99%|█████████▊| 76/77 [00:18<00:00,  4.00it/s]"
     ]
    },
    {
     "name": "stdout",
     "output_type": "stream",
     "text": [
      "43 2.5281935 2362 2.809134006500244\n"
     ]
    },
    {
     "name": "stderr",
     "output_type": "stream",
     "text": [
      "100%|██████████| 77/77 [00:19<00:00,  4.02it/s]"
     ]
    },
    {
     "name": "stdout",
     "output_type": "stream",
     "text": [
      "24 2.5833752 2362 2.809134006500244\n"
     ]
    },
    {
     "name": "stderr",
     "output_type": "stream",
     "text": [
      "78it [00:19,  4.04it/s]                        "
     ]
    },
    {
     "name": "stdout",
     "output_type": "stream",
     "text": [
      "5 2.571495 2362 2.809134006500244\n"
     ]
    },
    {
     "name": "stderr",
     "output_type": "stream",
     "text": [
      "\n"
     ]
    }
   ],
   "source": [
    "batch_size = 100\n",
    "\n",
    "for batch_idx, batch in tqdm(enumerate(gabor_set.image_batches(batch_size)), total=n_images//batch_size):\n",
    "    if batch.shape[0] != batch_size:\n",
    "        batch_size = batch.shape[0]\n",
    "        \n",
    "    images_batch = batch.reshape((batch_size,) + tuple(gabor_set.canvas_size))\n",
    "    images_batch = np.expand_dims(images_batch, axis=1)\n",
    "    images_batch = torch.tensor(images_batch).float()\n",
    "    activations_batch = model(images_batch, data_key=data_key).detach().numpy().squeeze()\n",
    "    \n",
    "    new_max_idx = activations_batch.argmax(0)\n",
    "    new_max_activations = activations_batch[new_max_idx, range(len(new_max_idx))]\n",
    "    \n",
    "    argmax_activations[new_max_activations > max_activations] = new_max_idx[new_max_activations > max_activations] + batch_size * batch_idx\n",
    "    max_activations[new_max_activations > max_activations] = new_max_activations[new_max_activations > max_activations]\n",
    "    print(new_max_idx[14], new_max_activations[14], argmax_activations[14], max_activations[14])"
   ]
  },
  {
   "cell_type": "code",
   "execution_count": 130,
   "metadata": {},
   "outputs": [
    {
     "name": "stdout",
     "output_type": "stream",
     "text": [
      "0 2386 1.5385682582855225\n",
      "1 4711 3.530632495880127\n",
      "2 2362 6.471563339233398\n",
      "3 3325 1.9620988368988037\n",
      "4 3844 0.5160417556762695\n",
      "5 3357 3.5142745971679688\n",
      "6 4306 4.167010307312012\n",
      "7 7048 3.544290065765381\n",
      "8 4792 2.6409525871276855\n",
      "9 5787 1.7902405261993408\n",
      "10 6733 3.234736204147339\n",
      "11 4329 2.459527015686035\n",
      "12 1297 1.6471872329711914\n",
      "13 4711 2.650205135345459\n",
      "14 2362 2.809134006500244\n",
      "15 3811 0.6851619482040405\n",
      "16 4306 3.7172889709472656\n",
      "17 2757 2.3846678733825684\n",
      "18 3843 1.204512119293213\n",
      "19 5683 3.543862819671631\n",
      "20 6736 0.6416008472442627\n",
      "21 1873 1.6716537475585938\n",
      "22 2677 1.9756301641464233\n",
      "23 3334 0.5127195119857788\n",
      "24 3649 1.1462912559509277\n",
      "25 2683 0.2861940860748291\n",
      "26 2191 0.1951480507850647\n",
      "27 2848 0.9392144083976746\n",
      "28 6734 0.5643815398216248\n"
     ]
    }
   ],
   "source": [
    "for i, act in enumerate(argmax_activations):\n",
    "    print(i, act, max_activations[i])"
   ]
  },
  {
   "cell_type": "code",
   "execution_count": 123,
   "metadata": {},
   "outputs": [],
   "source": [
    "params = [None] * n_units  # init list with parameter dictionaries\n",
    "for unit, opt_param_idx in enumerate(argmax_activations):\n",
    "    params[unit] = gabor_set.params_dict_from_idx(opt_param_idx)\n",
    "    params[unit]['location_width'] = params[unit]['location'][0]\n",
    "    params[unit]['location_height'] = params[unit]['location'][1]"
   ]
  },
  {
   "cell_type": "code",
   "execution_count": 168,
   "metadata": {},
   "outputs": [
    {
     "name": "stderr",
     "output_type": "stream",
     "text": [
      " 14%|█▍        | 4/29 [00:00<00:01, 17.94it/s]"
     ]
    },
    {
     "name": "stdout",
     "output_type": "stream",
     "text": [
      "0 1.4947119\n",
      "1 1.9905772\n",
      "2 2.8091338\n",
      "3 2.046333\n",
      "4 1.3804504\n"
     ]
    },
    {
     "name": "stderr",
     "output_type": "stream",
     "text": [
      " 28%|██▊       | 8/29 [00:00<00:01, 18.69it/s]"
     ]
    },
    {
     "name": "stdout",
     "output_type": "stream",
     "text": [
      "5 1.4135914\n",
      "6 2.262073\n",
      "7 1.9715703\n",
      "8 2.022107\n"
     ]
    },
    {
     "name": "stderr",
     "output_type": "stream",
     "text": [
      " 41%|████▏     | 12/29 [00:00<00:00, 18.90it/s]"
     ]
    },
    {
     "name": "stdout",
     "output_type": "stream",
     "text": [
      "9 1.4544398\n",
      "10 2.2164295\n",
      "11 1.4286437\n",
      "12 1.0195343\n"
     ]
    },
    {
     "name": "stderr",
     "output_type": "stream",
     "text": [
      " 55%|█████▌    | 16/29 [00:00<00:00, 19.19it/s]"
     ]
    },
    {
     "name": "stdout",
     "output_type": "stream",
     "text": [
      "13 1.9905772\n",
      "14 2.8091338\n",
      "15 1.9231515\n",
      "16 2.262073\n"
     ]
    },
    {
     "name": "stderr",
     "output_type": "stream",
     "text": [
      " 69%|██████▉   | 20/29 [00:01<00:00, 19.34it/s]"
     ]
    },
    {
     "name": "stdout",
     "output_type": "stream",
     "text": [
      "17 2.3092673\n",
      "18 1.3891302\n",
      "19 1.5546594\n",
      "20 1.2459147\n",
      "21 1.1850526\n"
     ]
    },
    {
     "name": "stderr",
     "output_type": "stream",
     "text": [
      " 86%|████████▌ | 25/29 [00:01<00:00, 19.57it/s]"
     ]
    },
    {
     "name": "stdout",
     "output_type": "stream",
     "text": [
      "22 2.155259\n",
      "23 2.668302\n",
      "24 1.9950479\n",
      "25 1.232087\n"
     ]
    },
    {
     "name": "stderr",
     "output_type": "stream",
     "text": [
      "100%|██████████| 29/29 [00:01<00:00, 19.38it/s]"
     ]
    },
    {
     "name": "stdout",
     "output_type": "stream",
     "text": [
      "26 2.1596901\n",
      "27 2.7784202\n",
      "28 2.2391179\n"
     ]
    },
    {
     "name": "stderr",
     "output_type": "stream",
     "text": [
      "\n"
     ]
    }
   ],
   "source": [
    "def get_responses(model, data_key, best_params_list, gabor_set, n_units):\n",
    "    for unit in tqdm(range(n_units)):\n",
    "        best_gabor_img = gabor_set.get_image_from_params(best_params_list[unit])\n",
    "        image = torch.tensor(best_gabor_img)\n",
    "        image = image.expand(1, 1, w, h).float()\n",
    "\n",
    "        response = model(image, data_key=data_key).detach().numpy().squeeze()\n",
    "        print(unit, response[14])\n",
    "        \n",
    "        yield response\n",
    "\n",
    "responses = np.array(list(get_responses(model, data_key, params, gabor_set, n_units)))"
   ]
  },
  {
   "cell_type": "code",
   "execution_count": 182,
   "metadata": {},
   "outputs": [
    {
     "name": "stdout",
     "output_type": "stream",
     "text": [
      "{'location': [20.0, 12.0], 'size': 30.0, 'spatial_frequency': 0.05555555555555555, 'contrast': 0.5, 'orientation': 1.7453292519943295, 'phase': 2.792526803190927, 'gamma': 1.0, 'grey_level': 0.0, 'location_width': 20.0, 'location_height': 12.0}\n",
      "{'location': [26.0, 12.0], 'size': 30.0, 'spatial_frequency': 0.05555555555555555, 'contrast': 0.5, 'orientation': 1.7453292519943295, 'phase': 0.6981317007977318, 'gamma': 1.0, 'grey_level': 0.0, 'location_width': 26.0, 'location_height': 12.0}\n"
     ]
    }
   ],
   "source": [
    "print(best_params[2])\n",
    "print(best_params[14])"
   ]
  },
  {
   "cell_type": "code",
   "execution_count": 181,
   "metadata": {},
   "outputs": [
    {
     "name": "stdout",
     "output_type": "stream",
     "text": [
      "[1.3414493  3.291411   6.4715633  1.8404382  0.45525503 1.5158104\n",
      " 4.017432   3.3237853  2.5116642  1.5649728  2.6781077  2.0257502\n",
      " 1.4092338  2.3767889  2.8091338  0.6172382  3.529732   2.3741393\n",
      " 0.9456273  2.7250066  0.37352693 0.12308645 1.853334   0.48378766\n",
      " 0.8290149  0.02591443 0.12990904 0.9066149  0.5494209 ]\n"
     ]
    }
   ],
   "source": [
    "param = gabor_set.params_dict_from_idx(argmax_activations[2])\n",
    "param['location_width'] = param['location'][0]\n",
    "param['location_height'] = param['location'][1]\n",
    "\n",
    "best_gabor_img = gabor_set.get_image_from_params(param)\n",
    "image = torch.tensor(best_gabor_img)\n",
    "image = image.expand(1, 1, w, h).float()\n",
    "\n",
    "response = model(image, data_key=data_key).detach().numpy().squeeze()\n",
    "\n",
    "print(response)"
   ]
  },
  {
   "cell_type": "code",
   "execution_count": 228,
   "metadata": {},
   "outputs": [],
   "source": [
    "c1 = []\n",
    "c2 = []\n",
    "for response in np.array(responses).T:\n",
    "    if len(np.array(response)[np.array(response) == np.array(response).max()]) == 1:\n",
    "        c1.append('tab:blue')\n",
    "        c2.append('#fff')\n",
    "    else:\n",
    "        c1.append('tab:blue')\n",
    "        c2.append('tab:red')\n",
    "        \n",
    "c = c1 + c2"
   ]
  },
  {
   "cell_type": "code",
   "execution_count": 232,
   "metadata": {},
   "outputs": [
    {
     "data": {
      "image/png": "[encoded data removed]",
      "text/plain": [
       "<Figure size 432x288 with 1 Axes>"
      ]
     },
     "metadata": {
      "needs_background": "light"
     },
     "output_type": "display_data"
    }
   ],
   "source": [
    "plt.plot(np.arange(len(responses)), np.arange(len(responses)), c='tab:orange')\n",
    "plt.scatter([np.arange(len(responses))]*2, np.array(responses).argsort(0)[::-1][:2], c=c, zorder=10)\n",
    "plt.xlabel('unit_idx')\n",
    "plt.ylabel('gabor_idx')\n",
    "plt.show()"
   ]
  },
  {
   "cell_type": "code",
   "execution_count": 245,
   "metadata": {},
   "outputs": [],
   "source": [
    "for unit, response in enumerate(np.array(responses).T):\n",
    "    if not np.any(np.where(response == response.max())[0] == unit):\n",
    "        print('failed')\n",
    "        break"
   ]
  },
  {
   "cell_type": "code",
   "execution_count": null,
   "metadata": {},
   "outputs": [],
   "source": []
  },
  {
   "cell_type": "code",
   "execution_count": 5,
   "metadata": {},
   "outputs": [],
   "source": [
    "from nnidentify.fitgabor.fitgabor import GaborGenerator, trainer_fn"
   ]
  },
  {
   "cell_type": "code",
   "execution_count": 9,
   "metadata": {},
   "outputs": [
    {
     "name": "stderr",
     "output_type": "stream",
     "text": [
      "Loss: -1.58: 100%|██████████| 300/300 [00:09<00:00, 32.24it/s]\n"
     ]
    }
   ],
   "source": [
    "gab_gen = GaborGenerator((h, w))\n",
    "\n",
    "def neuron(x, *args, **kwargs):\n",
    "    return model(x, data_key='3631807112901', *args, **kwargs)[:, 0]\n",
    "\n",
    "gab_gen, _ = trainer_fn(gab_gen, neuron, epochs=300, lr=0.01, fixed_std=0.1)"
   ]
  },
  {
   "cell_type": "code",
   "execution_count": 31,
   "metadata": {},
   "outputs": [
    {
     "name": "stderr",
     "output_type": "stream",
     "text": [
      "Loss: -1.61: 100%|██████████| 1000/1000 [00:24<00:00, 41.09it/s]\n",
      "Loss: -5.97: 100%|██████████| 1000/1000 [00:17<00:00, 56.62it/s]\n",
      "Loss: -8.30: 100%|██████████| 1000/1000 [00:16<00:00, 61.92it/s]\n",
      "Loss: -2.65: 100%|██████████| 1000/1000 [00:16<00:00, 59.51it/s]\n",
      "Loss: -0.57: 100%|██████████| 1000/1000 [00:16<00:00, 61.81it/s]\n",
      "Loss: -5.32: 100%|██████████| 1000/1000 [00:16<00:00, 62.07it/s]\n",
      "Loss: -5.23: 100%|██████████| 1000/1000 [00:16<00:00, 61.67it/s]\n",
      "Loss: -4.65: 100%|██████████| 1000/1000 [00:16<00:00, 62.23it/s]\n",
      "Loss: -2.89: 100%|██████████| 1000/1000 [00:16<00:00, 61.74it/s]\n",
      "Loss: -2.40: 100%|██████████| 1000/1000 [00:16<00:00, 61.63it/s]\n"
     ]
    }
   ],
   "source": [
    "gd_imgs = []\n",
    "for i in range(10):\n",
    "    def neuron(x, *args, **kwargs):\n",
    "        return model(x, data_key='3631807112901', *args, **kwargs)[:, i]\n",
    "\n",
    "    gab_gen, _ = trainer_fn(gab_gen, neuron, epochs=1000, lr=0.01, fixed_std=0.1)\n",
    "    gd_imgs.append(gab_gen())"
   ]
  },
  {
   "cell_type": "code",
   "execution_count": 33,
   "metadata": {},
   "outputs": [
    {
     "name": "stderr",
     "output_type": "stream",
     "text": [
      "100%|██████████| 10/10 [00:00<00:00, 440.25it/s]\n"
     ]
    },
    {
     "data": {
      "image/png": "[encoded data removed]",
      "text/plain": [
       "<Figure size 1440x360 with 20 Axes>"
      ]
     },
     "metadata": {},
     "output_type": "display_data"
    }
   ],
   "source": [
    "fig, axs = plt.subplots(2, 10, figsize=(20, 5))\n",
    "\n",
    "axs[0, 0].set_ylabel('Bruteforce')\n",
    "axs[1, 0].set_ylabel('GD')\n",
    "\n",
    "for unit in tqdm(range(10)):\n",
    "    best_gabor_img = gabor_set.get_image_from_params(best_params[unit])\n",
    "    axs[0, unit].imshow(best_gabor_img, cmap='gray')\n",
    "    axs[0, unit].set_xticks([])\n",
    "    axs[0, unit].set_yticks([])\n",
    "    \n",
    "    axs[1, unit].imshow(gd_imgs[unit].squeeze().detach().numpy(), cmap='gray')\n",
    "    axs[1, unit].set_xticks([])\n",
    "    axs[1, unit].set_yticks([])\n",
    "    \n",
    "plt.savefig('imgs/bruteforce_vs_GD.png')\n",
    "plt.show()"
   ]
  },
  {
   "cell_type": "markdown",
   "metadata": {},
   "source": [
    "## Plot Gabors"
   ]
  },
  {
   "cell_type": "code",
   "execution_count": 36,
   "metadata": {},
   "outputs": [
    {
     "data": {
      "image/png": "[encoded data removed]",
      "text/plain": [
       "<Figure size 576x480.24 with 30 Axes>"
      ]
     },
     "metadata": {
      "needs_background": "light"
     },
     "output_type": "display_data"
    }
   ],
   "source": [
    "fig, axs = plt.subplots(5, 6, figsize=(8, 6.67))\n",
    "\n",
    "axs.ravel()[-1].axis('off')\n",
    "\n",
    "for i, ax in enumerate(axs.ravel()[:-1]):\n",
    "    best_gabor_img = gabor_set.get_image_from_params(best_params[i])\n",
    "    ax.imshow(best_gabor_img, cmap=\"gray\")\n",
    "    ax.axis(\"off\")\n",
    "    \n",
    "plt.suptitle('Gabors')\n",
    "plt.savefig('gabors.png', dpi=300)\n",
    "plt.show()"
   ]
  },
  {
   "cell_type": "code",
   "execution_count": null,
   "metadata": {},
   "outputs": [],
   "source": []
  }
 ],
 "metadata": {
  "kernelspec": {
   "display_name": "Python 3",
   "language": "python",
   "name": "python3"
  },
  "language_info": {
   "codemirror_mode": {
    "name": "ipython",
    "version": 3
   },
   "file_extension": ".py",
   "mimetype": "text/x-python",
   "name": "python",
   "nbconvert_exporter": "python",
   "pygments_lexer": "ipython3",
   "version": "3.8.0"
  }
 },
 "nbformat": 4,
 "nbformat_minor": 4
}
